{
 "cells": [
  {
   "cell_type": "code",
   "execution_count": 1,
   "metadata": {},
   "outputs": [],
   "source": [
    "# Imports\n",
    "import numpy as np\n",
    "import matplotlib.pyplot as plt\n",
    "from scipy import optimize\n",
    "import ipywidgets as widgets\n",
    "import sympy as sm\n",
    "import matplotlib.pyplot as plt\n",
    "from mpl_toolkits.mplot3d import Axes3D\n",
    "import math\n",
    "import itertools\n",
    "import time\n",
    "from matplotlib.ticker import FuncFormatter"
   ]
  },
  {
   "cell_type": "markdown",
   "metadata": {},
   "source": [
    "# Problem 1: Human capital accumulation"
   ]
  },
  {
   "cell_type": "markdown",
   "metadata": {},
   "source": [
    "# Question 1.1"
   ]
  },
  {
   "cell_type": "markdown",
   "metadata": {},
   "source": [
    "In this question we will solve the model in period two, where we take the level of human capital as given."
   ]
  },
  {
   "cell_type": "code",
   "execution_count": 2,
   "metadata": {},
   "outputs": [],
   "source": [
    "# Defining parameters\n",
    "rho = 2\n",
    "beta = 0.96\n",
    "gamma_1 = 0.1\n",
    "w = 2\n",
    "b_1 = 1\n",
    "Delta = .1\n",
    "h_vec = np.linspace(0.1,1.5,100)"
   ]
  },
  {
   "cell_type": "code",
   "execution_count": 3,
   "metadata": {},
   "outputs": [],
   "source": [
    "## This section defines a bunch of functions in order to solve the model in period 2.\n",
    "\n",
    "# Defining the utility function\n",
    "def utility_1(c,rho):\n",
    "    \"\"\" \n",
    "    The utility function \n",
    "\n",
    "    Args: \n",
    "        c (type: float): The consumption\n",
    "        rho (type: float): The coeffcient of relative risk aversion. Has to be positive.\n",
    "\n",
    "    Returns: \n",
    "        The utility (float) given consumption and a coeffcient of relative risk aversion.      \n",
    "    \"\"\"\n",
    "    \n",
    "    return c**(1-rho)/(1-rho)\n",
    "\n",
    "\n",
    "# Defining the net utility given level of human capital, labor supply and parameters\n",
    "def v2(h2,l2,rho,gamma,w,b):\n",
    "    \"\"\" \n",
    "    The net utility taking account for disutility of working \n",
    "\n",
    "    Args: \n",
    "        h2 (type: float, list): Level of human capital\n",
    "        l2 (type: int, boolean): Dummy of working (l2=1) or not working (l2=0)\n",
    "        rho (type: float): The coeffcient of relative risk aversion. Has to be positive.\n",
    "        gamma (type: float): Meassuring the disutility of working. Has to be posistive.\n",
    "        w (type: float): The wage. Has to be positive.\n",
    "        b (type: float): The level of benefits if not working. Has to be positive.\n",
    "\n",
    "    Returns: \n",
    "        The net utility (float,list) given level of human capital, labor supply and parameters.      \n",
    "        The type depends on the type of h2\n",
    "    \"\"\"\n",
    "    \n",
    "    if l2 == 0: # Calculate the utility if not working\n",
    "        return utility_1(b,rho)\n",
    "    if l2 == 1: # Calculate the utility if working \n",
    "        return utility_1(w*h2,rho)-gamma*l2\n",
    "\n",
    "\n",
    "\n",
    "# Defining function of the cutoff level of human capital so a person will choose to work in the second period\n",
    "def h_cutoff(rho,gamma,w,b):\n",
    "    \"\"\" \n",
    "    The cutoff level of human capital so a person will choose to work in the second period\n",
    "\n",
    "    Args: \n",
    "        rho (type: float): The coeffcient of relative risk aversion. Has to be positive.\n",
    "        gamma (type: float): Meassuring the disutility of working. Has to be posistive.\n",
    "        w (type: float): The wage. Has to be positive.\n",
    "        b (type: float): The level of benefits if not working. Has to be positive.\n",
    "\n",
    "    Returns: \n",
    "        A value of human capital (float)     \n",
    "    \"\"\"\n",
    "    \n",
    "    # Defining function that is the squared difference between net utility of working and not working\n",
    "    obj = lambda h: (v2(h,1,rho,gamma,w,b)-v2(h,0,rho,gamma,w,b))**2\n",
    "    x0 = 0 # Initial guess\n",
    "    \n",
    "    # Find the cutoff value by minimizing the squared difference\n",
    "    res_temp = optimize.minimize_scalar(obj,x0,method='bounded',bounds=[0,10])\n",
    "\n",
    "    return res_temp.x\n",
    "    \n",
    "\n",
    "# Define a function to \n",
    "def opt2(u2_nowork,u2_work):\n",
    "    \"\"\" \n",
    "    Solves the model in the second period based on the utility of working and not working\n",
    "\n",
    "    Args: \n",
    "        u2_nowork (type: list, tuple ndarray): A vector of utility if not working\n",
    "        u2_work (type: list, tuple ndarray): A vector of utility if working\n",
    "\n",
    "    Returns: \n",
    "        u2_opt: A vector (ndarray) of the optimal utility for different levels of human capital \n",
    "        l2_opt: A vector (list) of the optimal labor supply for different levels of human capital \n",
    "    \"\"\"  \n",
    "    \n",
    "    # Create a new vector that is the maximum of the two utility vectors above \n",
    "    u2_opt = np.maximum(u2_work,u2_nowork)\n",
    "\n",
    "    l2_opt = [] # Empty list for later purpose\n",
    "    \n",
    "    # Appending the optimal labor supply to the 'l2_opt'-list. Takes the value 1 \n",
    "    # if utility of working is greater than the utility of not working\n",
    "    for i in range(len(h_vec)):\n",
    "        if u2_work[i]>=u2_nowork[i]:\n",
    "            l2_opt.append(1)\n",
    "        else:\n",
    "            l2_opt.append(0)\n",
    "   \n",
    "    return u2_opt, l2_opt\n",
    "\n",
    "\n",
    "# Defining a function which solves the model in the second period\n",
    "def sol2(h_vec,rho,gamma,beta,w,b):\n",
    "    \"\"\" \n",
    "    Solves the model in the second period taking the level of human capital \n",
    "    as given (not as a function of human capital and labor supply in the first period)\n",
    "\n",
    "    Args: \n",
    "        h_vec (type: list, tuple, ndarray): Vector of different levels of human capital\n",
    "        rho (type: float): The coeffcient of relative risk aversion. Has to be positive.\n",
    "        gamma (type: float): Meassuring the disutility of working. Has to be posistive.\n",
    "        w (type: float): The wage. Has to be positive.\n",
    "        b (type: float): The level of benefits if not working. Has to be positive.\n",
    "\n",
    "    Returns: \n",
    "        u2_nowork: A vector (ndarray) of the utility if not working for different levels of human capital \n",
    "        u2_work: A vector (ndarray) of the utility if  working for different levels of human capital \n",
    "        u2_opt: A vector (ndarray) of the optimal utility for different levels of human capital \n",
    "        l2_opt: A vector (list) of the optimal labor supply for different levels of human capital \n",
    "    \"\"\"  \n",
    "    \n",
    "    # Generates two vectors: the net utility if working or not working for different levels of human capital\n",
    "    u2_nowork = np.zeros(len(h_vec)) + v2(h_vec,0,rho,gamma,w,b)\n",
    "    u2_work = v2(h_vec,1,rho,gamma,w,b)\n",
    "\n",
    "    u2_opt, l2_opt = opt2(u2_nowork, u2_work)\n",
    "    \n",
    "    return u2_nowork, u2_work, u2_opt, l2_opt"
   ]
  },
  {
   "cell_type": "code",
   "execution_count": 4,
   "metadata": {},
   "outputs": [
    {
     "name": "stdout",
     "output_type": "stream",
     "text": [
      "The worker will choose to work if h > 0.556\n",
      " \n"
     ]
    },
    {
     "data": {
      "image/png": "[encoded data removed]",
      "text/plain": [
       "<Figure size 432x720 with 2 Axes>"
      ]
     },
     "metadata": {
      "needs_background": "light"
     },
     "output_type": "display_data"
    }
   ],
   "source": [
    "# This part solves the model in the second period and plots the utility and labor supply\n",
    "\n",
    "# Call the optimal utility and labor supply as well as the utility of working and not \n",
    "u2_nowork, u2_work, u2_opt, l2_opt = sol2(h_vec,rho,gamma_1,beta,w,b_1)\n",
    "\n",
    "\n",
    "# Plotting the utility levels and optimal level of labor supply\n",
    "fig, (ax1, ax2) = plt.subplots(nrows=2, ncols=1, sharex=True, figsize=(6,10))\n",
    "\n",
    "# Sub_fig 1\n",
    "ax1.plot(h_vec,u2_nowork,label='Utility if $l_2=0$')\n",
    "ax1.plot(h_vec,u2_work, label='Utility if $l_2=1$')\n",
    "ax1.plot(h_vec,u2_opt, linestyle='dashed', color='black', label='Optimal utility')\n",
    "ax1.grid()\n",
    "ax1.legend(loc='lower right')\n",
    "ax1.set_xlabel('$h_2$')\n",
    "ax1.set_ylabel('Utility')\n",
    "ax1.set_title('Figure 1.1: Utility in $2^{nd}$ period');\n",
    "\n",
    "# Sub_fig two\n",
    "ax2.plot(h_vec,l2_opt)\n",
    "ax2.grid()\n",
    "ax2.set_xlabel('$h_2$')\n",
    "ax2.set_ylabel('Labor supply')\n",
    "ax2.set_title('Figure 1.2: Labor supply $2^{nd}$ period');\n",
    "\n",
    "print(f'The worker will choose to work if h > {h_cutoff(rho,gamma_1,w,b_1):.3}\\n ')"
   ]
  },
  {
   "cell_type": "markdown",
   "metadata": {},
   "source": [
    "Figure 1.1 and 1.2 show the utility and the optimal labor supply in the second period, respectively,for given values of $h_2$. If the worker does not work the utility will be the same regardless of the value of $h_2$ as the consumption is equal to the benefits. In contrast, the utility is increasing in human capital if the worker works because the consumption increases in $h_2$. Due to the disutility and low potential consumption, it is optimal for the worker not to work if the level of human capital is low. It will be optimal to be unemployed as long as the level of human capital is below 0.56. With higher levels of human capital it will be better to work as the utility from the higher consumption more than compensate for the disutility of working."
   ]
  },
  {
   "cell_type": "markdown",
   "metadata": {},
   "source": [
    "## Question 1.2"
   ]
  },
  {
   "cell_type": "markdown",
   "metadata": {},
   "source": [
    "In this question we will solve the model in the first period given the level of human capital."
   ]
  },
  {
   "cell_type": "code",
   "execution_count": 5,
   "metadata": {},
   "outputs": [],
   "source": [
    "# This part defines different functions to solve the model in the first period \n",
    "\n",
    "# Creating the expected level of human capital in period 2\n",
    "def h2_exp(h1,l1,Delta):\n",
    "    \"\"\" \n",
    "    The expected value of human capital in the second period \n",
    "\n",
    "    Args: \n",
    "        h1 (type: float, list): Level of human capital in the first period\n",
    "        l1 (type: int, boolean): Labor supply in first period. Has to be a dummy or boolean\n",
    "        Delta (type: float): Potential chok to human capital in period two\n",
    "\n",
    "    Returns: \n",
    "        A value or vector of human capital (float/list). The type depends on the type of h1     \n",
    "    \"\"\"    \n",
    "    \n",
    "    return h1 + l1 + 0.5*Delta # 0.5*Delta is the expected value of the chock to human capital\n",
    "\n",
    "\n",
    "# Defing function to calculate expected utility of period two\n",
    "def v2_exp(h2_exp,rho,gamma,w,b):\n",
    "    \"\"\" \n",
    "    The expected utility of period two\n",
    "\n",
    "    Args: \n",
    "        h2_exp (type: list): List of expected levels of human capital\n",
    "        rho (type: float): The coeffcient of relative risk aversion. Has to be positive.\n",
    "        gamma (type: float): Meassuring the disutility of working. Has to be posistive.\n",
    "        w (type: float): The wage. Has to be positive.\n",
    "        b (type: float): The level of benefits if not working. Has to be positive.\n",
    "\n",
    "    Returns: \n",
    "        v2: The expected utility (list) given level of human capital, labor supply in the first period and parameters.      \n",
    "    \"\"\"\n",
    "    \n",
    "    # Defining variable containing the cutoff value of human capital \n",
    "    # so a person will choose to work in the second period\n",
    "    h2_cutoff = h_cutoff(rho,gamma,w,b)\n",
    "    v2 = [] # Empty list for later purpose\n",
    "    \n",
    "    # Appending the expected utility in the second periods.\n",
    "    # The utility depends on the expected level of human capital is above or below the cutoff value\n",
    "    for i in range(len(h2_exp)):\n",
    "        if h2_exp[i]>=h2_cutoff:\n",
    "            v2.append(utility_1(w*h2_exp[i],rho)-gamma)\n",
    "        if h2_exp[i]<h2_cutoff:\n",
    "            v2.append(utility_1(b,rho))\n",
    "\n",
    "    return v2\n",
    "\n",
    "# Defining a function to calculate the net utility in period one \n",
    "# taking account for the expected utility in the second period\n",
    "def v1(h1,l1,rho,gamma,beta,w,b,Delta):\n",
    "    \"\"\" \n",
    "    The net utility in the first period taking account \n",
    "    for the expected utility in the second period\n",
    "\n",
    "    Args: \n",
    "        h1 (type: float, list): Level of human capital\n",
    "        l1 (type: int, boolean): Dummy of working (l2=1) or not working (l2=0)\n",
    "        rho (type: float): The coeffcient of relative risk aversion. Has to be positive.\n",
    "        gamma (type: float): Meassuring the disutility of working. Has to be posistive.\n",
    "        beta (type: float): The discounting factor of the utilty in the second period. Have to be between 0 and 1.\n",
    "        w (type: float): The wage. Has to be positive.\n",
    "        b (type: float): The level of benefits if not working. Has to be positive.\n",
    "\n",
    "    Returns: \n",
    "        The net utility (ndarray) given level of human capital, labor supply and parameters.      \n",
    "    \"\"\"   \n",
    "    \n",
    "    if l1 == 0:\n",
    "        return utility_1(b,rho) + beta*np.array(v2_exp(h2_exp(h1,l1,Delta),rho,gamma,w,b))\n",
    "    if l1 == 1:\n",
    "        return utility_1(w*h1,rho) - gamma + beta*np.array(v2_exp(h2_exp(h1,l1,Delta),rho,gamma,w,b))\n",
    "\n",
    "\n",
    "\n",
    "# Defining function to solve the model in period 1\n",
    "def sol1(h1_vec,rho,gamma,beta,w,b,Delta):\n",
    "    \"\"\" \n",
    "    Solves the model in the first period for different level of human capital. \n",
    "    \n",
    "    Args: \n",
    "        h1_vec (type: list, tuple, ndarray): Vector of different levels of human capital\n",
    "        rho (type: float): The coeffcient of relative risk aversion. Has to be positive.\n",
    "        gamma (type: float): Meassuring the disutility of working. Has to be posistive.\n",
    "        beta (type: float): The discounting factor of the utilty in the second period. Has to be between 0 and 1.\n",
    "        w (type: float): The wage. Has to be positive.\n",
    "        b (type: float): The level of benefits if not working. Has to be positive.\n",
    "        Delta (type: float): Potential chok to human capital in period two\n",
    "\n",
    "    Returns: \n",
    "        u1_nowork: A vector (ndarray) of the utility if not working for different levels of human capital \n",
    "        u1_work: A vector (ndarray) of the utility if  working for different levels of human capital \n",
    "        u1_opt: A vector (ndarray) of the optimal utility for different levels of human capital \n",
    "        l1_opt: A vector (ndarray) of the optimal labor supply for different levels of human capital \n",
    "    \"\"\"  \n",
    "\n",
    "    # Creating vectors of utility in the first period if not working and working\n",
    "    u1_nowork = v1(h1_vec,0,rho,gamma,beta,w,b,Delta)\n",
    "    u1_work = v1(h1_vec,1,rho,gamma,beta,w,b,Delta)\n",
    "\n",
    "    # Create a new vector that is the maximum of the utility vectors above \n",
    "    u1_opt = np.maximum(u1_work,u1_nowork)\n",
    "\n",
    "    l1_opt = [] # Empty list for later purpose\n",
    "    \n",
    "    # Appending the optimal labor supply to the 'l1_opt'-list. Takes the value 1 \n",
    "    # if utility of working is greater than the utility of not working\n",
    "    for i in range(len(h_vec)):\n",
    "        if u1_work[i]>=u1_nowork[i]:\n",
    "            l1_opt.append(1)\n",
    "        else:\n",
    "            l1_opt.append(0)\n",
    "\n",
    "    return u1_nowork, u1_work, u1_opt, l1_opt\n",
    "\n",
    "\n",
    "# Defining function that calculate the expected utility and labor supply \n",
    "# in the second period based on the labor supply and level of human capital in the first\n",
    "def sol1_2(h1_vec,rho,gamma,beta,w,b,Delta):\n",
    "    \"\"\" \n",
    "    Find the expected labor supply and utility in the second period \n",
    "    based on the labor supply and level of human capital in the first\n",
    "    \n",
    "    Args: \n",
    "        h1_vec (type: list, tuple, ndarray): Vector of different levels of human capital\n",
    "        rho (type: float): The coeffcient of relative risk aversion. Has to be positive.\n",
    "        gamma (type: float): Meassuring the disutility of working. Has to be posistive.\n",
    "        beta (type: float): The discounting factor of the utilty in the second period. Has to be between 0 and 1.\n",
    "        w (type: float): The wage. Has to be positive.\n",
    "        b (type: float): The level of benefits if not working. Has to be positive.\n",
    "        Delta (type: float): Potential chok to human capital in period two\n",
    "\n",
    "    Returns: \n",
    "        u2_opt_nowork1: A vector (ndarray) of the utility in second period if not working in first period for different levels of human capital\n",
    "        l2_opt_nowork1: A vector (list) of labor supply n second period if not working in first period for different levels of human capital\n",
    "        u2_opt_work1: A vector (ndarray) of the utility in second period if working in first period for different levels of human capital\n",
    "        l2_opt_work1: A vector (list) of labor supply n second period if working in first period for different levels of human capital\n",
    "    \"\"\"    \n",
    "    \n",
    "    # Expected level of utility in period 2 if not working in neither periods\n",
    "    u2_nowork_nowork = np.zeros(len(h_vec)) + v2(h2_exp(h1_vec,0,Delta),0,rho,gamma,w,b)\n",
    "    \n",
    "    # Expected level of utility in period 2 if not working first period and working in second period\n",
    "    u2_nowork_work = v2(h2_exp(h1_vec,0,Delta),1,rho,gamma,w,b)\n",
    "\n",
    "    # Find the optimal level of utility and labor supply based on the two vectors of utility just calculated\n",
    "    u2_opt_nowork1, l2_opt_nowork1 = opt2(u2_nowork_nowork,u2_nowork_work)\n",
    "\n",
    "\n",
    "    # Expected level of utility in period 2 if working first period and not working in second period\n",
    "    u2_work_nowork = np.zeros(len(h_vec)) + v2(h2_exp(h1_vec,1,Delta),0,rho,gamma,w,b)\n",
    "\n",
    "    # Expected level of utility in period 2 if working in both periods\n",
    "    u2_work_work = v2(h2_exp(h1_vec,1,Delta),1,rho,gamma,w,b)\n",
    "\n",
    "    # Find the optimal level of utility and labor supply based on the two vectors of utility just calculated\n",
    "    u2_opt_work1, l2_opt_work1 = opt2(u2_work_nowork,u2_work_work)\n",
    "\n",
    "    return u2_opt_nowork1, l2_opt_nowork1, u2_opt_work1, l2_opt_work1\n"
   ]
  },
  {
   "cell_type": "code",
   "execution_count": 6,
   "metadata": {},
   "outputs": [
    {
     "data": {
      "application/vnd.jupyter.widget-view+json": {
       "model_id": "914b712d0ad848b0a029f390cf3ac9d4",
       "version_major": 2,
       "version_minor": 0
      },
      "text/plain": [
       "interactive(children=(RadioButtons(description='Value of $\\\\Delta$', options=(0.1, 0.6), value=0.1), Output())…"
      ]
     },
     "metadata": {},
     "output_type": "display_data"
    }
   ],
   "source": [
    "# This part solves the model in the first perid and plot the utility and labor supply\n",
    "\n",
    "# Defining a function to plot the solution\n",
    "def fig1_2(Delta):\n",
    "    # Call the optimal utility and labor supply in the first period as well as the utility of working and not \n",
    "    u1_nowork, u1_work, u1_opt, l1_opt = sol1(h_vec,rho,gamma_1,beta,w,b_1,Delta)\n",
    "\n",
    "    # Call the optimal utility and labor supply in the second period \n",
    "    # depending on the working and not working in the first period \n",
    "    u2_opt_nowork1, l2_opt_nowork1, u2_opt_work1, l2_opt_work1 = sol1_2(h_vec,rho,gamma_1,beta,w,b_1,Delta)\n",
    "\n",
    "\n",
    "    # Plot the various curves\n",
    "    fig1_2, ((ax1, ax3), (ax2, ax4)) = plt.subplots(nrows=2, ncols=2, sharex=True, figsize=(14,10))\n",
    "\n",
    "\n",
    "    # Sub_fig 1\n",
    "    ax1.plot(h_vec,u1_nowork, label='Utility if $l_1=0$')\n",
    "    ax1.plot(h_vec,u1_work, label='Utility if $l_1=1$')\n",
    "    ax1.plot(h_vec,u1_opt, linestyle='dashed', color='black', label='Optimal utility')\n",
    "    ax1.grid()\n",
    "    ax1.legend(loc='lower right')\n",
    "    ax1.set_xlabel('$h_1$')\n",
    "    ax1.set_ylabel('Utility')\n",
    "    ax1.set_title('Figure 1.3: Expected total utility');\n",
    "\n",
    "    # Sub_fig2\n",
    "    ax2.plot(h_vec,l1_opt)\n",
    "    ax2.grid()\n",
    "    ax2.set_xlabel('$h_1$')\n",
    "    ax2.set_ylabel('Labor supply')\n",
    "    ax2.set_title('Figure 1.4: Labor supply $1^{st}$ period');\n",
    "\n",
    "    # Sub_fig3\n",
    "    ax3.plot(h_vec,u2_opt_nowork1, label='Utility if $l_1=0$')\n",
    "    ax3.plot(h_vec,u2_opt_work1, label='Utility if $l_1=1$')\n",
    "    ax3.plot(h_vec, u2_nowork, color='black', linestyle='dashed', label='Utility if $l_2=0$')\n",
    "    ax3.grid()\n",
    "    ax3.legend(loc=[0.6,.25])\n",
    "    ax3.set_xlabel('$h_1$')\n",
    "    ax3.set_ylabel('Utility')\n",
    "    ax3.set_title('Figure 1.5: Expected optimal utility in $2^{nd}$ period');\n",
    "\n",
    "    # Sub_fig4\n",
    "    ax4.plot(h_vec,l2_opt_nowork1, label='Labor supply if $l_1=0$')\n",
    "    ax4.plot(h_vec,l2_opt_work1, label='Labor supply if $l_1=1$')\n",
    "    ax4.grid()\n",
    "    ax4.legend(loc='lower right')\n",
    "    ax4.set_xlabel('$h_1$')\n",
    "    ax4.set_ylabel('Labor supply')\n",
    "    ax4.set_title('Figure 1.6: Expected labor supply in $2^{nd} period$');\n",
    "    \n",
    "# Making the figure interactive so Delta is adjustable\n",
    "widgets.interact(fig1_2,\n",
    "        Delta = widgets.RadioButtons(\n",
    "                    value=0.1,    \n",
    "                    description='Value of $\\\\Delta$', \n",
    "                    options=[0.1,0.6]\n",
    "                    )\n",
    "); \n",
    "\n"
   ]
  },
  {
   "cell_type": "markdown",
   "metadata": {},
   "source": [
    "Figure 1.3 shows the expected total utility if the worker works or does not work in the first period. As in question 1, it is  optimal to work in the first period if the level of human capital is sufficiently high. However in contrast to the question 1, the utility if not working increases in $h_1$ if $h_1$ is high enough. The reason is that the it is optimal to work in the second period because the expected level of human capital is higher than the cutoff value. <br>\n",
    "However, it will never be optimal for the worker not to work in the first period and work in the second period. This can be concluded based on figure 1.4 and 1.6. It is optimal to work in the first period if $h_1$ is greater than 0.35. As shown in figure 1.6 the worker will always work in the second period if he has worked in the first period. If he has not worked in the first period, he will only work if the $h_1$ is greater than 0.50. This is the cutoff value from question 1 minus the expected value of the chok to human capital. As the cutoff value in figure 1.4 is lower than in figure 1.6 it will always be optimal to either work or not work in both periods. <br> <br>\n",
    "On the other hand if the chok to human capital is bigger, the conclusion will be different, and it can be optimal not to work in the first period and work in the second period. It will be optimal because the expected level of human capital in the second period is sufficiently high due to the expected value of the chok to human capital (you can see by changing the value of Delta to 0.6). "
   ]
  },
  {
   "cell_type": "markdown",
   "metadata": {},
   "source": [
    "## Question 1.3"
   ]
  },
  {
   "cell_type": "markdown",
   "metadata": {},
   "source": [
    "In this section we will show if it is optimal to work, even if the wage is lower than the benefits. We adress this by comparing the wage rate (w) with the benefits (b). We could have chosen to compare $h_1 \\cdot w$ with the benefits, but our conslusion is robust to this change as the will be explained."
   ]
  },
  {
   "cell_type": "code",
   "execution_count": 7,
   "metadata": {},
   "outputs": [
    {
     "data": {
      "application/vnd.jupyter.widget-view+json": {
       "model_id": "f441a3360a2049e69f39386aa9861f90",
       "version_major": 2,
       "version_minor": 0
      },
      "text/plain": [
       "interactive(children=(FloatSlider(value=1.0, description='Wage', max=3.0, min=0.1), FloatSlider(value=1.1, des…"
      ]
     },
     "metadata": {},
     "output_type": "display_data"
    }
   ],
   "source": [
    "# This section makes the same figures as in question 1.2, but where the values of the parameters can be adjusted \n",
    "\n",
    "\n",
    "# Defining a function to plot the optimal labor supply and utility in both periods\n",
    "def fig1_3(w,b,gamma):\n",
    "    \"\"\" Generates a four figures. The first plotting the utility if working and not working in the first period. \n",
    "        The second plotting the optimal labor supply in the first period. The third plotting the optimal \n",
    "        utility in period two if working and not working in period two. The fourth plooting the optimal labor\n",
    "        supply in period 2 if working and not working in period 1.\n",
    "\n",
    "    Args: \n",
    "        gamma (type: float): Meassuring the disutility of working. Has to be posistive.\n",
    "        beta (type: float): The discounting factor of the utilty in the second period. Has to be between 0 and 1.\n",
    "        w (type: float): The wage. Has to be positive.\n",
    "        b (type: float): The level of benefits if not working. Has to be positive.\n",
    "\n",
    "    Returns: \n",
    "        Four interactive plots\n",
    "\n",
    "    Notice: \n",
    "        The function is generated so that it can be called using widgets.interact()\n",
    "        Thus, it is not intended to be used on its own. \n",
    "        \"\"\"\n",
    "    \n",
    "    # Calling the vectors of utility and labor supply in the two periods\n",
    "    u1_nowork, u1_work, u1_opt, l1_opt = sol1(h_vec,rho,gamma_1,beta,w,b,Delta)\n",
    "    u2_opt_nowork1, l2_opt_nowork1, u2_opt_work1, l2_opt_work1 = sol1_2(h_vec,rho,gamma_1,beta,w,b,Delta)\n",
    "\n",
    "    # Creating the figures\n",
    "    fig, ((ax1, ax3), (ax2, ax4)) = plt.subplots(nrows=2,  ncols=2, sharex=True, figsize=(14,10))\n",
    "    \n",
    "    # Sub_fig 1\n",
    "    ax1.plot(h_vec,u1_nowork, label='Utility if $l_1=0$')\n",
    "    ax1.plot(h_vec,u1_work, label='Utility if $l_1=1$')\n",
    "    ax1.plot(h_vec,u1_opt, linestyle='dashed', color='black', label='Optimal utility')\n",
    "    ax1.grid()\n",
    "    ax1.legend(loc='lower right')\n",
    "    ax1.set_xlabel('$h_1$')\n",
    "    ax1.set_ylabel('Utility')\n",
    "    ax1.set_title('Figure 1.7: Expected total utility');\n",
    "\n",
    "    # Sub_fig2\n",
    "    ax2.plot(h_vec,l1_opt)\n",
    "    ax2.grid()\n",
    "    ax2.set_xlabel('$h_1$')\n",
    "    ax2.set_ylabel('Labor supply')\n",
    "    ax2.set_ylim([-0.1,1.1])\n",
    "    ax2.set_title('Figure 1.8: Labor supply $1^{st}$ period');\n",
    "    \n",
    "    # Sub_fig3\n",
    "    ax3.plot(h_vec,u2_opt_nowork1, label='Utility if $l_1=0$')\n",
    "    ax3.plot(h_vec,u2_opt_work1, label='Utility if $l_1=1$')\n",
    "    ax3.plot(h_vec, np.zeros(len(h_vec))+utility_1(b,rho),color='black', linestyle='dashed', label='Utility if $l_2=0$')\n",
    "    ax3.grid()\n",
    "    ax3.legend(loc='lower right')\n",
    "    ax3.set_xlabel('$h_1$')\n",
    "    ax3.set_ylabel('Utility')\n",
    "    ax3.set_ylim([utility_1(b,rho)-0.5,0])\n",
    "    ax3.set_title('Figure 1.9: Expected optimal utility in $2^{nd}$ period');\n",
    "\n",
    "    # Sub_fig4\n",
    "    ax4.plot(h_vec,l2_opt_nowork1, label='Labor supply if $l_1=0$')\n",
    "    ax4.plot(h_vec,l2_opt_work1, label='Labor supply if $l_1=1$')\n",
    "    ax4.grid()\n",
    "    ax4.legend(loc='lower right')\n",
    "    ax4.set_xlabel('$h_1$')\n",
    "    ax4.set_ylabel('Labor supply')\n",
    "    ax4.set_ylim([-0.1,1.1])\n",
    "    ax4.set_title('Figure 1.10: Expected labor supply in $2^{nd} period$');\n",
    "\n",
    "# Making the figure interactive so w, b, and gamma are adjustable\n",
    "widgets.interact(fig1_3,\n",
    "    b = widgets.FloatSlider(\n",
    "                    value=1.1,\n",
    "                    description='Benefits', \n",
    "                    min=0.1,\n",
    "                    max=3, \n",
    "                    step=0.1,\n",
    "                    ),\n",
    "    w = widgets.FloatSlider(\n",
    "                    value=1,\n",
    "                    description='Wage', \n",
    "                    min=0.1,\n",
    "                    max=3, \n",
    "                    step=0.1,\n",
    "                    ),\n",
    "    gamma = widgets.FloatSlider(\n",
    "                    value=0.1,\n",
    "                    description='$\\gamma$', \n",
    "                    min=0,\n",
    "                    max=1, \n",
    "                    step=0.1,\n",
    "                    )\n",
    "); "
   ]
  },
  {
   "cell_type": "markdown",
   "metadata": {},
   "source": [
    "The short answer is yes it can be optimal to work even thoug the wage is lower than the benefits. The answer is based on two reasons. The first one is that consumption in the given period may be higher by working if the level of human caiptal is high enough. Hereby $h_t \\cdot w$ is large enough to compensate for the disutility of working and the alternative utility of not working. The other reason is that by working in the first period, the worker accumulate more human capital and thus higher consumption in the second period. Hereby the worker is willing to have less utility in the first period because he knows his utility will be higher in the second period. <br> \n",
    "This conslusion is robust if we say that $h_1 \\cdot w$ (not just w) has to be less than the benefits (b). This as can be seen by setting $\\gamma = 0.1$, $b=1.1$ and $w=1$. The cutoff value of $h_1$ is about 0.9 in the first period, which gives $c_1=0.9<b=1.1$. Nevertheless, it is optimal to work because the worker accumulates more human capital by working and thus gains more utility in the second period. <br><br>\n",
    "However the conslusion is only valid for a some values of b, w, and $\\gamma$. By increasing the difference between the wage and benefits or by increasing  $\\gamma$ there are a lot of combinations of the parameters where the worker wont work in neither of the periods. This is either becuase the difference between the wage and benefits are too big or the disutility of working is too high. Likewise the conslusion is based on the other parameters. Especially, if the discount factor, $\\beta$, decreased, it will be harder to obtain a solution where the worker will work if the wage is lower than the benefits. The reason is that the worker in the first period will put less value on the utility in the second period."
   ]
  },
  {
   "cell_type": "markdown",
   "metadata": {},
   "source": [
    "# Problem 2: The AS-AD Model"
   ]
  },
  {
   "cell_type": "code",
   "execution_count": 8,
   "metadata": {},
   "outputs": [],
   "source": [
    "# Setting parameters from Exam\n",
    "par = {}\n",
    "\n",
    "par['alpha'] = 5.76\n",
    "par['h'] = 0.5\n",
    "par['b'] = 0.5\n",
    "par['phi'] = 0\n",
    "par['gamma'] = 0.075\n",
    "par['delta'] = 0.80\n",
    "par['omega'] = 0.15\n",
    "par['sigma_x'] = 3.492\n",
    "par['sigma_c'] = 0.2"
   ]
  },
  {
   "cell_type": "markdown",
   "metadata": {},
   "source": [
    "## Question 2.1"
   ]
  },
  {
   "cell_type": "markdown",
   "metadata": {},
   "source": [
    "We begin this problem by solving the economy for equilibrium values of y and $\\pi$. This is done by using the sympy package. "
   ]
  },
  {
   "cell_type": "code",
   "execution_count": 9,
   "metadata": {},
   "outputs": [],
   "source": [
    "# Defining the AD and the SRAS functions in Sympy \n",
    "\n",
    "# i. Defining symbols\n",
    "sm.init_printing(use_unicode=True)\n",
    "pit = sm.symbols('pi_t')\n",
    "pit1 = sm.symbols('pi_t-1')\n",
    "alpha = sm.symbols('alpha')\n",
    "gamma_2 = sm.symbols('gamma')\n",
    "phi = sm.symbols('phi')\n",
    "h = sm.symbols('h')\n",
    "b = sm.symbols('b')\n",
    "vt = sm.symbols('v_t')\n",
    "yt = sm.symbols('y_t')\n",
    "yt1 = sm.symbols('y_t-1')\n",
    "st = sm.symbols('s_t')\n",
    "st1 = sm.symbols('s_t-1')\n",
    "\n",
    "\n",
    "# AD-curve \n",
    "AD = sm.Eq(1/(h*alpha)*(vt-(1+b*alpha)*yt), pit)\n",
    "\n",
    "# SRAS-curve \n",
    "SRAS = sm.Eq(pit1 + gamma_2*yt - phi*gamma_2*yt1 + st - phi*st1, pit)\n",
    "\n"
   ]
  },
  {
   "cell_type": "code",
   "execution_count": 10,
   "metadata": {},
   "outputs": [
    {
     "name": "stdout",
     "output_type": "stream",
     "text": [
      "The equilibrium value of y is:\n"
     ]
    },
    {
     "data": {
      "image/png": "[encoded data removed]",
      "text/latex": [
       "$$\\left [ \\frac{\\alpha \\gamma h \\phi y_{t-1} + \\alpha h \\phi s_{t-1} - \\alpha h \\pi_{t-1} - \\alpha h s_{t} + v_{t}}{\\alpha b + \\alpha \\gamma h + 1}\\right ]$$"
      ],
      "text/plain": [
       "⎡α⋅γ⋅h⋅φ⋅yₜ₋₁ + α⋅h⋅φ⋅sₜ₋₁ - α⋅h⋅πₜ₋₁ - α⋅h⋅sₜ + vₜ⎤\n",
       "⎢──────────────────────────────────────────────────⎥\n",
       "⎣                 α⋅b + α⋅γ⋅h + 1                  ⎦"
      ]
     },
     "execution_count": 10,
     "metadata": {},
     "output_type": "execute_result"
    }
   ],
   "source": [
    "# Solving for y through Sympy \n",
    "\n",
    "# Setting AD equal to SRAS \n",
    "AD_SRAS = sm.Eq(1/(h*alpha)*(vt-(1+b*alpha)*yt), pit1 + gamma_2*yt - phi*gamma_2*yt1 + st - phi*st1)\n",
    "\n",
    "# Solving for y \n",
    "yt_star = sm.solve(AD_SRAS, yt)\n",
    "\n",
    "# Printing y*\n",
    "print(f'The equilibrium value of y is:')\n",
    "yt_star"
   ]
  },
  {
   "cell_type": "markdown",
   "metadata": {},
   "source": [
    "We notice that the equilibrium value of $y_t$ is positively dependent of demand shocks in period $t$, negatively dependent of supply shocks in period $t$, while it is positively dependent of supply shocks in period $t-1$. \n",
    "Thus a demand shock will increase output in the current period, while a supply shock in period $t$ will decrease the output in the same period, and increase the output in the following period. "
   ]
  },
  {
   "cell_type": "code",
   "execution_count": 11,
   "metadata": {},
   "outputs": [
    {
     "name": "stdout",
     "output_type": "stream",
     "text": [
      "The equilibrium value of pi is:\n"
     ]
    },
    {
     "data": {
      "image/png": "[encoded data removed]",
      "text/latex": [
       "$$\\frac{v_{t} - \\frac{\\left(\\alpha b + 1\\right) \\left(\\alpha \\gamma h \\phi y_{t-1} + \\alpha h \\phi s_{t-1} - \\alpha h \\pi_{t-1} - \\alpha h s_{t} + v_{t}\\right)}{\\alpha b + \\alpha \\gamma h + 1}}{\\alpha h}$$"
      ],
      "text/plain": [
       "     (α⋅b + 1)⋅(α⋅γ⋅h⋅φ⋅yₜ₋₁ + α⋅h⋅φ⋅sₜ₋₁ - α⋅h⋅πₜ₋₁ - α⋅h⋅sₜ + vₜ)\n",
       "vₜ - ──────────────────────────────────────────────────────────────\n",
       "                            α⋅b + α⋅γ⋅h + 1                        \n",
       "───────────────────────────────────────────────────────────────────\n",
       "                                α⋅h                                "
      ]
     },
     "execution_count": 11,
     "metadata": {},
     "output_type": "execute_result"
    }
   ],
   "source": [
    "# Solving for pi through Sympy\n",
    "\n",
    "# Inserting y* in the AD function\n",
    "pit_star = 1/(h*alpha)*(vt-(1+b*alpha)*yt_star[0])\n",
    "\n",
    "# Printing pi*\n",
    "print(f'The equilibrium value of pi is:')\n",
    "pit_star"
   ]
  },
  {
   "cell_type": "markdown",
   "metadata": {},
   "source": [
    "We notice that the equilibirum value of $\\pi_t$ is positively dependent of a demand shock in period $t$, thouh positively dependent of a supply shock in period $t$ and negatively dependent of a shock in period $t-1$. Additionally, demand shocks have a larger effect, than supply shocks. \n",
    "Thus, a positive demand shock in period $t$ will decrease inflation in the same period. Contrary, positive supply shocks will increase inflation in the same period, while they will decrease inflation in the following period."
   ]
  },
  {
   "cell_type": "markdown",
   "metadata": {},
   "source": [
    "## Question 2.2"
   ]
  },
  {
   "cell_type": "markdown",
   "metadata": {},
   "source": [
    "In this question, we calculate the equilibrium of $y^*$ and $\\pi^*$ with $v_t = 0$ and $v_t = 0.1$, respectively. After having calculated the equilibrium values, we plot the AD and SRAS curves in both instances. "
   ]
  },
  {
   "cell_type": "code",
   "execution_count": 12,
   "metadata": {},
   "outputs": [],
   "source": [
    "# Defining initial variable values \n",
    "yt1_int  = 0 \n",
    "pit1_int = 0 \n",
    "vt_int   = 0 \n",
    "st_int   = 0 \n",
    "st1_int  = 0 \n",
    "vt_one   = 0.1\n",
    "\n",
    "\n",
    "# Solving numerically for y \n",
    "\n",
    "# Defining a lambda function of yt_eq \n",
    "_sol_y_func = sm.lambdify((h,b,alpha,gamma_2,phi,vt,st,pit1,yt1,st1),yt_star[0])\n",
    "\n",
    "# Defining a function which solve for y, given values and parameters \n",
    "def sol_y_func(vt,st,pit1,yt1,st1,h=par['h'],alpha=par['alpha'],b=par['b'],gamma=par['gamma'],phi=par['phi']):\n",
    "    return _sol_y_func(h,b,alpha,gamma,phi,vt,st,pit1,yt1,st1)\n",
    "\n",
    "# Solving for y and printing the solution \n",
    "y_star = sol_y_func(vt=vt_int,st=st_int,pit1=pit1_int,yt1=yt1_int,st1=st1_int)\n",
    "\n",
    "\n",
    "# Solving for pi \n",
    "\n",
    "# Defining a lambda function of yt_eq \n",
    "_sol_pi_func = sm.lambdify((h,b,alpha,gamma_2,phi,yt,vt,st,pit1,yt1,st1),pit_star)\n",
    "\n",
    "# Defining a function which solve for pi, given values and parameters\n",
    "def sol_pi_func(vt,st,yt,pit1,yt1,st1,h=par['h'],alpha=par['alpha'],b=par['b'],gamma=par['gamma'],phi=par['phi']):\n",
    "    return _sol_pi_func(h,b,alpha,gamma,phi,yt,vt,st,pit1,yt1,st1)\n",
    "\n",
    "# Solving for pi, using the value of y_star, and printing the solution \n",
    "pi_star = sol_pi_func(vt=vt_int,st=st_int,yt=y_star,pit1=pit1_int,yt1=yt1_int,st1=st1_int)\n"
   ]
  },
  {
   "cell_type": "code",
   "execution_count": 13,
   "metadata": {},
   "outputs": [],
   "source": [
    "# Illustration \n",
    "\n",
    "# Define AD and SRAS curves as functions\n",
    "def AD_curve(h,b,alpha,vt,yt): \n",
    "    return 1/(h*alpha)*(vt-(1+b*alpha)*yt)\n",
    "                               \n",
    "def SRAS_curve(gamma,phi,pit1,yt,yt1,st,st1): \n",
    "    return pit1+gamma*yt-phi*gamma*yt1+st-phi*st1"
   ]
  },
  {
   "cell_type": "code",
   "execution_count": 14,
   "metadata": {},
   "outputs": [
    {
     "name": "stdout",
     "output_type": "stream",
     "text": [
      "The equilibrium value of y and pi, given vt = 0: (0.0;0.0)\n",
      "The equilibrium value of y and pi, given vt = 0.1: (0.0244;0.00183)\n"
     ]
    },
    {
     "data": {
      "image/png": "[encoded data removed]",
      "text/plain": [
       "<Figure size 720x432 with 1 Axes>"
      ]
     },
     "metadata": {
      "needs_background": "light"
     },
     "output_type": "display_data"
    }
   ],
   "source": [
    "# Calculating equilibrium values for vt = 0 and vt=0.1\n",
    "y_star_new = sol_y_func(vt=vt_one,st=st_int,pit1=pit1_int,yt1=yt1_int,st1=st1_int)\n",
    "pi_star_new = sol_pi_func(vt=vt_one,st=st_int,yt=y_star,pit1=pit1_int,yt1=yt1_int,st1=st1_int)\n",
    "print(f'The equilibrium value of y and pi, given vt = 0: ({y_star};{pi_star})')\n",
    "print(f'The equilibrium value of y and pi, given vt = 0.1: ({y_star_new:.3};{pi_star_new:.3})')\n",
    "\n",
    "def austinpowers(): \n",
    "    # a. Finding equilibrium given vt=0 and vt=0.1\n",
    "    y_one = sol_y_func(vt=0,st=st_int,pit1=pit1_int,yt1=yt1_int,st1=st1_int)\n",
    "    pi_one = sol_pi_func(vt=0,st=st_int,yt=y_star,pit1=pit1_int,yt1=yt1_int,st1=st1_int)\n",
    "    y_two = sol_y_func(vt=0.1,st=st_int,pit1=pit1_int,yt1=yt1_int,st1=st1_int)\n",
    "    pi_two = sol_pi_func(vt=0.1,st=st_int,yt=y_star,pit1=pit1_int,yt1=yt1_int,st1=st1_int)\n",
    "\n",
    "    # b. Constructing curves \n",
    "    y = np.linspace(-0.1,0.1,100)\n",
    "    AD_one = AD_curve(h=par['h'],b=par['b'],alpha=par['alpha'],vt=0,yt=y)\n",
    "    SRAS_one = SRAS_curve(gamma=par['gamma'],phi=par['phi'],pit1=pit1_int,yt1=yt1_int,st=st_int,st1=st1_int,yt=y)\n",
    "    AD_two = AD_curve(h=par['h'],b=par['b'],alpha=par['alpha'],vt=0.1,yt=y)\n",
    "    SRAS_two = SRAS_curve(gamma=par['gamma'],phi=par['phi'],pit1=pit1_int,yt1=yt1_int,st=st_int,st1=st1_int,yt=y)\n",
    "\n",
    "    # c. Generating graph\n",
    "    # i.  Font sizes\n",
    "    title_font = {'size':'15'}\n",
    "    label_font = {'size':'12'}\n",
    "    # ii. Graph\n",
    "    plt.figure(figsize=(10,6))\n",
    "    plt.plot(y,AD_one,color='orange',label='AD, $v_t$=0')\n",
    "    plt.plot(y,AD_two,color='goldenrod',label='AD, $v_t$=0.1')\n",
    "    plt.plot(y,SRAS_one,color='navy',label='SRAS, $v_t$={0;0.1}')\n",
    "    plt.grid(True)\n",
    "    # iii. Title and labels\n",
    "    plt.title('Figure 2.1: AD and SRAS', **title_font)\n",
    "    plt.xlabel('$y_t$', **label_font)\n",
    "    plt.ylabel('$\\pi_t$', **label_font)\n",
    "    # c. Add lines and marks which show optimal values of y and pi \n",
    "    plt.axvline(y_one, linestyle='dashed', color=\"grey\")\n",
    "    plt.axhline(pi_one, linestyle='dashed', color=\"grey\")\n",
    "    plt.plot(y_two,pi_two, marker='o',color='goldenrod',markersize='8')\n",
    "    plt.plot(y_one,pi_one, marker='o',color='orange',markersize='8')\n",
    "\n",
    "    plt.legend()\n",
    "\n",
    "austinpowers();"
   ]
  },
  {
   "cell_type": "markdown",
   "metadata": {},
   "source": [
    "As expected, we see that a positive demandshock increases both output and inflation. The demand shock pushed the AD curve to the northeast, while the SRAS curve remains unaffected. Consequently, output increases with 0.0244, while inflation only increases with 0.0018. "
   ]
  },
  {
   "cell_type": "markdown",
   "metadata": {},
   "source": [
    "## Question 2.3"
   ]
  },
  {
   "cell_type": "markdown",
   "metadata": {},
   "source": [
    "In question three, we consider an initial demand shock of 0.1, which then converges back to zero. We calculate the sizes of both $v_t$ and $s_t$ in the 1000 periods following the initial shock as well as the short term equilibria for each of the 1000 periods. \n",
    "Furthermore, we illustrate the shock and the convergence back to the long run equilibrium with AD and SRAS curves. "
   ]
  },
  {
   "cell_type": "code",
   "execution_count": 15,
   "metadata": {},
   "outputs": [],
   "source": [
    "# Constructing AR(1) processes \n",
    "\n",
    "# Defining intial values \n",
    "y1      = 0\n",
    "pi_init = 0\n",
    "s_init  = 0\n",
    "v_init  = 0\n",
    "xt      = 0 \n",
    "ct      = 0 \n",
    "x0      = 0.1\n",
    "\n",
    "# Number of variable values \n",
    "num_fig = 200\n",
    "num = 1000\n",
    "\n",
    "# Creating list, contraining x number values of vt\n",
    "def v_func(number=num):\n",
    "    \"\"\"\n",
    "    Function which creates list of vt values \n",
    "    Args: \n",
    "        number = Number of values in list\n",
    "    Returns:\n",
    "        List of vt values\n",
    "    \"\"\"\n",
    "    vt = []\n",
    "    vt_num = par['delta'] * v_init + x0\n",
    "    vt.append(vt_num)\n",
    "    for i in range(0,number): \n",
    "        vt_i = par['delta']*vt[i] + xt\n",
    "        vt.append(vt_i)\n",
    "        \n",
    "    return vt\n",
    "\n",
    "vt = v_func(num_fig);\n",
    "        \n",
    "# Creating list, contraining x number values of st\n",
    "def s_func(number=num): \n",
    "    \"\"\"\n",
    "    Function which creates list of st values\n",
    "    Args: \n",
    "        number: Number of values in list\n",
    "    Returns: \n",
    "        List of st values\n",
    "    \"\"\"\n",
    "    st = []\n",
    "    st_num = par['omega']* s_init + ct\n",
    "    st.append(st_num)\n",
    "    for i in range(0,number):\n",
    "        st_i = par['omega']*st[i] + ct\n",
    "        st.append(st_i)\n",
    "        \n",
    "    return st\n",
    "        \n",
    "st = s_func(num_fig);\n"
   ]
  },
  {
   "cell_type": "code",
   "execution_count": 16,
   "metadata": {},
   "outputs": [],
   "source": [
    "# Constructing list of y* and pi*\n",
    "\n",
    "def y_solve(vt,st,number=num): \n",
    "    \"\"\"\n",
    "    Solves economy and obtains equilibrum values of y and pi in each period \n",
    "    using the sol_y_func function. \n",
    "    Args: \n",
    "        number: Number of periods \n",
    "    Returns: \n",
    "        Appends equilibrum values of y to the list y_stars \n",
    "        Appends qeuilibrium values of pi to the list pi_stars\n",
    "    \"\"\"\n",
    "    # Initial values of y and pi\n",
    "    y_stars = [0]\n",
    "    pi_stars = [0]\n",
    "    # Appending short run equilibia of y and pi \n",
    "    for i in range(1,number):\n",
    "        # y \n",
    "        y_star_i = sol_y_func(vt=vt[i],st=st[i],pit1=pi_stars[i-1],yt1=y_stars[i-1],st1=st[i-1])\n",
    "        y_stars.append(y_star_i)\n",
    "        # Pi\n",
    "        pi_star_i = sol_pi_func(vt=vt[i],st=st[i],yt=y_stars[i],pit1=pi_stars[i-1],yt1=y_stars[i-1],st1=st[i-1])\n",
    "        pi_stars.append(pi_star_i)\n",
    "        \n",
    "    return y_stars, pi_stars"
   ]
  },
  {
   "cell_type": "code",
   "execution_count": 17,
   "metadata": {},
   "outputs": [
    {
     "data": {
      "application/vnd.jupyter.widget-view+json": {
       "model_id": "e81144f61bf746de9cb6b5ea125b3610",
       "version_major": 2,
       "version_minor": 0
      },
      "text/plain": [
       "interactive(children=(IntSlider(value=0, continuous_update=False, description='Period', max=50), Output()), _d…"
      ]
     },
     "metadata": {},
     "output_type": "display_data"
    }
   ],
   "source": [
    "# Illustrating moves in AD and SRAS curves \n",
    "\n",
    "# Construcnting v, s and y vectors with 1000 values\n",
    "vt = v_func();\n",
    "st = s_func();\n",
    "\n",
    "y_stars, pi_stars = y_solve(vt,st);\n",
    "\n",
    "\n",
    "# a. Shocks and Convergence in AD and SRAS curves \n",
    "def AD_shock(yt,period, h=par['h'],b=par['b'],alpha=par['alpha'],vt=vt): \n",
    "    \"\"\"Function which generates AD curves following a shock\n",
    "    Args:\n",
    "        yt: Vector of y values\n",
    "        period: Number of periods after initial shock\n",
    "        h: Parameter \n",
    "        b: Parameter \n",
    "        alpha: Parameter \n",
    "        vt: Vector of shocks\n",
    "    Returns: \n",
    "        AD curve with shocks. \n",
    "    \"\"\"\n",
    "    if period == 0: # Assuming zero shocks in initial period\n",
    "        return 1/(h*alpha)*(0-(1+b*alpha)*yt)\n",
    "    else:\n",
    "        return 1/(h*alpha)*(vt[period-1]-(1+b*alpha)*yt)\n",
    "    \n",
    "def SRAS_shock(yt,period,gamma=par['gamma'],phi=par['phi'],st=st): \n",
    "    \"\"\"Function which generates SRAS curves following a shock\n",
    "    Args: \n",
    "        yt: Vector of y values\n",
    "        period: Number of periods after initial shock \n",
    "        gamma: Parameter\n",
    "        phi: Parameter\n",
    "        pi: Vector of pi values\n",
    "        yt: Vector of y values\n",
    "        st: Vector of shocks\n",
    "    Returns: SRAS curve with shocks \n",
    "        \"\"\"\n",
    "    if period == 0: # Assuming zero shocks in initial period\n",
    "        return pi_init + gamma*yt - phi*y1 + st[period] - phi*s_init\n",
    "    else:\n",
    "        y_values = [0]\n",
    "        pi_values = [0]\n",
    "        for i in range(1,num): \n",
    "            y_val_i = sol_y_func(vt=vt[i],st=st[i],pit1=pi_stars[i-1],yt1=y_stars[i-1],st1=st[i-1])\n",
    "            y_values.append(y_val_i)\n",
    "            pi_val_i = sol_pi_func(vt=vt[i],st=st[i],yt=y_stars[i],pit1=pi_stars[i-1],yt1=y_stars[i-1],st1=st[i-1])\n",
    "            pi_values.append(pi_val_i)\n",
    "        return pi_values[period-1] + gamma*yt - phi*gamma*y_values[period-1] + st[period] - phi*st[period-1] \n",
    "        \n",
    "\n",
    "# b. Constructing graph\n",
    "\n",
    "def sherlock(period): \n",
    "    \"\"\"Constructs figure of convergence in the economy following a shock\n",
    "    Args: \n",
    "        period: Number of periods after inital shock\n",
    "    Returns: \n",
    "        Graph of AD and SRAS curves x periods after a shock\n",
    "    Note: \n",
    "        The graph is meant to be called through the watson function, which turn the graph interactive.\n",
    "        Thus, the function is not intented to be called on its own\n",
    "    \"\"\"\n",
    "    # i. Constructing curves \n",
    "    y = np.linspace(-0.025,0.025,100)\n",
    "    AD_zero = AD_shock(y,0,vt=vt)\n",
    "    AD_i = AD_shock(y,period,vt=vt)\n",
    "    \n",
    "    SRAS_zero = SRAS_shock(y,0,st=st)\n",
    "    SRAS_i = SRAS_shock(y,period,st=st)\n",
    "    \n",
    "    # ii. Graphs\n",
    "    # (a) Font sizes\n",
    "    title_font = {'size':'20'}\n",
    "    label_font = {'size':'10'}\n",
    "    # (b) AD curves\n",
    "    plt.figure(figsize=(12,6))\n",
    "    plt.plot(y,AD_zero,label=('AD initial'),linewidth=3,color='orange')\n",
    "    plt.plot(y,AD_i,label='$AD_t$',color='goldenrod')\n",
    "    \n",
    "    # (c) SRAS curves\n",
    "    plt.plot(y,SRAS_zero,label='SRAS initial',linewidth=3,color='navy')\n",
    "    plt.plot(y,SRAS_i,label='$SRAS_t$',color='purple')\n",
    "    \n",
    "    # (d) Graph properties \n",
    "    plt.grid(True)\n",
    "    plt.title('Figure 2.2: AD and SRAS', **title_font)\n",
    "    plt.xlabel('$y_t$', **label_font)\n",
    "    plt.ylabel('$\\pi_t$', **label_font)\n",
    "    plt.ylim(-0.1,0.12)\n",
    "\n",
    "    # d. Add lines which show optimal values of y and pi \n",
    "    plt.axvline(y_star, linestyle='dashed', label='$y^*$')\n",
    "    plt.axhline(pi_star, linestyle='dashed', label='$\\pi^*$')\n",
    "    \n",
    "    plt.legend()\n",
    "\n",
    "def lestrade(): \n",
    "    widgets.interact(sherlock, \n",
    "                     period=widgets.IntSlider(\n",
    "                         value=0, \n",
    "                         description='Period', \n",
    "                         min=0,\n",
    "                         max=50, \n",
    "                         step=1, \n",
    "                         disabled=False, \n",
    "                         continuous_update=False));\n",
    "    \n",
    "lestrade();"
   ]
  },
  {
   "cell_type": "markdown",
   "metadata": {},
   "source": [
    "From figure 2.2 we see that the initial demand in period 1 pushes the AD curve to north east, while the SRAS curve remains unaffected. Consequently, both output and inflation are increased, though the latter is only marginally affected.\n",
    "In the following periods, the AD curves starts to converge back to point of origin, while the SRAS curve is affected by the changing values in $y_t$ and thus shifts. By 25 periods after the inital shock, the AD curve appears to back at its origin, while the SRAS curve appears to be back after 45 periods. "
   ]
  },
  {
   "cell_type": "code",
   "execution_count": 18,
   "metadata": {},
   "outputs": [
    {
     "data": {
      "image/png": "[encoded data removed]",
      "text/plain": [
       "<Figure size 720x360 with 2 Axes>"
      ]
     },
     "metadata": {
      "needs_background": "light"
     },
     "output_type": "display_data"
    }
   ],
   "source": [
    "y_stars, pi_stars = y_solve(vt,st,number=num_fig);\n",
    "\n",
    "# Illustrating the evolution of the economy \n",
    "x_axis = np.linspace(0,num_fig,num_fig)\n",
    "\n",
    "# Constructing graph\n",
    "f, (ax1, ax2) = plt.subplots(1, 2, sharey=True, figsize=(10,5))\n",
    "ax1.plot(x_axis,pi_stars, label='$\\pi$')\n",
    "ax1.set_title('Values of $\\pi$')\n",
    "ax1.grid(True)\n",
    "ax1.legend()\n",
    "ax2.plot(x_axis,y_stars, label=\"$y$\")\n",
    "ax2.set_title('Values of y')\n",
    "ax2.grid(True)\n",
    "ax2.legend()\n",
    "\n",
    "plt.show();\n"
   ]
  },
  {
   "cell_type": "markdown",
   "metadata": {},
   "source": [
    "Figure 2.3 show the effects of the demand shock to both $\\pi_t$ and $y_t$. First, we notice that the effects to $y_t$ are almost four times that of the effects to $\\pi_t$ in the first couple of periods following the initial shock. Additioanlly, we see that $\\pi_t$ fairly quickly converges back to it's long run equilibrium, while $y_t$ drops and become negative, before it converges back. However, $y_t$ appears to be back at zero around 80 periods after the shock, while it takes $\\pi_t$ approximately 120 periods to get back. "
   ]
  },
  {
   "cell_type": "code",
   "execution_count": 19,
   "metadata": {},
   "outputs": [
    {
     "data": {
      "image/png": "[encoded data removed]",
      "text/plain": [
       "<Figure size 432x288 with 1 Axes>"
      ]
     },
     "metadata": {
      "needs_background": "light"
     },
     "output_type": "display_data"
    }
   ],
   "source": [
    "# Illustrating the evolution of the economy \n",
    "plt.plot(y_stars,pi_stars)\n",
    "plt.scatter(y_stars,pi_stars)\n",
    "plt.grid(True)\n",
    "\n",
    "plt.title('Figure 2.4: Evolution of the Economy with AR(1) processes')\n",
    "plt.xlabel('$y_t$')\n",
    "plt.ylabel('$\\pi_t$')\n",
    "plt.text(0.006,0.0045,'Each dot is the equilibrium in a period', bbox=dict(facecolor='white', alpha=0.5))\n",
    "    \n",
    "plt.show();\n"
   ]
  },
  {
   "cell_type": "markdown",
   "metadata": {},
   "source": [
    "Figure 2.4 shows the combination of short run equibria $y_t$ and $\\pi_t$. We see that the largest effect happens in $y_t$ at the the first period, while the largest effekt in $\\pi_t$ does not show until nine periods after the shock. "
   ]
  },
  {
   "cell_type": "markdown",
   "metadata": {},
   "source": [
    "## Question 2.4"
   ]
  },
  {
   "cell_type": "code",
   "execution_count": 20,
   "metadata": {},
   "outputs": [],
   "source": [
    "# Generating function to make the demand shock vector\n",
    "def v_new(num,pars):\n",
    "    \"\"\"\n",
    "    Function which creates list of vt values\n",
    "    Args: \n",
    "        number = Number of values in list\n",
    "    Returns: \n",
    "        Array of vt values \n",
    "    \"\"\"\n",
    "    vt_sim = np.zeros(num)\n",
    "    x = np.random.normal(0,pars[0],num)\n",
    "\n",
    "    for i in range(1,num): \n",
    "        vt_i = par['delta']*vt_sim[i-1] + x[i]\n",
    "        vt_sim[i] += vt_i\n",
    "    \n",
    "    return vt_sim\n",
    "\n",
    "\n",
    "# Generating function to make the supply chok vector\n",
    "def s_new(num,pars): \n",
    "    \"\"\"\n",
    "    Function which creates list of st values\n",
    "    Args: \n",
    "        number = Number of values in list\n",
    "    Returns: \n",
    "        Array of st values \n",
    "    \"\"\"\n",
    "    \n",
    "    st_sim = np.zeros(num)\n",
    "    c = np.random.normal(0,pars[1],num)\n",
    "\n",
    "\n",
    "    for i in range(1,num):\n",
    "        st_i = par['omega']*st_sim[i-1] + c[i]\n",
    "        st_sim[i] += st_i\n",
    "        \n",
    "    return st_sim\n"
   ]
  },
  {
   "cell_type": "code",
   "execution_count": 21,
   "metadata": {},
   "outputs": [
    {
     "data": {
      "application/vnd.jupyter.widget-view+json": {
       "model_id": "9c936f0a0ee141a3a1e4a1bc1633544d",
       "version_major": 2,
       "version_minor": 0
      },
      "text/plain": [
       "interactive(children=(IntSlider(value=0, continuous_update=False, description='Period', max=999, step=10), Out…"
      ]
     },
     "metadata": {},
     "output_type": "display_data"
    }
   ],
   "source": [
    "# Illustrating AD and SRAS curves with new shocks \n",
    "num = 1000\n",
    "seed = 11\n",
    "np.random.seed(seed)\n",
    "\n",
    "# List of variables to optimize over \n",
    "pars = [par['sigma_x'],par['sigma_c'],par['phi']]\n",
    "\n",
    "# Vectors of vt and st values\n",
    "vt_new = v_new(num,pars)\n",
    "st_new = s_new(num,pars)\n",
    "\n",
    "y_stars, pi_stars = y_solve(vt_new,st_new,number=num);\n",
    "# b. Constructing graph\n",
    "\n",
    "def mycraft(period): \n",
    "    \"\"\"Constructs figure of convergence in the economy following a shock\n",
    "    Args: \n",
    "        period: Number of periods after inital shock\n",
    "    Returns: \n",
    "        Graph of AD and SRAS curves with stochastic shocks\n",
    "    Note: \n",
    "        The graph is meant to be called through the irene function, which turn the graph interactive.\n",
    "        Thus, the function should not be called on its own.\n",
    "    \"\"\"\n",
    "    np.random.seed(seed)\n",
    "    \n",
    "    # i. Constructing curves \n",
    "    y = np.linspace(-1,1,100)\n",
    "    AD_zero = AD_shock(y,0,vt=vt_new)\n",
    "    AD_i = AD_shock(y,period,vt=vt_new)\n",
    "    \n",
    "    SRAS_zero = SRAS_shock(y,0,st=st_new)\n",
    "    SRAS_i = SRAS_shock(y,period,st=st_new)\n",
    "    \n",
    "    # ii. Graphs\n",
    "    # (a) Font sizes\n",
    "    title_font = {'size':'20'}\n",
    "    label_font = {'size':'15'}\n",
    "    # (b) AD curves\n",
    "    plt.figure(figsize=(12,6))\n",
    "    plt.plot(y,AD_zero,label=('AD initial'),linewidth=3,color='orange')\n",
    "    plt.plot(y,AD_i,label='$AD_t$',color='goldenrod')\n",
    "    \n",
    "    # (c) SRAS curves\n",
    "    plt.plot(y,SRAS_zero,label='SRAS initial',linewidth=3,color='navy')\n",
    "    plt.plot(y,SRAS_i,label='$SRAS_t$',color='purple')\n",
    "    \n",
    "    # (d) Graph properties \n",
    "    plt.grid(True)\n",
    "    plt.title('Figure 2.5: AD and SRAS', **title_font)\n",
    "    plt.ylim(-5,5)\n",
    "    plt.xlabel('$y_t$', **label_font)\n",
    "    plt.ylabel('$\\pi_t$', **label_font)\n",
    "\n",
    "    # d. Add lines which show optimal values of y and pi \n",
    "    plt.axvline(y_star, linestyle='dashed', label='$y^*$')\n",
    "    plt.axhline(pi_star, linestyle='dashed', label='$\\pi^*$')\n",
    "    \n",
    "    plt.legend(loc='upper right')\n",
    "    \n",
    "\n",
    "\n",
    "# Turn graph interactive \n",
    "def irene(): \n",
    "    widgets.interact(mycraft, \n",
    "                    period=widgets.Dropdown(\n",
    "                    description='Period after initial shock', \n",
    "                    options=[1,5,10,50,100,200,600,800], \n",
    "                    value=1),\n",
    "                    );\n",
    "    \n",
    "#irene();\n",
    "\n",
    "def moriarty(): \n",
    "    widgets.interact(mycraft, \n",
    "                     period=widgets.IntSlider(\n",
    "                         value=0, \n",
    "                         description='Period', \n",
    "                         min=0,\n",
    "                         max=999, \n",
    "                         step=10, \n",
    "                         disabled=False, \n",
    "                         continuous_update=False));\n",
    "    \n",
    "moriarty();"
   ]
  },
  {
   "cell_type": "markdown",
   "metadata": {},
   "source": [
    "Figure 2.5 shows the same as figure 2.2, only now the demand shocks and the supply shocks are stochastic, and thus there is no convergence back to zero, as is evident when the sliders is moved from left to the right. "
   ]
  },
  {
   "cell_type": "code",
   "execution_count": 22,
   "metadata": {},
   "outputs": [],
   "source": [
    "# Simulating the Economy \n",
    "\n",
    "# Adding equilibrum values as initial values \n",
    "y_sim = [0]\n",
    "pi_sim = [0]\n",
    "\n",
    "for i in range(1,num): \n",
    "    y_val_i = sol_y_func(vt=vt_new[i],st=st_new[i],pit1=pi_sim[i-1],yt1=y_sim[i-1],st1=st_new[i-1])\n",
    "    y_sim.append(y_val_i)\n",
    "    pi_val_i = sol_pi_func(vt=vt_new[i],st=st_new[i],yt=y_sim[i],pit1=pi_sim[i-1],yt1=y_sim[i-1],st1=st_new[i-1])\n",
    "    pi_sim.append(pi_val_i)"
   ]
  },
  {
   "cell_type": "code",
   "execution_count": 23,
   "metadata": {},
   "outputs": [
    {
     "name": "stdout",
     "output_type": "stream",
     "text": [
      "The variance of y is:                 1.8036\n",
      "The variance of pi is:                1.2007\n",
      "The correlation between y and pi is: -0.0826\n",
      "The autocorrelation of y is:          0.7575\n",
      "The autocorrelation of pi is:         0.9797\n"
     ]
    }
   ],
   "source": [
    "# Calculate variances of y_sim and pi_sim\n",
    "y_var = np.var(y_sim)\n",
    "pi_var = np.var(pi_sim)\n",
    "\n",
    "# Calculate correlation between y_sim and pi_sim\n",
    "y_pi_matrix = np.corrcoef(y_sim,pi_sim)\n",
    "y_pi_corr = y_pi_matrix[0,1]\n",
    "\n",
    "# Calculate autocorrelations\n",
    "y_matrix = np.corrcoef(y_sim[:-1],y_sim[1:])\n",
    "y_corr = y_matrix[0,1]\n",
    "pi_matrix = np.corrcoef(pi_sim[:-1],pi_sim[1:])\n",
    "pi_corr = pi_matrix[0,1]\n",
    "\n",
    "print(f'The variance of y is: {y_var:22.4f}')\n",
    "print(f'The variance of pi is: {pi_var:21.4f}')\n",
    "print(f'The correlation between y and pi is: {y_pi_corr:.4f}')\n",
    "print(f'The autocorrelation of y is: {y_corr:15.4f}')\n",
    "print(f'The autocorrelation of pi is: {pi_corr:14.4f}')"
   ]
  },
  {
   "cell_type": "markdown",
   "metadata": {},
   "source": [
    "From the above moments, we see that there is a negative correlation between $y_t$ and $\\pi_t$, which is opposite of what we would have expected. \n",
    "Additionally, we notice that both $y_t$ and $\\pi_t$ show persistance, as their autocorrelation is positive. Especially, the inflation is very persistence as the autocorrelation is very close to 1. If it has been 1 all the values of $\\pi$ would have been the same. The high autocorrelation could be a result of the flat SRAS curve. "
   ]
  },
  {
   "cell_type": "markdown",
   "metadata": {},
   "source": [
    "## Question 2.5\n",
    "\n",
    "In this question, we calculate the correlation between $y_t$ and $\\pi_t$ and plot this correlation as a function of $\\phi$. "
   ]
  },
  {
   "cell_type": "code",
   "execution_count": 24,
   "metadata": {},
   "outputs": [
    {
     "name": "stdout",
     "output_type": "stream",
     "text": [
      "The value of phi that makes corr(y,pi) = 0.31 is phi = 0.93\n"
     ]
    },
    {
     "data": {
      "image/png": "[encoded data removed]",
      "text/plain": [
       "<Figure size 720x432 with 1 Axes>"
      ]
     },
     "metadata": {
      "needs_background": "light"
     },
     "output_type": "display_data"
    }
   ],
   "source": [
    "# Defining the correlation as a function \n",
    "\n",
    "def superman(s): \n",
    "    y_phi = np.zeros(num)\n",
    "    pi_phi = np.zeros(num)\n",
    "    for i in range(1,num): \n",
    "        y_sim_new = sol_y_func(vt=vt_new[i],st=st_new[i],pit1=pi_phi[i-1],yt1=y_phi[i-1],st1=st_new[i-1],phi=s)\n",
    "        y_phi[i] = y_sim_new\n",
    "        pi_sim_new = sol_pi_func(vt=vt_new[i],st=st_new[i],yt=y_phi[i],pit1=pi_phi[i-1],yt1=y_phi[i-1],st1=st_new[i-1],phi=s)\n",
    "        pi_phi[i] = pi_sim_new\n",
    "    \n",
    "    return np.corrcoef(y_phi,pi_phi)[0,1]\n",
    "\n",
    "# Finding the value of phi which give the correlation 0.31\n",
    "x0 = 0 \n",
    "def batman(x):\n",
    "    return (superman(x)-0.31)**2\n",
    "\n",
    "obj_func = lambda x: superman(x)-0.31\n",
    "\n",
    "result = optimize.minimize(batman,x0)\n",
    "phi_val = result.x[0]\n",
    "print(f'The value of phi that makes corr(y,pi) = 0.31 is phi = {phi_val:.2f}')\n",
    "\n",
    "# Plot \n",
    "x = np.linspace(0,1,100)\n",
    "y = np.empty(100)\n",
    "for i,X in enumerate(x):\n",
    "    y[i] = superman(X)\n",
    "    \n",
    "# i.  Font sizes\n",
    "title_font = {'size':'15'}\n",
    "label_font = {'size':'12'}\n",
    "# ii. Figure\n",
    "plt.figure(figsize=(10,6))\n",
    "plt.plot(x,y)\n",
    "plt.plot(phi_val,0.31, marker='o')\n",
    "plt.axvline(phi_val, linestyle='dotted', color=\"orange\", label=f'$\\phi$ = {phi_val:.2f}')\n",
    "plt.axhline(0.31, linestyle='dashed', color=\"orange\", label='corr(y,$\\pi$) = 0.31')\n",
    "plt.title('Figure 2.6: Correlation between $y_t$ and $\\pi_t$', **title_font)\n",
    "plt.xlabel('$\\phi$', **label_font)\n",
    "plt.ylabel('Correlation', **label_font)\n",
    "plt.grid(True)\n",
    "plt.legend()\n",
    "\n",
    "plt.show();\n",
    "\n"
   ]
  },
  {
   "cell_type": "markdown",
   "metadata": {},
   "source": [
    "Figure 2.6 shows the correlation between $y_t$ and $\\pi_t$ as a function of $\\phi$. We notice that the correlation increases in $\\phi$, meaning the more weight put on the past expected inflation instead of the past actual inflation when forming the present expectations to the inflation, the more closely $y_t$ and $\\pi_t$ are correlated. \n",
    "\n",
    "When $\\phi = 0.93$, the correlation between $y_t$ and $\\pi_t$ equals $0.31$, which is equal the to correlation between the two in the US economy. "
   ]
  },
  {
   "cell_type": "markdown",
   "metadata": {},
   "source": [
    "## Quesiton 2.6\n",
    "\n",
    "In question 2.6 when optimize $\\sigma_x$, $\\sigma_c$ and $\\phi$ in order to obtain moments of the model corresponding the the moments of the US economy. This is done using the scipy function optimze. "
   ]
  },
  {
   "cell_type": "code",
   "execution_count": 25,
   "metadata": {},
   "outputs": [],
   "source": [
    "# Defining function that returns the vectors of the equilibruim y and pi\n",
    "def superman(num, pars):\n",
    "    \"\"\"\n",
    "    Simulates y and pi values given shocks\n",
    "    Args: \n",
    "        num: Number of values in each array\n",
    "        pars: Dictionary of parameter values\n",
    "    Returns: \n",
    "        Array of simulated y values, y_sim\n",
    "        Array of simulated pi values pi_sim\n",
    "    \"\"\"\n",
    "    y_sim = np.zeros(num)\n",
    "    pi_sim = np.zeros(num)\n",
    "    \n",
    "    vt_sim = v_new(num,pars)\n",
    "    st_sim = s_new(num,pars)\n",
    "\n",
    "    for i in range(1,num): \n",
    "        y_val_i = sol_y_func(vt=vt_sim[i],st=st_sim[i],pit1=pi_sim[i-1],yt1=y_sim[i-1],st1=st_sim[i-1],phi=pars[2])\n",
    "        y_sim[i] += y_val_i\n",
    "        pi_val_i = sol_pi_func(vt=vt_sim[i],st=st_sim[i],yt=y_sim[i],pit1=pi_sim[i-1],yt1=y_sim[i-1],st1=st_sim[i-1],phi=pars[2])\n",
    "        pi_sim[i] += pi_val_i\n",
    "\n",
    "    return y_sim, pi_sim\n",
    "\n",
    "# Defining function that returns the variance, correlation, and autocorrelation of y and pi \n",
    "def batman(num, pars): # ar_corr_acorr\n",
    "    \"\"\"\n",
    "    Estimates variance of y, variance of pi, correlation between y and pi\n",
    "    autocorrelation of y and autocorrelation of pi\n",
    "    Arg: \n",
    "        num: Number of values in each y and pi array\n",
    "        pars: Dictionary of parameter values\n",
    "    Returns: \n",
    "        Variance of y, var_y\n",
    "        Variance of pi, var_pi\n",
    "        Correlation between y and pi, corr_ypi\n",
    "        Autocorrelaiton of y, acorr_y\n",
    "        Autocorrelation of pi, acorr_pi\n",
    "    \"\"\"\n",
    "    y_sim, pi_sim = superman(num, pars)\n",
    "    \n",
    "    var_y = np.var(y_sim)\n",
    "    var_pi = np.var(pi_sim)\n",
    "    corr_ypi = np.corrcoef(y_sim,pi_sim)[0,1]\n",
    "    acorr_y = np.corrcoef(y_sim[:-1],y_sim[1:])[0,1]\n",
    "    acorr_pi = np.corrcoef(pi_sim[:-1],pi_sim[1:])[0,1]\n",
    "    \n",
    "    return var_y, var_pi, corr_ypi, acorr_y, acorr_pi\n"
   ]
  },
  {
   "cell_type": "code",
   "execution_count": 26,
   "metadata": {},
   "outputs": [
    {
     "name": "stdout",
     "output_type": "stream",
     "text": [
      "Optimization terminated successfully.\n",
      "\n",
      "The optimal values of the parameters is:\n",
      "sigma_x = 3.124\n",
      "sigma_c = 0.219\n",
      "phi     = 0.951\n",
      " \n",
      "\n",
      "The moments of the model and the US economy are: \n",
      "             The model  US economy \n",
      "var(y):         1.57       1.64\n",
      "var(pi):        0.06       0.21\n",
      "corr(y,pi):     0.33       0.31\n",
      "corr(y,y_1):    0.79       0.84\n",
      "corr(pi,pi_1):  0.41       0.48\n",
      "\n"
     ]
    }
   ],
   "source": [
    "# Define function which finds the parameters of sigma_x, sigma_c and phi that minimize the difference \n",
    "# between moments of the model with the moments of the US economy\n",
    "def wolverine(num):\n",
    "    \"\"\"\n",
    "    Function finds values of sigma_x, sigma_c and phi which minimize the diffence between the \n",
    "    moments of the model and the moments of the US economy\n",
    "    Args: \n",
    "        num: Number of simulations \n",
    "    Returns: \n",
    "        Results from optimization process\n",
    "    \"\"\"\n",
    "       \n",
    "    def _flash(num,pars): \n",
    "        seed = 11\n",
    "        np.random.seed(seed)\n",
    "        \n",
    "        var_y, var_pi, corr_ypi, acorr_y, acorr_pi = batman(num, pars)\n",
    "\n",
    "        test = np.zeros(5)\n",
    "        \n",
    "        test[0] += (var_y-1.64)**2\n",
    "        test[1] += (var_pi-0.21)**2\n",
    "        test[2] += (corr_ypi-0.31)**2\n",
    "        test[3] += (acorr_y-0.84)**2\n",
    "        test[4] += (acorr_pi-0.48)**2\n",
    "        \n",
    "        return  np.sum(test)\n",
    "    \n",
    "    flash= lambda x: _flash(num,x)\n",
    "    \n",
    "    x0 = [par['sigma_x'], par['sigma_c'],phi_val]\n",
    "    bounds = ((0.0001,10000000), (0.0001,10000000), (0,1))\n",
    "    \n",
    "    result = optimize.minimize(flash,x0,\n",
    "                           method='SLSQP',\n",
    "                           bounds=bounds    \n",
    "                           )\n",
    "    \n",
    "    return result\n",
    "\n",
    "result = wolverine(num)\n",
    "var_y, var_pi, corr_ypi, acorr_y, acorr_pi = batman(num, result.x)\n",
    "print(f'{result.message}\\n')\n",
    "\n",
    "text = f'The optimal values of the parameters is:\\n'\n",
    "text += f'sigma_x = {result.x[0]:.3f}\\n'\n",
    "text += f'sigma_c = {result.x[1]:.3f}\\n'\n",
    "text += f'phi     = {result.x[2]:.3f}\\n \\n'\n",
    "print(text)\n",
    "\n",
    "text = f'The moments of the model and the US economy are: \\n'\n",
    "text += f'             The model  US economy \\n'\n",
    "text += f'var(y):         {var_y:.2f}       {1.64}\\n'\n",
    "text += f'var(pi):        {var_pi:.2f}       {0.21}\\n'\n",
    "text += f'corr(y,pi):     {corr_ypi:.2f}       {0.31}\\n'\n",
    "text += f'corr(y,y_1):    {acorr_y:.2f}       {0.84}\\n'\n",
    "text += f'corr(pi,pi_1):  {acorr_pi:.2f}       {0.48}\\n'\n",
    "\n",
    "print(text)"
   ]
  },
  {
   "cell_type": "markdown",
   "metadata": {},
   "source": [
    "Though our optimzer does terminate successfully, we see that some of the moments of our model are still relatively far from the moments of the US economy. This can be due to several factors, e.g. the initial guess or the method choosen in the optimizing process.  "
   ]
  },
  {
   "cell_type": "markdown",
   "metadata": {},
   "source": [
    "# Problem 3: Exchange economy"
   ]
  },
  {
   "cell_type": "code",
   "execution_count": 27,
   "metadata": {},
   "outputs": [],
   "source": [
    "## FROM EXAM-SHEET\n",
    "# a. parameters\n",
    "N = 50000\n",
    "mu = np.array([3,2,1])\n",
    "Sigma = np.array([[0.25, 0, 0], [0, 0.25, 0], [0, 0, 0.25]])\n",
    "gamma = 1\n",
    "zeta = 1\n",
    "\n",
    "# b. random draws\n",
    "seed = 1986\n",
    "np.random.seed(seed)\n",
    "\n",
    "# preferences\n",
    "alphas = np.exp(np.random.multivariate_normal(mu, Sigma, size=N))\n",
    "betas = alphas/np.reshape(np.sum(alphas,axis=1),(N,1))\n",
    "\n",
    "# endowments\n",
    "e1 = np.random.exponential(zeta,size=N)\n",
    "e2 = np.random.exponential(zeta,size=N)\n",
    "e3 = np.random.exponential(zeta,size=N)"
   ]
  },
  {
   "cell_type": "markdown",
   "metadata": {},
   "source": [
    "## Question 3.1\n",
    "We plot budget-shares by plotting $\\beta$'s, since we have that demand for consumer $j$ is given by:\n",
    "$$\n",
    "x^{*j}_1 = \\beta^j_i \\frac{I_j}{p_i}\n",
    "$$\n",
    "and budget-share thereby is given by:\n",
    "$$\n",
    "\\frac{p_i*x^{*j}_1}{I_j} = \\frac{p_i \\cdot \\beta^j_i \\frac{I_j}{p_i}}{I_j} = \\beta^j_i\n",
    "$$"
   ]
  },
  {
   "cell_type": "code",
   "execution_count": 28,
   "metadata": {},
   "outputs": [
    {
     "data": {
      "image/png": "[encoded data removed]",
      "text/plain": [
       "<Figure size 864x360 with 3 Axes>"
      ]
     },
     "metadata": {
      "needs_background": "light"
     },
     "output_type": "display_data"
    },
    {
     "name": "stdout",
     "output_type": "stream",
     "text": [
      "The mean is:     0.642                        0.258                          0.100\n",
      "The variance is: 0.018                        0.014                          0.003\n",
      "\n"
     ]
    }
   ],
   "source": [
    "# Plotting budget shares\n",
    "\n",
    "# Substracting beta-1's, beta-2's, and beta-3's\n",
    "beta_1s = betas[:,0]\n",
    "beta_2s = betas[:,1]\n",
    "beta_3s = betas[:,2]\n",
    "\n",
    "# Initiating subplot\n",
    "fig1, (ax1,ax2,ax3) = plt.subplots(nrows=1,ncols=3,sharey=True,figsize=(12,5))\n",
    "\n",
    "fig1.suptitle('Figure 3.1: Distribution of budget-shares as preferences')\n",
    "\n",
    "# Plotting histogram of each beta-value, setting titles, labels, and limits for each plot\n",
    "ax1.hist(beta_1s, bins=200)\n",
    "ax1.set_title('Good 1')\n",
    "ax1.set_xlabel('$\\\\beta_1$')\n",
    "ax1.set_ylabel('Number of persons')\n",
    "ax1.set_xlim(0,1)\n",
    "\n",
    "ax2.hist(beta_2s, bins=200)\n",
    "ax2.set_title('Good 2')\n",
    "ax2.set_xlabel('$\\\\beta_2$')\n",
    "ax2.set_xlim(0,1)\n",
    "\n",
    "ax3.hist(beta_3s, bins=200)\n",
    "ax3.set_title('Good 3')\n",
    "ax3.set_xlabel('$\\\\beta_3$')\n",
    "ax3.set_xlim(0,1);\n",
    "\n",
    "plt.show()\n",
    "\n",
    "\n",
    "text = f'The mean is: {np.mean(betas[:,0]):9.3f} {np.mean(betas[:,1]):28.3f} {np.mean(betas[:,2]):30.3f}\\n'\n",
    "text += f'The variance is: {np.var(betas[:,0]):.3f} {np.var(betas[:,1]):28.3f} {np.var(betas[:,2]):30.3f}\\n'\n",
    "\n",
    "\n",
    "print(text)"
   ]
  },
  {
   "cell_type": "markdown",
   "metadata": {},
   "source": [
    "From the three histograms above we see the distribution of preferences for the three goods are quite different. Good 1 has a relatively large spread, and the highest mean of the three. Good 2 also has a relatively large spread, but a smaller mean. Good 3 has the smallest mean and variance.\n",
    "The distributions indicate that people have a higher preference of good 1 and good 2, with good 1 being the preferred good. People generally have a dispreference for good 3, compared to the other two.\n",
    "\n",
    "**OBS: Jeg (Jakob) har tilføjet gns og varians nedenunder figuren, da teksten bruger det en del. Tilpas det hvis I synes**"
   ]
  },
  {
   "cell_type": "markdown",
   "metadata": {},
   "source": [
    "## Question 3.2"
   ]
  },
  {
   "cell_type": "code",
   "execution_count": 29,
   "metadata": {},
   "outputs": [],
   "source": [
    "# Defining functions calculating demand of each good\n",
    "def demand_good1(p1,p2,e1,e2,e3,betas):\n",
    "    \"\"\"\n",
    "    Calculating demand for good 1\n",
    "    \n",
    "    Args:\n",
    "        p1 (type: float): Price for good 1\n",
    "        p2 (type: float): Price for good 2\n",
    "        e1 (type: numpy array): Endowments of good 1\n",
    "        e2 (type: numpy array): Endowments of good 2\n",
    "        e3 (type: numpy array): Endowments of good 3\n",
    "        betas (type: numpy ndarray): Preferences for goods\n",
    "        \n",
    "    Returns:\n",
    "        (type: float): Demand for good 1\n",
    "    \"\"\"\n",
    "    I = e1*p1+e2*p2+e3\n",
    "    return betas[:,0]*I/p1\n",
    "\n",
    "def demand_good2(p1,p2,e1,e2,e3,betas):\n",
    "    \"\"\"\n",
    "    Calculating demand for good 2\n",
    "    \n",
    "    Args:\n",
    "        p1 (type: float): Price for good 1\n",
    "        p2 (type: float): Price for good 2\n",
    "        e1 (type: numpy array): Endowments of good 1\n",
    "        e2 (type: numpy array): Endowments of good 2\n",
    "        e3 (type: numpy array): Endowments of good 3\n",
    "        betas (type: numpy ndarray): Preferences for goods\n",
    "        \n",
    "    Returns:\n",
    "        (type: float): Demand for good 2\n",
    "    \"\"\"\n",
    "    I = e1*p1+e2*p2+e3\n",
    "    return betas[:,1]*I/p2\n",
    "\n",
    "def demand_good3(p1,p2,e1,e2,e3,betas):\n",
    "    \"\"\"\n",
    "    Calculating demand for good 3\n",
    "    \n",
    "    Args:\n",
    "        p1 (type: float): Price for good 1\n",
    "        p2 (type: float): Price for good 2\n",
    "        e1 (type: numpy array): Endowments of good 1\n",
    "        e2 (type: numpy array): Endowments of good 2\n",
    "        e3 (type: numpy array): Endowments of good 3\n",
    "        betas (type: numpy ndarray): Preferences for goods\n",
    "        \n",
    "    Returns:\n",
    "        (type: float): Demand for good 3\n",
    "    \"\"\"\n",
    "    I = e1*p1+e2*p2+e3\n",
    "    return betas[:,2]*I"
   ]
  },
  {
   "cell_type": "code",
   "execution_count": 30,
   "metadata": {},
   "outputs": [],
   "source": [
    "def excess_good1(p1,p2,e1,e2,e3,betas):\n",
    "    \"\"\"\n",
    "    Calculating excess demand of good 1\n",
    "    \n",
    "    Args:\n",
    "        p1 (type: float): Price for good 1\n",
    "        p2 (type: float): Price for good 2\n",
    "        e1 (type: numpy array): Endowments of good 1\n",
    "        e2 (type: numpy array): Endowments of good 2\n",
    "        e3 (type: numpy array): Endowments of good 3\n",
    "        betas (type: numpy ndarray): Preferences for goods\n",
    "        \n",
    "    Returns:\n",
    "        excess (type: float): Excess demand of good 1\n",
    "    \"\"\"\n",
    "    # Summing array of demand\n",
    "    demand = np.sum(demand_good1(p1,p2,e1,e2,e3,betas))\n",
    "    # Summing array of enowments\n",
    "    supply = np.sum(e1)\n",
    "    # Calculating excess demand\n",
    "    excess = demand-supply\n",
    "    return excess\n",
    "\n",
    "def excess_good2(p1,p2,e1,e2,e3,betas):\n",
    "    \"\"\"\n",
    "    Calculating excess demand of good 2\n",
    "    \n",
    "    Args:\n",
    "        p1 (type: float): Price for good 1\n",
    "        p2 (type: float): Price for good 2\n",
    "        e1 (type: numpy array): Endowments of good 1\n",
    "        e2 (type: numpy array): Endowments of good 2\n",
    "        e3 (type: numpy array): Endowments of good 3\n",
    "        betas (type: numpy ndarray): Preferences for goods\n",
    "        \n",
    "    Returns:\n",
    "        excess (type: float): Excess demand of good 2\n",
    "    \"\"\"\n",
    "    # Summing array of demand\n",
    "    demand = np.sum(demand_good2(p1,p2,e1,e2,e3,betas))\n",
    "    # Summing array of endowments\n",
    "    supply = np.sum(e2)\n",
    "    # Calculating excess demand\n",
    "    excess = demand-supply\n",
    "    return excess\n",
    "\n",
    "def excess_good3(p1,p2,e1,e2,e3,betas):\n",
    "    \"\"\"\n",
    "    Calculating excess demand of good 3\n",
    "    \n",
    "    Args:\n",
    "        p1 (type: float): Price for good 1\n",
    "        p2 (type: float): Price for good 2\n",
    "        e1 (type: numpy array): Endowments of good 1\n",
    "        e2 (type: numpy array): Endowments of good 2\n",
    "        e3 (type: numpy array): Endowments of good 3\n",
    "        betas (type: numpy ndarray): Preferences for goods\n",
    "        \n",
    "    Returns:\n",
    "        excess (type: float): Excess demand of good 3\n",
    "    \"\"\"\n",
    "    # Summing array of demand\n",
    "    demand = np.sum(demand_good3(p1,p2,e1,e2,e3,betas))\n",
    "    # Summing array of endowments\n",
    "    supply = np.sum(e3)\n",
    "    # Calculating excess demand\n",
    "    excess = demand-supply\n",
    "    return excess\n",
    "\n",
    "# Choosing number of price-values to plot function for\n",
    "size = 100\n",
    "\n",
    "# Generating arrays of prices\n",
    "p1_s = np.linspace(0.5,10,size)\n",
    "p2_s = np.linspace(0.5,10,size)\n",
    "\n",
    "# Initiating empty grids for excess demands\n",
    "excess_1_grid = np.empty((size,size))\n",
    "excess_2_grid = np.empty((size,size))\n",
    "excess_3_grid = np.empty((size,size))\n",
    "\n",
    "\n",
    "# Transforming price-vectors to grids\n",
    "p1_grid, p2_grid = np.meshgrid(p1_s, p2_s,indexing='ij') \n",
    "\n",
    "# Calculating excess-demands for each price-combination\n",
    "for i,p1 in enumerate(p1_s):\n",
    "    for j,p2 in enumerate(p2_s):\n",
    "        excess_1_grid[i,j] = excess_good1(p1,p2,e1,e2,e3,betas)\n",
    "        excess_2_grid[i,j] = excess_good2(p1,p2,e1,e2,e3,betas)\n",
    "        excess_3_grid[i,j] = excess_good3(p1,p2,e1,e2,e3,betas)"
   ]
  },
  {
   "cell_type": "code",
   "execution_count": 31,
   "metadata": {},
   "outputs": [
    {
     "data": {
      "image/png": "[encoded data removed]",
      "text/plain": [
       "<Figure size 1152x360 with 3 Axes>"
      ]
     },
     "metadata": {
      "needs_background": "light"
     },
     "output_type": "display_data"
    },
    {
     "name": "stdout",
     "output_type": "stream",
     "text": [
      "Note: z-axis displayed in thousands\n"
     ]
    }
   ],
   "source": [
    "# Function to convert z-ticks to thousands\n",
    "def thousands(x, pos):\n",
    "    return '%1.0f' % (x*1e-3)\n",
    "\n",
    "# Calling formatter\n",
    "formatter = FuncFormatter(thousands)\n",
    "\n",
    "# Initiating figure\n",
    "fig = plt.figure(figsize=(16,5))\n",
    "\n",
    "fig.suptitle('Figure 3.2: Excess demands for given prices')\n",
    "\n",
    "# Creating 3-d-subplots and setting properties\n",
    "ax1 = fig.add_subplot(131, projection='3d')\n",
    "fig1 = ax1.plot_surface(p1_grid,p2_grid,excess_1_grid)\n",
    "ax1.invert_xaxis()\n",
    "ax1.set_title('Excess demand good 1')\n",
    "ax1.set_xlabel('$p_1$')\n",
    "ax1.set_ylabel('$p_2$')\n",
    "\n",
    "# Formatting z-ticks to thousands\n",
    "ax1.zaxis.set_major_formatter(formatter)\n",
    "\n",
    "ax1.w_xaxis.set_pane_color((1.0, 1.0, 1.0, 1.0))\n",
    "ax1.w_yaxis.set_pane_color((1.0, 1.0, 1.0, 1.0))\n",
    "ax1.w_zaxis.set_pane_color((1.0, 1.0, 1.0, 1.0))\n",
    "\n",
    "ax2 = fig.add_subplot(132, projection='3d')\n",
    "ax2.plot_surface(p1_grid,p2_grid,excess_2_grid)\n",
    "ax2.invert_xaxis()\n",
    "ax2.set_title('Excess demand good 2')\n",
    "ax2.set_xlabel('$p_1$')\n",
    "ax2.set_ylabel('$p_2$') \n",
    "\n",
    "# Formatting z-ticks to thousands\n",
    "ax2.zaxis.set_major_formatter(formatter)\n",
    "\n",
    "ax2.w_xaxis.set_pane_color((1.0, 1.0, 1.0, 1.0))\n",
    "ax2.w_yaxis.set_pane_color((1.0, 1.0, 1.0, 1.0))\n",
    "ax2.w_zaxis.set_pane_color((1.0, 1.0, 1.0, 1.0))\n",
    "\n",
    "ax3 = fig.add_subplot(133, projection='3d')\n",
    "ax3.plot_surface(p1_grid,p2_grid,excess_3_grid)\n",
    "ax3.invert_xaxis()\n",
    "ax3.set_title('Excess demand good 3')\n",
    "ax3.set_xlabel('$p_1$')\n",
    "ax3.set_ylabel('$p_2$') \n",
    "\n",
    "# Formatting z-ticks to thousands\n",
    "ax3.zaxis.set_major_formatter(formatter)\n",
    "\n",
    "ax3.w_xaxis.set_pane_color((1.0, 1.0, 1.0, 1.0))\n",
    "ax3.w_yaxis.set_pane_color((1.0, 1.0, 1.0, 1.0))\n",
    "ax3.w_zaxis.set_pane_color((1.0, 1.0, 1.0, 1.0))\n",
    "\n",
    "plt.show() \n",
    "\n",
    "print('Note: z-axis displayed in thousands')"
   ]
  },
  {
   "cell_type": "markdown",
   "metadata": {},
   "source": [
    "The two figures above show excess demands of good 1 and 2 as functions of prices on these goods. From here we se that excess demand is generally decreasing in the goods own prices. The reason is that when the good is cheaper there is a higher demand and thereby also excess demand because the supply is fixed. But the excess demand depends on both prices and from the figures in figure 3.2, the walras prices, i.e. the prices that clears all markets, cannot be seen. We will find these by optimizing through the tâtonnement process below.\n",
    "\n",
    "**Kom fra Jake: Lidt sent måske at sige dette, men bør vi egentlig ikke have excess demand for good 3 også? i opgaven står der at vi skal vise excess demands og det inkludere vil også good 3. Den er vil særlig relevant da den må forvente at have høj excess demand når p1 og p2 er høje samtidig. Jeg har lige prøvet at sætte det ind. Hvis I synes den skal med må i lige tjekke koden er som den skal være - umiddelbart ser den lidt sjov ud selvom det gør som den skal (altså excess demand stiger i p1 og p2. Hvis den skal med skal den også lige kort kommenteres. Fx: \"As seen from the third panel, the excess demand for good 3 increases in the prices of good 1 and 2. This makes perfect sense as the prices of good 1 and 2 are meassured relatively to the price of good 3. Thus, as the prices of good 1 and 2 to increases good 3 becomes relatively cheaper, and the demand increases.\"**"
   ]
  },
  {
   "cell_type": "markdown",
   "metadata": {},
   "source": [
    "### Question 3.3"
   ]
  },
  {
   "cell_type": "code",
   "execution_count": 32,
   "metadata": {},
   "outputs": [],
   "source": [
    "def tatonnement(p1,p2,e1,e2,e3,betas,tol=1e-7,kappa=0.1,prints=True):\n",
    "    \"\"\"\n",
    "    Finds Walras-euilibrium prices through tâtonnement process, and printing (if chosen) iteration process\n",
    "    \n",
    "    Args:\n",
    "        p1 (type: float): Starting guess on price for good 1\n",
    "        p2 (type: float): Starting guess on price for good 2\n",
    "        e1 (type: numpy array): Endowments of good 1\n",
    "        e2 (type: numpy array): Endowments of good 2\n",
    "        e3 (type: numpy array): Endowments of good 3\n",
    "        betas (type: numpy ndarray): Preferences for goods\n",
    "        tol (type: float): Tolerance level for excess demands. Operates as substitute for zero\n",
    "        kappa (type: float): Conversion aggresivity\n",
    "        prints (type: boolean): Boolean deciding whether to print iteration process or not\n",
    "        \n",
    "    Returns:\n",
    "        p1_star (type: float (or None if no convergence)): Equilibrium price for good 1\n",
    "        p2_star (type: float (or None if no convergence)): Equilibrium price for good 2\n",
    "    \"\"\"\n",
    "    \n",
    "    # Calculating initial excess demands\n",
    "    ex_1 = excess_good1(p1,p2,e1,e2,e3,betas)\n",
    "    ex_2 = excess_good2(p1,p2,e1,e2,e3,betas)\n",
    "    \n",
    "    # Print starting values\n",
    "    if prints:\n",
    "        print(f'Start:{\" \":6s} excess good 1 = {ex_1:10.4f}, excess good 2 = {ex_2:10.4f} with p1 = {p1:10.6f}, p2 = {p2:10.6f} \\n')\n",
    "    \n",
    "    # Setting iteration counter\n",
    "    t = 1\n",
    "    \n",
    "    # Looping for a maximum of 100000 iterations\n",
    "    while t < 100000:\n",
    "        \n",
    "        # Calculating initial excess demands\n",
    "        ex_1 = excess_good1(p1,p2,e1,e2,e3,betas)\n",
    "        ex_2 = excess_good2(p1,p2,e1,e2,e3,betas)\n",
    "\n",
    "        # Checking whether excess demands has converged to below tolerance level\n",
    "        if abs(ex_1)<tol and abs(ex_2)<tol:\n",
    "            # Printing (if chosen) and setting equilibrium prices, an returning function (so it stops)\n",
    "            if prints:\n",
    "                print(f'\\nPrices in Walras equilibrium are: p1 = {p1:.3f} and p2 = {p2:.3f}')\n",
    "            p1_star = p1\n",
    "            p2_star = p2\n",
    "            return p1_star, p2_star\n",
    "\n",
    "        # If excess demands have not converged, prices are adjusted by average excess demand multiplied by kappa\n",
    "        else:\n",
    "            p1 += kappa*ex_1/N\n",
    "            p2 += kappa*ex_2/N\n",
    "\n",
    "        # Print iteration process    \n",
    "        if prints:\n",
    "            if t <= 5:\n",
    "                print(f'Iter {t:6.0f}: excess good 1 = {ex_1:10.4f}, excess good 2 = {ex_2:10.4f} ---> p1 = {p1:10.6f}, p2 = {p2:10.6f}')\n",
    "                time.sleep(.5)\n",
    "\n",
    "            if t == 5:\n",
    "                print('\\n...\\n')\n",
    "\n",
    "            if t%1000 == 0:\n",
    "                print(f'Iter {t:6.0f}: excess good 1 = {ex_1:10.4f}, excess good 2 = {ex_2:10.4f} ---> p1 = {p1:10.6f}, p2 = {p2:10.6f}')\n",
    "\n",
    "        # Updating iteration counter\n",
    "        t += 1\n",
    "        \n",
    "    # Print statement if maximum numbers of iterations is exceeded\n",
    "    if t == 100000: \n",
    "        text = 'Excess demands did not converge \\n'\n",
    "        text += f'Excess good 1 = {ex_1:10.4f} and excess good 2 = {ex_2:10.4f}'\n",
    "        text += f'Prices at p1 = {p1:10.6f} and p2 = {p2:10.6f}'\n",
    "        print(text)\n",
    "        return None, None"
   ]
  },
  {
   "cell_type": "code",
   "execution_count": 33,
   "metadata": {},
   "outputs": [
    {
     "name": "stdout",
     "output_type": "stream",
     "text": [
      "Start:       excess good 1 = -8229.9057, excess good 2 = 33953.2761 with p1 =  10.000000, p2 =   2.000000 \n",
      "\n",
      "Iter      1: excess good 1 = -8229.9057, excess good 2 = 33953.2761 ---> p1 =   9.983540, p2 =   2.067907\n",
      "Iter      2: excess good 1 = -7996.8734, excess good 2 = 31524.8187 ---> p1 =   9.967546, p2 =   2.130956\n",
      "Iter      3: excess good 1 = -7779.1018, excess good 2 = 29404.3235 ---> p1 =   9.951988, p2 =   2.189765\n",
      "Iter      4: excess good 1 = -7574.6873, excess good 2 = 27532.7659 ---> p1 =   9.936839, p2 =   2.244830\n",
      "Iter      5: excess good 1 = -7382.0917, excess good 2 = 25865.8947 ---> p1 =   9.922075, p2 =   2.296562\n",
      "\n",
      "...\n",
      "\n",
      "Iter   1000: excess good 1 =  -577.5643, excess good 2 =  -215.2719 ---> p1 =   7.189169, p2 =   2.877381\n",
      "Iter   2000: excess good 1 =  -110.2233, excess good 2 =   -41.1123 ---> p1 =   6.612840, p2 =   2.662496\n",
      "Iter   3000: excess good 1 =   -18.2890, excess good 2 =    -6.8226 ---> p1 =   6.510114, p2 =   2.624177\n",
      "Iter   4000: excess good 1 =    -2.9564, excess good 2 =    -1.1029 ---> p1 =   6.493289, p2 =   2.617901\n",
      "Iter   5000: excess good 1 =    -0.4758, excess good 2 =    -0.1775 ---> p1 =   6.490575, p2 =   2.616888\n",
      "Iter   6000: excess good 1 =    -0.0765, excess good 2 =    -0.0286 ---> p1 =   6.490139, p2 =   2.616725\n",
      "Iter   7000: excess good 1 =    -0.0123, excess good 2 =    -0.0046 ---> p1 =   6.490069, p2 =   2.616699\n",
      "Iter   8000: excess good 1 =    -0.0020, excess good 2 =    -0.0007 ---> p1 =   6.490057, p2 =   2.616695\n",
      "Iter   9000: excess good 1 =    -0.0003, excess good 2 =    -0.0001 ---> p1 =   6.490055, p2 =   2.616694\n",
      "Iter  10000: excess good 1 =    -0.0001, excess good 2 =    -0.0000 ---> p1 =   6.490055, p2 =   2.616694\n",
      "Iter  11000: excess good 1 =    -0.0000, excess good 2 =    -0.0000 ---> p1 =   6.490055, p2 =   2.616694\n",
      "Iter  12000: excess good 1 =    -0.0000, excess good 2 =    -0.0000 ---> p1 =   6.490055, p2 =   2.616694\n",
      "Iter  13000: excess good 1 =    -0.0000, excess good 2 =    -0.0000 ---> p1 =   6.490055, p2 =   2.616694\n",
      "\n",
      "Prices in Walras equilibrium are: p1 = 6.490 and p2 = 2.617\n"
     ]
    }
   ],
   "source": [
    "# Finding Walras-equilibrium prices\n",
    "\n",
    "# Initial guess on prices\n",
    "p1 = 10\n",
    "p2 = 2\n",
    "\n",
    "# Calling function to find equilibrium prices\n",
    "p1_star, p2_star = tatonnement(p1,p2,e1,e2,e3,betas)"
   ]
  },
  {
   "cell_type": "markdown",
   "metadata": {},
   "source": [
    "From the process above we see how adjusting prices subject to the excess demands lets prices converge to their Walras-equilibrium values. By setting excess demand equal to zero in two of the market, the third market clears as well. The high price of good 1 is caused by higher preferences for this good, cf. figure 3.1. As the supplies of all the goods are almost the same, the price of good 1 has to be high in order for the markets to clear. The same arguement apply to the fact the price on good 2 is higher than 1, i.e. is more expensive than good 3."
   ]
  },
  {
   "cell_type": "markdown",
   "metadata": {},
   "source": [
    "### Question 3.4"
   ]
  },
  {
   "cell_type": "code",
   "execution_count": 34,
   "metadata": {},
   "outputs": [],
   "source": [
    "def utility(p1, p2, e1, e2, e3, betas, gamma):\n",
    "    \"\"\"\n",
    "    Calculating utility\n",
    "    \n",
    "    Args:\n",
    "        p1 (type: float): Starting guess on price for good 1\n",
    "        p2 (type: float): Starting guess on price for good 2\n",
    "        e1 (type: numpy array): Endowments of good 1\n",
    "        e2 (type: numpy array): Endowments of good 2\n",
    "        e3 (type: numpy array): Endowments of good 3\n",
    "        betas (type: numpy ndarray): Preferences for goods\n",
    "        gamma (type: float): Utility scalar\n",
    "    \n",
    "    Returns:\n",
    "        util (type: numpy array): Vector of utility-values \n",
    "    \"\"\"\n",
    "    # Calculating income\n",
    "    I = p1*e1+p2*e2+e3\n",
    "    \n",
    "    # Calculating demands based on given prices, preferences and income\n",
    "    x_1 = betas[:,0]*(I/p1)\n",
    "    x_2 = betas[:,1]*(I/p2)\n",
    "    x_3 = betas[:,2]*I\n",
    "    \n",
    "    # Calculating utility\n",
    "    util = (x_1**betas[:,0]+x_2**betas[:,1]+x_3**betas[:,2])**gamma\n",
    "    return util"
   ]
  },
  {
   "cell_type": "code",
   "execution_count": 35,
   "metadata": {},
   "outputs": [
    {
     "name": "stdout",
     "output_type": "stream",
     "text": [
      "The distribution of the utilities has a mean of 2.967 and a variance of 0.512\n"
     ]
    },
    {
     "data": {
      "image/png": "[encoded data removed]",
      "text/plain": [
       "<Figure size 432x288 with 1 Axes>"
      ]
     },
     "metadata": {
      "needs_background": "light"
     },
     "output_type": "display_data"
    }
   ],
   "source": [
    "# Calling function to find vector of utilities\n",
    "u_vec = utility(p1_star, p2_star, e1, e2, e3, betas, gamma)\n",
    "\n",
    "# Plotting distribution of utilities, and printing mean and variance\n",
    "plt.hist(u_vec, bins=500)\n",
    "plt.title('Figure 3.3: \\nDistribution of utilities in Walras-equilibrium')\n",
    "plt.xlabel('Utility values')\n",
    "plt.ylabel('Number of people')\n",
    "mean = np.mean(u_vec)\n",
    "var = np.var(u_vec)\n",
    "print(f'The distribution of the utilities has a mean of {mean:.3f} and a variance of {var:.3f}')"
   ]
  },
  {
   "cell_type": "markdown",
   "metadata": {},
   "source": [
    "From the figure above we see how utilities are distributed in the Walras-equilibrium. The variance of the utility-distribution is determined by peoples endowments and preferences. People having a larger endowment of good 1, which is relatively expensive, and high preferences for good 2 and 3, which are relatively cheap, have higher utilities. Either they ahve a higher income or the are able to 'buy' more utility for the same money. "
   ]
  },
  {
   "cell_type": "markdown",
   "metadata": {},
   "source": [
    "### Question 3.5"
   ]
  },
  {
   "cell_type": "code",
   "execution_count": 36,
   "metadata": {},
   "outputs": [
    {
     "name": "stdout",
     "output_type": "stream",
     "text": [
      "Start:       excess good 1 = -8246.4733, excess good 2 = 34022.6195 with p1 =  10.000000, p2 =   2.000000 \n",
      "\n",
      "Iter      1: excess good 1 = -8246.4733, excess good 2 = 34022.6195 ---> p1 =   9.983507, p2 =   2.068045\n",
      "Iter      2: excess good 1 = -8012.9554, excess good 2 = 31586.7949 ---> p1 =   9.967481, p2 =   2.131219\n",
      "Iter      3: excess good 1 = -7794.7436, excess good 2 = 29460.2821 ---> p1 =   9.951892, p2 =   2.190139\n",
      "Iter      4: excess good 1 = -7589.9263, excess good 2 = 27583.7185 ---> p1 =   9.936712, p2 =   2.245307\n",
      "Iter      5: excess good 1 = -7396.9587, excess good 2 = 25912.6183 ---> p1 =   9.921918, p2 =   2.297132\n",
      "\n",
      "...\n",
      "\n",
      "Iter   1000: excess good 1 =  -577.8899, excess good 2 =  -215.6924 ---> p1 =   7.184463, p2 =   2.878055\n",
      "Iter   2000: excess good 1 =  -109.9982, excess good 2 =   -41.0852 ---> p1 =   6.608340, p2 =   2.662948\n",
      "Iter   3000: excess good 1 =   -18.2017, excess good 2 =    -6.7995 ---> p1 =   6.505925, p2 =   2.624692\n",
      "Iter   4000: excess good 1 =    -2.9344, excess good 2 =    -1.0962 ---> p1 =   6.489196, p2 =   2.618443\n",
      "Iter   5000: excess good 1 =    -0.4710, excess good 2 =    -0.1760 ---> p1 =   6.486505, p2 =   2.617438\n",
      "Iter   6000: excess good 1 =    -0.0756, excess good 2 =    -0.0282 ---> p1 =   6.486074, p2 =   2.617276\n",
      "Iter   7000: excess good 1 =    -0.0121, excess good 2 =    -0.0045 ---> p1 =   6.486004, p2 =   2.617251\n",
      "Iter   8000: excess good 1 =    -0.0019, excess good 2 =    -0.0007 ---> p1 =   6.485993, p2 =   2.617246\n",
      "Iter   9000: excess good 1 =    -0.0003, excess good 2 =    -0.0001 ---> p1 =   6.485991, p2 =   2.617246\n",
      "Iter  10000: excess good 1 =    -0.0001, excess good 2 =    -0.0000 ---> p1 =   6.485991, p2 =   2.617246\n",
      "Iter  11000: excess good 1 =    -0.0000, excess good 2 =    -0.0000 ---> p1 =   6.485991, p2 =   2.617246\n",
      "Iter  12000: excess good 1 =    -0.0000, excess good 2 =    -0.0000 ---> p1 =   6.485991, p2 =   2.617246\n",
      "Iter  13000: excess good 1 =    -0.0000, excess good 2 =    -0.0000 ---> p1 =   6.485991, p2 =   2.617246\n",
      "\n",
      "Prices in Walras equilibrium are: p1 = 6.486 and p2 = 2.617\n"
     ]
    }
   ],
   "source": [
    "# Set new set of endowments, equal to mean of each initial endowment\n",
    "e1_new = np.zeros(N)+np.mean(e1)\n",
    "e2_new = np.zeros(N)+np.mean(e2)\n",
    "e3_new = np.zeros(N)+np.mean(e3)\n",
    "\n",
    "p1 = 10\n",
    "p2 = 2\n",
    "\n",
    "p1_star_new, p2_star_new = tatonnement(p1,p2,e1_new,e2_new,e3_new,betas)"
   ]
  },
  {
   "cell_type": "markdown",
   "metadata": {},
   "source": [
    "By finding Walras-equilibrium prices for a situation, where everyone is given the same endowment equal to the mean of the previous endowments, we see that prices do not change significantly, but are virtually the same. From this we see that prices are not determined by the distribution of endowments, but rahter preferences. This is not surpricen as the total supplies of the three goods have not changed, and we concluded in question 4 that prices were set to off set the differences in preferences."
   ]
  },
  {
   "cell_type": "code",
   "execution_count": 37,
   "metadata": {},
   "outputs": [],
   "source": [
    "# Calculating utlities for different values of gamma\n",
    "gamma_list = [.5,.8,1,1.5,2]\n",
    "u_vec_list = []\n",
    "u_vec_new_list = []\n",
    "\n",
    "for j,gamma in enumerate(gamma_list):\n",
    "    u_vec_new_list.append(utility(p1_star_new, p2_star_new, e1_new, e2_new, e3_new, betas, gamma))\n",
    "    u_vec_list.append(utility(p1_star, p2_star, e1, e2, e3, betas, gamma))\n"
   ]
  },
  {
   "cell_type": "code",
   "execution_count": 38,
   "metadata": {},
   "outputs": [
    {
     "data": {
      "application/vnd.jupyter.widget-view+json": {
       "model_id": "651a0407c975499a80a7d2cd3bf2ea55",
       "version_major": 2,
       "version_minor": 0
      },
      "text/plain": [
       "interactive(children=(RadioButtons(description='$\\\\gamma$', index=1, options=(0.5, 0.8, 1, 1.5, 2), value=0.8)…"
      ]
     },
     "metadata": {},
     "output_type": "display_data"
    }
   ],
   "source": [
    "def _disfig(gamma):\n",
    "    \"\"\"\n",
    "    Function to be called in interactive figure\n",
    "    \n",
    "    Args:\n",
    "        gamma (type: float): Utility scalar, which is defined by widgets.interact\n",
    "        \n",
    "    Returns:\n",
    "        None\n",
    "        \n",
    "    Note:\n",
    "        Uses values for equilibrium prices, endowments, and preferences, which are all defined earlier in the code.\n",
    "        Plots two figures and prints text containing mean and variance.\n",
    "    \"\"\"\n",
    "    # Calculate utility-vectors\n",
    "    u_vec_new = u_vec_new_list[gamma_list.index(gamma)]\n",
    "    u_vec = u_vec_list[gamma_list.index(gamma)]\n",
    "\n",
    "    # Calculate means and variances\n",
    "    mean_new = np.mean(u_vec_new)\n",
    "    var_new = np.var(u_vec_new)\n",
    "    mean = np.mean(u_vec)\n",
    "    var = np.var(u_vec)\n",
    "\n",
    "    # Initiate subplot-figure\n",
    "    fig, (ax1, ax2) = plt.subplots(nrows=1,ncols=2,sharex=True,sharey=True,figsize=(12,5))\n",
    "\n",
    "    # Plot utility distributions and set figure-properties\n",
    "    ax1.hist(u_vec_new, bins=500)\n",
    "    ax1.set_title('Distribution of utilites with \\nequally distributed endowments')\n",
    "    ax1.set_xlabel('Utility-value')\n",
    "    ax1.set_ylabel('Number of people')\n",
    "\n",
    "    ax2.hist(u_vec, bins=500)\n",
    "    ax2.set_title('Distribution of utilities with \\nexponential distributed endowments')\n",
    "    ax2.set_xlabel('Utility-value')\n",
    "\n",
    "    # Print text containing means and variances\n",
    "    ax1_text = f'Mean = {mean_new:.3f}, Variance = {var_new:.3f}'\n",
    "    ax2_text = f'Mean = {mean:.3f}, Variance = {var:.3f}'\n",
    "    \n",
    "    text = f'{\" \":13s}'\n",
    "    text += f'Mean = {mean_new:.3f}, variance = {var_new:.3f}'\n",
    "    text += f'{\" \":15s}'\n",
    "    text += f'Mean = {mean:.3f}, variance = {var:.3f}' \n",
    "    \n",
    "    \n",
    "    plt.show()\n",
    "    print(text)\n",
    "\n",
    "# Calling interactive function\n",
    "widgets.interact(_disfig,\n",
    "                gamma = widgets.RadioButtons(\n",
    "                description = '$\\\\gamma$',\n",
    "                options=gamma_list,\n",
    "                value=0.8));"
   ]
  },
  {
   "cell_type": "markdown",
   "metadata": {},
   "source": [
    "From the figures and calculated moments above we see that the distribution of the utilites change alot although prices do not. In a situation with equal endowment the utility distribution has a low variance compared to a situation with exponential distributed endowments, although the means are close to identical. The variance decreases because now there is only one factor contrinuting to the utility, that is the preferences. Before the income also varied between the people as they had different endowments whereas they all have the same endowment now. <br>\n",
    "By changing the value of $\\gamma$, we see that the variance in both situations increases. The reason is that $\\gamma$ scale the utility up or down. Consequently, as $\\gamma$ goes towards 0 the variance goes towards 0, and as $\\gamma$ goes towards $\\infty$ the variance goes towards $\\infty$ as well."
   ]
  },
  {
   "cell_type": "code",
   "execution_count": null,
   "metadata": {},
   "outputs": [],
   "source": []
  }
 ],
 "metadata": {
  "kernelspec": {
   "display_name": "Python 3",
   "language": "python",
   "name": "python3"
  },
  "language_info": {
   "codemirror_mode": {
    "name": "ipython",
    "version": 3
   },
   "file_extension": ".py",
   "mimetype": "text/x-python",
   "name": "python",
   "nbconvert_exporter": "python",
   "pygments_lexer": "ipython3",
   "version": "3.7.1"
  },
  "toc-autonumbering": false
 },
 "nbformat": 4,
 "nbformat_minor": 2
}
