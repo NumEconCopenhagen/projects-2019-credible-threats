{
 "cells": [
  {
   "cell_type": "markdown",
   "metadata": {},
   "source": [
    "# Problem 2: The AS-AD Model"
   ]
  },
  {
   "cell_type": "markdown",
   "metadata": {},
   "source": [
    "Consider the following **AS-AD model**. The **goods market equilibrium** is given by\n",
    "\n",
    "$$ y_{t} = -\\alpha r_{t} + v_{t} $$\n",
    "\n",
    "where $y_{t}$ is the **output gap**, $r_{t}$ is the **ex ante real interest** and $v_{t}$ is a **demand disturbance**. "
   ]
  },
  {
   "cell_type": "markdown",
   "metadata": {},
   "source": [
    "The central bank's **Taylor rule** is\n",
    "\n",
    "$$ i_{t} = \\pi_{t+1}^{e} + h \\pi_{t} + b y_{t}$$\n",
    "\n",
    "where $i_{t}$ is the **nominal interest rate**, $\\pi_{t}$ is the **inflation gap**, and $\\pi_{t+1}^{e}$ is the **expected inflation gap**. "
   ]
  },
  {
   "cell_type": "markdown",
   "metadata": {},
   "source": [
    "The **exante real interest rate** is given by \n",
    "\n",
    "$$ r_{t} = i_{t} - \\pi_{t+1}^{e} $$"
   ]
  },
  {
   "cell_type": "markdown",
   "metadata": {},
   "source": [
    "Together, the above implies that the **AD-curve** is\n",
    "\n",
    "$$ \\pi_{t} = \\frac{1}{h\\alpha}\\left[v_{t} - (1+b\\alpha)y_{t}\\right]$$"
   ]
  },
  {
   "cell_type": "markdown",
   "metadata": {},
   "source": [
    "Further, assume that the **short-run supply curve (SRAS)** is given by\n",
    "\n",
    "$$ \\pi_{t} = \\pi_{t}^{e} + \\gamma y_{t} + s_{t}$$\n",
    "\n",
    "where $s_t$ is a **supply disturbance**."
   ]
  },
  {
   "cell_type": "markdown",
   "metadata": {},
   "source": [
    "**Inflation expectations are adaptive** and given by\n",
    "\n",
    "$$ \\pi_{t}^{e} = \\phi\\pi_{t-1}^{e} + (1-\\phi)\\pi_{t-1}$$"
   ]
  },
  {
   "cell_type": "markdown",
   "metadata": {},
   "source": [
    "Together, this implies that the **SRAS-curve** can also be written as\n",
    "\n",
    "$$ \\pi_{t} = \\pi_{t-1} + \\gamma y_{t} - \\phi\\gamma y_{t-1} + s_{t} - \\phi s_{t-1} $$"
   ]
  },
  {
   "cell_type": "markdown",
   "metadata": {},
   "source": [
    "The **parameters** of the model are:"
   ]
  },
  {
   "cell_type": "code",
   "execution_count": 294,
   "metadata": {},
   "outputs": [],
   "source": [
    "# Setting parameters from Exam\n",
    "par = {}\n",
    "\n",
    "par['alpha'] = 5.76\n",
    "par['h'] = 0.5\n",
    "par['b'] = 0.5\n",
    "par['phi'] = 0\n",
    "par['gamma'] = 0.075"
   ]
  },
  {
   "cell_type": "code",
   "execution_count": 295,
   "metadata": {},
   "outputs": [],
   "source": [
    "import numpy as np\n",
    "from scipy import linalg\n",
    "from scipy import optimize\n",
    "import sympy as sm\n",
    "import matplotlib.pyplot as plt\n",
    "import ipywidgets as widgets\n",
    "import sympy as sm"
   ]
  },
  {
   "cell_type": "markdown",
   "metadata": {},
   "source": [
    "## Question 1\n",
    "Use the ``sympy`` module to solve for the equilibrium values of output, $y_t$, and inflation, $\\pi_t$, (where AD = SRAS) given the parameters ($\\alpha$, $h$, $b$, $\\alpha$, $\\gamma$) and $y_{t-1}$ , $\\pi_{t-1}$, $v_t$, $s_t$, and $s_{t-1}$."
   ]
  },
  {
   "cell_type": "code",
   "execution_count": 296,
   "metadata": {},
   "outputs": [],
   "source": [
    "# Defining the AD and the SRAS functions in Sympy \n",
    "\n",
    "# i. Defining symbols\n",
    "sm.init_printing(use_unicode=True)\n",
    "pit = sm.symbols('pi_t')\n",
    "pit1 = sm.symbols('pi_t-1')\n",
    "alpha = sm.symbols('alpha')\n",
    "gamma = sm.symbols('gamma')\n",
    "phi = sm.symbols('phi')\n",
    "h = sm.symbols('h')\n",
    "b = sm.symbols('b')\n",
    "vt = sm.symbols('v_t')\n",
    "yt = sm.symbols('y_t')\n",
    "yt1 = sm.symbols('y_t-1')\n",
    "st = sm.symbols('s_t')\n",
    "st1 = sm.symbols('s_t-1')\n",
    "\n",
    "\n",
    "# ii. AD-curve \n",
    "AD = sm.Eq(1/(h*alpha)*(vt-(1+b*alpha)*yt), pit)\n",
    "\n",
    "# iii. SRAS-curve \n",
    "SRAS = sm.Eq(pit1 + gamma*yt - phi*gamma*yt1 + st - phi*st1, pit)\n",
    "\n"
   ]
  },
  {
   "cell_type": "code",
   "execution_count": 297,
   "metadata": {},
   "outputs": [
    {
     "name": "stdout",
     "output_type": "stream",
     "text": [
      "The equilibrium value of y is:\n"
     ]
    },
    {
     "data": {
      "image/png": "[encoded data removed]",
      "text/latex": [
       "$\\displaystyle \\left[ \\frac{\\alpha \\gamma h \\phi y_{t-1} + \\alpha h \\phi s_{t-1} - \\alpha h \\pi_{t-1} - \\alpha h s_{t} + v_{t}}{\\alpha b + \\alpha \\gamma h + 1}\\right]$"
      ],
      "text/plain": [
       "⎡α⋅γ⋅h⋅φ⋅yₜ₋₁ + α⋅h⋅φ⋅sₜ₋₁ - α⋅h⋅πₜ₋₁ - α⋅h⋅sₜ + vₜ⎤\n",
       "⎢──────────────────────────────────────────────────⎥\n",
       "⎣                 α⋅b + α⋅γ⋅h + 1                  ⎦"
      ]
     },
     "execution_count": 297,
     "metadata": {},
     "output_type": "execute_result"
    }
   ],
   "source": [
    "# Solving for y through Sympy \n",
    "\n",
    "# a. Setting AD equal to SRAS \n",
    "AD_SRAS = sm.Eq(1/(h*alpha)*(vt-(1+b*alpha)*yt), pit1 + gamma*yt - phi*gamma*yt1 + st - phi*st1)\n",
    "\n",
    "# b. Solving for y \n",
    "yt_star = sm.solve(AD_SRAS, yt)\n",
    "\n",
    "# c. Printing y*\n",
    "print(f'The equilibrium value of y is:')\n",
    "yt_star"
   ]
  },
  {
   "cell_type": "code",
   "execution_count": 298,
   "metadata": {},
   "outputs": [
    {
     "name": "stdout",
     "output_type": "stream",
     "text": [
      "The equilibrium value of pi is:\n"
     ]
    },
    {
     "data": {
      "image/png": "[encoded data removed]",
      "text/latex": [
       "$\\displaystyle \\frac{v_{t} - \\frac{\\left(\\alpha b + 1\\right) \\left(\\alpha \\gamma h \\phi y_{t-1} + \\alpha h \\phi s_{t-1} - \\alpha h \\pi_{t-1} - \\alpha h s_{t} + v_{t}\\right)}{\\alpha b + \\alpha \\gamma h + 1}}{\\alpha h}$"
      ],
      "text/plain": [
       "     (α⋅b + 1)⋅(α⋅γ⋅h⋅φ⋅yₜ₋₁ + α⋅h⋅φ⋅sₜ₋₁ - α⋅h⋅πₜ₋₁ - α⋅h⋅sₜ + vₜ)\n",
       "vₜ - ──────────────────────────────────────────────────────────────\n",
       "                            α⋅b + α⋅γ⋅h + 1                        \n",
       "───────────────────────────────────────────────────────────────────\n",
       "                                α⋅h                                "
      ]
     },
     "execution_count": 298,
     "metadata": {},
     "output_type": "execute_result"
    }
   ],
   "source": [
    "# Solving for pi through Sympy\n",
    "\n",
    "# a. Inserting y* in the AD function\n",
    "pit_star = 1/(h*alpha)*(vt-(1+b*alpha)*yt_star[0])\n",
    "\n",
    "# b. Printing pi*\n",
    "print(f'The equilibrium value of pi is:')\n",
    "pit_star"
   ]
  },
  {
   "cell_type": "markdown",
   "metadata": {},
   "source": [
    "## Question 2\n",
    "Find and illustrate the equilibrium when $y_{t-1} = \\pi_{t-1} = v_t = s_t = s_{t-1} = 0$. Illustrate how the equilibrium changes when instead $v_t = 0.1$."
   ]
  },
  {
   "cell_type": "code",
   "execution_count": 299,
   "metadata": {},
   "outputs": [],
   "source": [
    "# Defining initial variable values \n",
    "yt1_int  = 0 \n",
    "pit1_int = 0 \n",
    "vt_int   = 0 \n",
    "st_int   = 0 \n",
    "st1_int  = 0 \n",
    "vt_one   = 0.1\n",
    "\n",
    "\n",
    "## Solving numerically for y \n",
    "\n",
    "# a. Defining a lambda function of yt_eq \n",
    "_sol_y_func = sm.lambdify((h,b,alpha,gamma,phi,vt,st,pit1,yt1,st1),yt_star[0])\n",
    "\n",
    "# b. Defining a function which solve for y, given values and parameters \n",
    "def sol_y_func(vt,st,pit1,yt1,st1,h=par['h'],alpha=par['alpha'],b=par['b'],gamma=par['gamma'],phi=par['phi']):\n",
    "    return _sol_y_func(h,b,alpha,gamma,phi,vt,st,pit1,yt1,st1)\n",
    "\n",
    "# c. Solving for y and printing the solution \n",
    "y_star = sol_y_func(vt=vt_int,st=st_int,pit1=pit1_int,yt1=yt1_int,st1=st1_int)\n",
    "\n",
    "\n",
    "##  Solving for pi \n",
    "\n",
    "# a. Defining a lambda function of yt_eq \n",
    "_sol_pi_func = sm.lambdify((h,b,alpha,gamma,phi,yt,vt,st,pit1,yt1,st1),pit_star)\n",
    "\n",
    "# b. Defining a function which solve for pi, given values and parameters\n",
    "def sol_pi_func(vt,st,yt,pit1,yt1,st1,h=par['h'],alpha=par['alpha'],b=par['b'],gamma=par['gamma'],phi=par['phi']):\n",
    "    return _sol_pi_func(h,b,alpha,gamma,phi,yt,vt,st,pit1,yt1,st1)\n",
    "\n",
    "# c. Solving for pi, using the value of y_star, and printing the solution \n",
    "pi_star = sol_pi_func(vt=vt_int,st=st_int,yt=y_star,pit1=pit1_int,yt1=yt1_int,st1=st1_int)\n"
   ]
  },
  {
   "cell_type": "code",
   "execution_count": 300,
   "metadata": {},
   "outputs": [],
   "source": [
    "# Illustration \n",
    "\n",
    "# Define AD and SRAS curves as functions\n",
    "def AD_curve(h,b,alpha,vt,yt): \n",
    "    return 1/(h*alpha)*(vt-(1+b*alpha)*yt)\n",
    "                               \n",
    "def SRAS_curve(gamma,phi,pit1,yt,yt1,st,st1): \n",
    "    return pit1+gamma*yt-phi*gamma*yt1+st-phi*st1"
   ]
  },
  {
   "cell_type": "code",
   "execution_count": 301,
   "metadata": {},
   "outputs": [
    {
     "name": "stdout",
     "output_type": "stream",
     "text": [
      "The equilibrium value of y and pi, given vt = 0: (0.0;0.0)\n",
      "The equilibrium value of y and pi, given vt = 0.1: (0.0244;0.00183)\n"
     ]
    },
    {
     "data": {
      "image/png": "[encoded data removed]",
      "text/plain": [
       "<Figure size 720x432 with 1 Axes>"
      ]
     },
     "metadata": {
      "needs_background": "light"
     },
     "output_type": "display_data"
    }
   ],
   "source": [
    "# Calculating equilibrium values for vt = 0 and vt=0.1\n",
    "y_star_new = sol_y_func(vt=vt_one,st=st_int,pit1=pit1_int,yt1=yt1_int,st1=st1_int)\n",
    "pi_star_new = sol_pi_func(vt=vt_one,st=st_int,yt=y_star,pit1=pit1_int,yt1=yt1_int,st1=st1_int)\n",
    "print(f'The equilibrium value of y and pi, given vt = 0: ({y_star};{pi_star})')\n",
    "print(f'The equilibrium value of y and pi, given vt = 0.1: ({y_star_new:.3};{pi_star_new:.3})')\n",
    "\n",
    "def snape(): \n",
    "    # a. Finding equilibrium given vt=0 and vt=0.1\n",
    "    y_one = sol_y_func(vt=0,st=st_int,pit1=pit1_int,yt1=yt1_int,st1=st1_int)\n",
    "    pi_one = sol_pi_func(vt=0,st=st_int,yt=y_star,pit1=pit1_int,yt1=yt1_int,st1=st1_int)\n",
    "    y_two = sol_y_func(vt=0.1,st=st_int,pit1=pit1_int,yt1=yt1_int,st1=st1_int)\n",
    "    pi_two = sol_pi_func(vt=0.1,st=st_int,yt=y_star,pit1=pit1_int,yt1=yt1_int,st1=st1_int)\n",
    "\n",
    "    # b. Constructing curves \n",
    "    y = np.linspace(-0.1,0.1,100)\n",
    "    AD_one = AD_curve(h=par['h'],b=par['b'],alpha=par['alpha'],vt=0,yt=y)\n",
    "    SRAS_one = SRAS_curve(gamma=par['gamma'],phi=par['phi'],pit1=pit1_int,yt1=yt1_int,st=st_int,st1=st1_int,yt=y)\n",
    "    AD_two = AD_curve(h=par['h'],b=par['b'],alpha=par['alpha'],vt=0.1,yt=y)\n",
    "    SRAS_two = SRAS_curve(gamma=par['gamma'],phi=par['phi'],pit1=pit1_int,yt1=yt1_int,st=st_int,st1=st1_int,yt=y)\n",
    "\n",
    "    # c. Generating graph\n",
    "    # i.  Font sizes\n",
    "    title_font = {'size':'15'}\n",
    "    label_font = {'size':'12'}\n",
    "    # ii. Graph\n",
    "    plt.figure(figsize=(10,6))\n",
    "    plt.plot(y,AD_one,color='orange',label='AD, $v_t$=0')\n",
    "    plt.plot(y,AD_two,color='goldenrod',label='AD, $v_t$=0.1')\n",
    "    plt.plot(y,SRAS_one,color='navy',label='SRAS, $v_t$={0;0.1}')\n",
    "    plt.grid(True)\n",
    "    # iii. Title and labels\n",
    "    plt.title('AD and SRAS', **title_font)\n",
    "    plt.xlabel('$y_t$', **label_font)\n",
    "    plt.ylabel('$\\pi_t$', **label_font)\n",
    "    # c. Add lines and marks which show optimal values of y and pi \n",
    "    plt.axvline(y_one, linestyle='dashed', color=\"grey\")\n",
    "    plt.axhline(pi_one, linestyle='dashed', color=\"grey\")\n",
    "    plt.plot(y_two,pi_two, marker='o',color='goldenrod',markersize='8')\n",
    "    plt.plot(y_one,pi_one, marker='o',color='orange',markersize='8')\n",
    "\n",
    "    plt.legend()\n",
    "\n",
    "snape();"
   ]
  },
  {
   "cell_type": "markdown",
   "metadata": {},
   "source": [
    "**Persistent disturbances:** Now, additionaly, assume that both the demand and the supply disturbances are AR(1) processes\n",
    "\n",
    "$$ v_{t} = \\delta v_{t-1} + x_{t} $$\n",
    "$$ s_{t} = \\omega s_{t-1} + c_{t} $$\n",
    "\n",
    "where $x_{t}$ is a **demand shock**, and $c_t$ is a **supply shock**. The **autoregressive parameters** are:"
   ]
  },
  {
   "cell_type": "code",
   "execution_count": 302,
   "metadata": {},
   "outputs": [],
   "source": [
    "par['delta'] = 0.80\n",
    "par['omega'] = 0.15"
   ]
  },
  {
   "cell_type": "markdown",
   "metadata": {},
   "source": [
    "## Question 3:\n",
    "Starting from $y_{-1} = \\pi_{-1} = s_{-1} = 0$, how does the economy evolve for $x_0 = 0.1$, $x_t = 0, \\forall t > 0$ and $c_t = 0, \\forall t \\geq 0$?"
   ]
  },
  {
   "cell_type": "code",
   "execution_count": 303,
   "metadata": {},
   "outputs": [],
   "source": [
    "# Constructing AR(1) processes \n",
    "\n",
    "# Defining intial values \n",
    "y1      = 0\n",
    "pi_init = 0\n",
    "s_init  = 0\n",
    "v_init  = 0\n",
    "xt      = 0 \n",
    "ct      = 0 \n",
    "x0      = 0.1\n",
    "\n",
    "# Number of variable values \n",
    "num_fig = 200\n",
    "num = 1000\n",
    "\n",
    "# Creating list, contraining x number values of vt\n",
    "def v_func(number=num):\n",
    "    \"\"\"\n",
    "    Function which creates list of vt values \n",
    "    Args: \n",
    "        number = Number of values in list\n",
    "    Returns:\n",
    "        List of vt values\n",
    "    \"\"\"\n",
    "    vt = []\n",
    "    vt_num = par['delta'] * v_init + x0\n",
    "    vt.append(vt_num)\n",
    "    for i in range(0,number): \n",
    "        vt_i = par['delta']*vt[i] + xt\n",
    "        vt.append(vt_i)\n",
    "        \n",
    "    return vt\n",
    "\n",
    "vt = v_func(num_fig);\n",
    "        \n",
    "# Creating list, contraining x number values of st\n",
    "def s_func(number=num): \n",
    "    \"\"\"\n",
    "    Function which creates list of st values\n",
    "    Args: \n",
    "        number: Number of values in list\n",
    "    Returns: \n",
    "        List of st values\n",
    "    \"\"\"\n",
    "    st = []\n",
    "    st_num = par['omega']* s_init + ct\n",
    "    st.append(st_num)\n",
    "    for i in range(0,number):\n",
    "        st_i = par['omega']*st[i] + ct\n",
    "        st.append(st_i)\n",
    "        \n",
    "    return st\n",
    "        \n",
    "st = s_func(num_fig);\n"
   ]
  },
  {
   "cell_type": "code",
   "execution_count": 304,
   "metadata": {},
   "outputs": [],
   "source": [
    "# Constructing list of y* and pi*\n",
    "\n",
    "\n",
    "def y_solve(vt,st,number=num): \n",
    "    \"\"\"\n",
    "    Solves economy and obtains equilibrum values of y and pi in each period \n",
    "    using the sol_y_func function. \n",
    "    Args: \n",
    "        number: Number of periods \n",
    "    Returns: \n",
    "        Appends equilibrum values of y to the list y_stars \n",
    "        Appends qeuilibrium values of pi to the list pi_stars\n",
    "    \"\"\"\n",
    "    y_stars = [0]\n",
    "    pi_stars = [0]\n",
    "    \n",
    "    for i in range(1,number):\n",
    "        # y \n",
    "        y_star_i = sol_y_func(vt=vt[i],st=st[i],pit1=pi_stars[i-1],yt1=y_stars[i-1],st1=st[i-1])\n",
    "        y_stars.append(y_star_i)\n",
    "        # Pi\n",
    "        pi_star_i = sol_pi_func(vt=vt[i],st=st[i],yt=y_stars[i],pit1=pi_stars[i-1],yt1=y_stars[i-1],st1=st[i-1])\n",
    "        pi_stars.append(pi_star_i)\n",
    "        \n",
    "    return y_stars, pi_stars\n"
   ]
  },
  {
   "cell_type": "code",
   "execution_count": 305,
   "metadata": {},
   "outputs": [
    {
     "data": {
      "application/vnd.jupyter.widget-view+json": {
       "model_id": "96268ceacdd24f3b8602fce005b2be02",
       "version_major": 2,
       "version_minor": 0
      },
      "text/plain": [
       "interactive(children=(IntSlider(value=0, continuous_update=False, description='Period'), Output()), _dom_class…"
      ]
     },
     "metadata": {},
     "output_type": "display_data"
    }
   ],
   "source": [
    "# Illustrating moves in AD and SRAS curves \n",
    "\n",
    "# Construcnting v, s and y vectors with 1000 values\n",
    "vt = v_func();\n",
    "st = s_func();\n",
    "\n",
    "y_stars, pi_stars = y_solve(vt,st);\n",
    "\n",
    "\n",
    "# a. Shocks and Convergence in AD and SRAS curves \n",
    "def AD_shock(yt,period, h=par['h'],b=par['b'],alpha=par['alpha'],vt=vt): \n",
    "    \"\"\"Function which generates AD curves following a shock\n",
    "    Args:\n",
    "        yt: Vector of y values\n",
    "        period: Number of periods after initial shock\n",
    "        h: Parameter \n",
    "        b: Parameter \n",
    "        alpha: Parameter \n",
    "        vt: Vector of shocks\n",
    "    Returns: \n",
    "        AD curve with shocks. \n",
    "    \"\"\"\n",
    "    if period == 0: # Assuming zero shocks in initial period\n",
    "        return 1/(h*alpha)*(0-(1+b*alpha)*yt)\n",
    "    else:\n",
    "        return 1/(h*alpha)*(vt[period-1]-(1+b*alpha)*yt)\n",
    "    \n",
    "def SRAS_shock(yt,period,gamma=par['gamma'],phi=par['phi'],st=st): \n",
    "    \"\"\"Function which generates SRAS curves following a shock\n",
    "    Args: \n",
    "        yt: Vector of y values\n",
    "        period: Number of periods after initial shock \n",
    "        gamma: Parameter\n",
    "        phi: Parameter\n",
    "        pi: Vector of pi values\n",
    "        yt: Vector of y values\n",
    "        st: Vector of shocks\n",
    "    Returns: SRAS curve with shocks \n",
    "        \"\"\"\n",
    "    if period == 0: # Assuming zero shocks in initial period\n",
    "        return pi_init + gamma*yt - phi*y1 + st[period] - phi*s_init\n",
    "    else:\n",
    "        y_values = [0]\n",
    "        pi_values = [0]\n",
    "        for i in range(1,num): \n",
    "            y_val_i = sol_y_func(vt=vt[i],st=st[i],pit1=pi_stars[i-1],yt1=y_stars[i-1],st1=st[i-1])\n",
    "            y_values.append(y_val_i)\n",
    "            pi_val_i = sol_pi_func(vt=vt[i],st=st[i],yt=y_stars[i],pit1=pi_stars[i-1],yt1=y_stars[i-1],st1=st[i-1])\n",
    "            pi_values.append(pi_val_i)\n",
    "        return pi_values[period-1] + gamma*yt - phi*gamma*y_values[period-1] + st[period] - phi*st[period-1] \n",
    "        \n",
    "\n",
    "# b. Constructing graph\n",
    "\n",
    "def sherlock(period): \n",
    "    \"\"\"Constructs figure of convergence in the economy following a shock\n",
    "    Args: \n",
    "        period: Number of periods after inital shock\n",
    "    Returns: \n",
    "        Graph of AD and SRAS curves x periods after a shock\n",
    "    Note: \n",
    "        The graph is meant to be called through the watson function, which turn the graph interactive.\n",
    "        Thus, the function is not intented to be called on its own\n",
    "    \"\"\"\n",
    "    # i. Constructing curves \n",
    "    y = np.linspace(-0.05,0.05,100)\n",
    "    AD_zero = AD_shock(y,0,vt=vt)\n",
    "    AD_i = AD_shock(y,period,vt=vt)\n",
    "    \n",
    "    SRAS_zero = SRAS_shock(y,0,st=st)\n",
    "    SRAS_i = SRAS_shock(y,period,st=st)\n",
    "    \n",
    "    # ii. Graphs\n",
    "    # (a) Font sizes\n",
    "    title_font = {'size':'20'}\n",
    "    label_font = {'size':'18'}\n",
    "    # (b) AD curves\n",
    "    plt.figure(figsize=(12,6))\n",
    "    plt.plot(y,AD_zero,label=('AD initial'),linewidth=3,color='orange')\n",
    "    plt.plot(y,AD_i,label='$AD_t$',color='goldenrod')\n",
    "    \n",
    "    # (c) SRAS curves\n",
    "    plt.plot(y,SRAS_zero,label='SRAS initial',linewidth=3,color='navy')\n",
    "    plt.plot(y,SRAS_i,label='$SRAS_t$',color='purple')\n",
    "    \n",
    "    # (d) Graph properties \n",
    "    plt.grid(True)\n",
    "    plt.title('AD and SRAS', **title_font)\n",
    "    plt.xlabel('$y_t$', **label_font)\n",
    "    plt.ylabel('$\\pi_t$', **label_font)\n",
    "    plt.ylim(-0.1,0.12)\n",
    "\n",
    "    # d. Add lines which show optimal values of y and pi \n",
    "    plt.axvline(y_star, linestyle='dashed', label='$y^*$')\n",
    "    plt.axhline(pi_star, linestyle='dashed', label='$\\pi^*$')\n",
    "    \n",
    "    plt.legend()\n",
    "\n",
    "def lestrade(): \n",
    "    widgets.interact(sherlock, \n",
    "                     period=widgets.IntSlider(\n",
    "                         value=0, \n",
    "                         description='Period', \n",
    "                         min=0,\n",
    "                         max=100, \n",
    "                         step=1, \n",
    "                         disabled=False, \n",
    "                         continuous_update=False));\n",
    "    \n",
    "lestrade();"
   ]
  },
  {
   "cell_type": "code",
   "execution_count": 307,
   "metadata": {},
   "outputs": [
    {
     "data": {
      "image/png": "[encoded data removed]",
      "text/plain": [
       "<Figure size 720x360 with 2 Axes>"
      ]
     },
     "metadata": {
      "needs_background": "light"
     },
     "output_type": "display_data"
    }
   ],
   "source": [
    "y_stars, pi_stars = y_solve(vt,st,number=num_fig);\n",
    "\n",
    "# Illustrating the evolution of the economy \n",
    "x_axis = np.linspace(0,num_fig,num_fig)\n",
    "\n",
    "# Constructing graph\n",
    "f, (ax1, ax2) = plt.subplots(1, 2, sharey=True, figsize=(10,5))\n",
    "ax1.plot(x_axis,pi_stars, label='$\\pi$')\n",
    "ax1.set_title('Values of $\\pi$')\n",
    "ax1.grid(True)\n",
    "ax1.legend()\n",
    "ax2.plot(x_axis,y_stars, label=\"$y$\")\n",
    "ax2.set_title('Values of y')\n",
    "ax2.grid(True)\n",
    "ax2.legend()\n",
    "\n",
    "plt.show();\n"
   ]
  },
  {
   "cell_type": "code",
   "execution_count": 308,
   "metadata": {},
   "outputs": [
    {
     "data": {
      "image/png": "[encoded data removed]",
      "text/plain": [
       "<Figure size 432x288 with 1 Axes>"
      ]
     },
     "metadata": {
      "needs_background": "light"
     },
     "output_type": "display_data"
    }
   ],
   "source": [
    "# Illustrating the evolution of the economy \n",
    "plt.plot(y_stars,pi_stars)\n",
    "plt.scatter(y_stars,pi_stars)\n",
    "plt.grid(True)\n",
    "\n",
    "plt.title(\"Evolution of the Economy with AR(1) processes\")\n",
    "plt.xlabel('$y_t$')\n",
    "plt.ylabel('$\\pi_t$')\n",
    "plt.text(0.006,0.0045,'Each dot is the equilibrium in a period', bbox=dict(facecolor='white', alpha=0.5))\n",
    "    \n",
    "plt.show();\n"
   ]
  },
  {
   "cell_type": "markdown",
   "metadata": {},
   "source": [
    "**Stochastic shocks:** Now, additionally, assume that $x_t$ and $c_t$ are stochastic and normally distributed\n",
    "\n",
    "$$ x_{t}\\sim\\mathcal{N}(0,\\sigma_{x}^{2}) $$\n",
    "$$ c_{t}\\sim\\mathcal{N}(0,\\sigma_{c}^{2}) $$\n",
    "\n",
    "The **standard deviations of the shocks** are:"
   ]
  },
  {
   "cell_type": "code",
   "execution_count": 309,
   "metadata": {},
   "outputs": [],
   "source": [
    "par['sigma_x'] = 3.492\n",
    "par['sigma_c'] = 0.2"
   ]
  },
  {
   "cell_type": "markdown",
   "metadata": {},
   "source": [
    "## Question 4\n",
    "Simulate the AS-AD model for 1,000 periods. Calculate the following five statistics:\n",
    "\n",
    "1. Variance of $y_t$, $var(y_t)$\n",
    "2. Variance of $\\pi_t$, $var(\\pi_t)$\n",
    "3. Correlation between $y_t$ and $\\pi_t$, $corr(y_t,\\pi_t)$\n",
    "4. Auto-correlation between $y_t$ and $y_{t-1}$, $corr(y_t,y_{t-1})$\n",
    "5. Auto-correlation between $\\pi_t$ and $\\pi_{t-1}$, $corr(\\pi_t,\\pi_{t-1})$"
   ]
  },
  {
   "cell_type": "code",
   "execution_count": 310,
   "metadata": {},
   "outputs": [],
   "source": [
    "# Generating function to make the demand shock vector\n",
    "def v_new(num,pars):\n",
    "    \"\"\"\n",
    "    Function which creates list of vt values\n",
    "    Args: \n",
    "        number = Number of values in list\n",
    "    Returns: \n",
    "        Array of vt values \n",
    "    \"\"\"\n",
    "    vt_sim = np.zeros(num)\n",
    "    x = np.random.normal(0,pars[0],num)\n",
    "\n",
    "    for i in range(1,num): \n",
    "        vt_i = par['delta']*vt_sim[i-1] + x[i]\n",
    "        vt_sim[i] += vt_i\n",
    "    \n",
    "    return vt_sim\n",
    "\n",
    "\n",
    "# Generating function to make the supply chok vector\n",
    "def s_new(num,pars): \n",
    "    \"\"\"\n",
    "    Function which creates list of st values\n",
    "    Args: \n",
    "        number = Number of values in list\n",
    "    Returns: \n",
    "        Array of st values \n",
    "    \"\"\"\n",
    "    \n",
    "    st_sim = np.zeros(num)\n",
    "    c = np.random.normal(0,pars[1],num)\n",
    "\n",
    "\n",
    "    for i in range(1,num):\n",
    "        st_i = par['omega']*st_sim[i-1] + c[i]\n",
    "        st_sim[i] += st_i\n",
    "        \n",
    "    return st_sim"
   ]
  },
  {
   "cell_type": "code",
   "execution_count": 311,
   "metadata": {},
   "outputs": [
    {
     "data": {
      "application/vnd.jupyter.widget-view+json": {
       "model_id": "89d300e418ae4dc88ac67ab6708b5479",
       "version_major": 2,
       "version_minor": 0
      },
      "text/plain": [
       "interactive(children=(IntSlider(value=0, continuous_update=False, description='Period', max=999, step=10), Out…"
      ]
     },
     "metadata": {},
     "output_type": "display_data"
    }
   ],
   "source": [
    "# Illustrating AD and SRAS curves with new shocks \n",
    "num = 1000\n",
    "seed = 11\n",
    "np.random.seed(seed)\n",
    "\n",
    "pars = [par['sigma_x'],par['sigma_c'],par['phi']]\n",
    "\n",
    "vt_new = v_new(num,pars)\n",
    "st_new = s_new(num,pars)\n",
    "\n",
    "y_stars, pi_stars = y_solve(vt_new,st_new,number=num);\n",
    "# b. Constructing graph\n",
    "\n",
    "def mycraft(period): \n",
    "    \"\"\"Constructs figure of convergence in the economy following a shock\n",
    "    Args: \n",
    "        period: Number of periods after inital shock\n",
    "    Returns: \n",
    "        Graph of AD and SRAS curves with stochastic shocks\n",
    "    Note: \n",
    "        The graph is meant to be called through the irene function, which turn the graph interactive.\n",
    "        Thus, the function should not be called on its own.\n",
    "    \"\"\"\n",
    "    np.random.seed(seed)\n",
    "    \n",
    "    # i. Constructing curves \n",
    "    y = np.linspace(-1,1,100)\n",
    "    AD_zero = AD_shock(y,0,vt=vt_new)\n",
    "    AD_i = AD_shock(y,period,vt=vt_new)\n",
    "    \n",
    "    SRAS_zero = SRAS_shock(y,0,st=st_new)\n",
    "    SRAS_i = SRAS_shock(y,period,st=st_new)\n",
    "    \n",
    "    # ii. Graphs\n",
    "    # (a) Font sizes\n",
    "    title_font = {'size':'20'}\n",
    "    label_font = {'size':'15'}\n",
    "    # (b) AD curves\n",
    "    plt.figure(figsize=(12,6))\n",
    "    plt.plot(y,AD_zero,label=('AD initial'),linewidth=3,color='orange')\n",
    "    plt.plot(y,AD_i,label='$AD_t$',color='goldenrod')\n",
    "    \n",
    "    # (c) SRAS curves\n",
    "    plt.plot(y,SRAS_zero,label='SRAS initial',linewidth=3,color='navy')\n",
    "    plt.plot(y,SRAS_i,label='$SRAS_t$',color='purple')\n",
    "    \n",
    "    # (d) Graph properties \n",
    "    plt.grid(True)\n",
    "    plt.title('AD and SRAS', **title_font)\n",
    "    plt.ylim(-5,5)\n",
    "    plt.xlabel('$y_t$', **label_font)\n",
    "    plt.ylabel('$\\pi_t$', **label_font)\n",
    "\n",
    "    # d. Add lines which show optimal values of y and pi \n",
    "    plt.axvline(y_star, linestyle='dashed', label='$y^*$')\n",
    "    plt.axhline(pi_star, linestyle='dashed', label='$\\pi^*$')\n",
    "    \n",
    "    plt.legend(loc='upper right')\n",
    "    \n",
    "\n",
    "\n",
    "# Turn graph interactive \n",
    "def irene(): \n",
    "    widgets.interact(mycraft, \n",
    "                    period=widgets.Dropdown(\n",
    "                    description='Period after initial shock', \n",
    "                    options=[1,5,10,50,100,200,600,800], \n",
    "                    value=1),\n",
    "                    );\n",
    "    \n",
    "#irene();\n",
    "\n",
    "def moriarty(): \n",
    "    widgets.interact(mycraft, \n",
    "                     period=widgets.IntSlider(\n",
    "                         value=0, \n",
    "                         description='Period', \n",
    "                         min=0,\n",
    "                         max=999, \n",
    "                         step=10, \n",
    "                         disabled=False, \n",
    "                         continuous_update=False));\n",
    "    \n",
    "moriarty();"
   ]
  },
  {
   "cell_type": "code",
   "execution_count": 312,
   "metadata": {},
   "outputs": [],
   "source": [
    "# Simulating the Economy \n",
    "\n",
    "# Adding equilibrum values as initial values \n",
    "y_sim = [0]\n",
    "pi_sim = [0]\n",
    "\n",
    "for i in range(1,num): \n",
    "    y_val_i = sol_y_func(vt=vt_new[i],st=st_new[i],pit1=pi_sim[i-1],yt1=y_sim[i-1],st1=st_new[i-1])\n",
    "    y_sim.append(y_val_i)\n",
    "    pi_val_i = sol_pi_func(vt=vt_new[i],st=st_new[i],yt=y_sim[i],pit1=pi_sim[i-1],yt1=y_sim[i-1],st1=st_new[i-1])\n",
    "    pi_sim.append(pi_val_i)"
   ]
  },
  {
   "cell_type": "code",
   "execution_count": 313,
   "metadata": {},
   "outputs": [
    {
     "name": "stdout",
     "output_type": "stream",
     "text": [
      "The variance of y is:                 1.8036\n",
      "The variance of pi is:                1.2007\n",
      "The correlation between y and pi is: -0.0826\n",
      "The autocorrelation of y is:          0.7575\n",
      "The autocorrelation of pi is:         0.9797\n"
     ]
    }
   ],
   "source": [
    "# Calculate variances of y_sim and pi_sim\n",
    "y_var = np.var(y_sim)\n",
    "pi_var = np.var(pi_sim)\n",
    "\n",
    "# Calculate correlation between y_sim and pi_sim\n",
    "y_pi_matrix = np.corrcoef(y_sim,pi_sim)\n",
    "y_pi_corr = y_pi_matrix[0,1]\n",
    "\n",
    "# Calculate autocorrelations\n",
    "y_matrix = np.corrcoef(y_sim[:-1],y_sim[1:])\n",
    "y_corr = y_matrix[0,1]\n",
    "pi_matrix = np.corrcoef(pi_sim[:-1],pi_sim[1:])\n",
    "pi_corr = pi_matrix[0,1]\n",
    "\n",
    "print(f'The variance of y is: {y_var:22.4f}')\n",
    "print(f'The variance of pi is: {pi_var:21.4f}')\n",
    "print(f'The correlation between y and pi is: {y_pi_corr:.4f}')\n",
    "print(f'The autocorrelation of y is: {y_corr:15.4f}')\n",
    "print(f'The autocorrelation of pi is: {pi_corr:14.4f}')"
   ]
  },
  {
   "cell_type": "markdown",
   "metadata": {},
   "source": [
    "## Question 5\n",
    "Plot how the correlation between $y_t$ and $\\pi_t$ changes with $\\phi$. Use a numerical optimizer or root finder to choose $\\phi\\in(0,1)$ such that the simulated correlation between $y_t$ and $\\pi_t$ comes close to 0.31. "
   ]
  },
  {
   "cell_type": "code",
   "execution_count": 314,
   "metadata": {},
   "outputs": [
    {
     "name": "stdout",
     "output_type": "stream",
     "text": [
      "The value of phi that makes corr(y,pi) = 0.31 is phi = 0.933\n"
     ]
    },
    {
     "data": {
      "image/png": "[encoded data removed]",
      "text/plain": [
       "<Figure size 720x432 with 1 Axes>"
      ]
     },
     "metadata": {
      "needs_background": "light"
     },
     "output_type": "display_data"
    }
   ],
   "source": [
    "# Defining the correlation as a function \n",
    "\n",
    "def superman(s): \n",
    "    y_phi = np.zeros(num)\n",
    "    pi_phi = np.zeros(num)\n",
    "    for i in range(1,num): \n",
    "        y_sim_new = sol_y_func(vt=vt_new[i],st=st_new[i],pit1=pi_phi[i-1],yt1=y_phi[i-1],st1=st_new[i-1],phi=s)\n",
    "        y_phi[i] = y_sim_new\n",
    "        pi_sim_new = sol_pi_func(vt=vt_new[i],st=st_new[i],yt=y_phi[i],pit1=pi_phi[i-1],yt1=y_phi[i-1],st1=st_new[i-1],phi=s)\n",
    "        pi_phi[i] = pi_sim_new\n",
    "    \n",
    "    return np.corrcoef(y_phi,pi_phi)[0,1]\n",
    "\n",
    "# Finding the value of phi which give the correlation 0.31\n",
    "x0 = 0 \n",
    "def batman(x):\n",
    "    return (superman(x)-0.31)**2\n",
    "\n",
    "obj_func = lambda x: superman(x)-0.31\n",
    "\n",
    "result = optimize.minimize(batman,x0)\n",
    "phi_val = result.x[0]\n",
    "print(f'The value of phi that makes corr(y,pi) = 0.31 is phi = {phi_val:.3f}')\n",
    "\n",
    "# Plot \n",
    "x = np.linspace(0,1,100)\n",
    "y = np.empty(100)\n",
    "for i,X in enumerate(x):\n",
    "    y[i] = superman(X)\n",
    "    \n",
    "# i.  Font sizes\n",
    "title_font = {'size':'15'}\n",
    "label_font = {'size':'12'}\n",
    "# ii. Figure\n",
    "plt.figure(figsize=(10,6))\n",
    "plt.plot(x,y)\n",
    "plt.plot(phi_val,0.31, marker='o')\n",
    "plt.axvline(phi_val, linestyle='dotted', color=\"orange\", label=f'$\\phi$ = {phi_val:.3f}')\n",
    "plt.axhline(0.31, linestyle='dashed', color=\"orange\", label='corr(y,$\\pi$) = 0.31')\n",
    "plt.title('Correlation between $y_t$ and $\\pi_t$', **title_font)\n",
    "plt.xlabel('$\\phi$', **label_font)\n",
    "plt.ylabel('Correlation', **label_font)\n",
    "plt.grid(True)\n",
    "plt.legend()\n",
    "\n",
    "plt.show();\n",
    "\n"
   ]
  },
  {
   "cell_type": "markdown",
   "metadata": {},
   "source": [
    "## Quesiton 6\n",
    "Use a numerical optimizer to choose $\\sigma_x>0$, $\\sigma_c>0$ and $\\phi\\in(0,1)$ to make the simulated statistics as close as possible to US business cycle data where:\n",
    "\n",
    "1. $var(y_t) = 1.64$\n",
    "2. $var(\\pi_t) = 0.21$\n",
    "3. $corr(y_t,\\pi_t) = 0.31$\n",
    "4. $corr(y_t,y_{t-1}) = 0.84$\n",
    "5. $corr(\\pi_t,\\pi_{t-1}) = 0.48$"
   ]
  },
  {
   "cell_type": "code",
   "execution_count": 316,
   "metadata": {},
   "outputs": [],
   "source": [
    "# Defining function that returns the vectors of the equilibruim y and pi\n",
    "def superman(num, pars):\n",
    "    \"\"\"\n",
    "    Simulates y and pi values given shocks\n",
    "    Args: \n",
    "        num: Number of values in each array\n",
    "        pars: Dictionary of parameter values\n",
    "    Returns: \n",
    "        Array of simulated y values, y_sim\n",
    "        Array of simulated pi values pi_sim\n",
    "    \"\"\"\n",
    "    y_sim = np.zeros(num)\n",
    "    pi_sim = np.zeros(num)\n",
    "    \n",
    "    vt_sim = v_new(num,pars)\n",
    "    st_sim = s_new(num,pars)\n",
    "\n",
    "    for i in range(1,num): \n",
    "        y_val_i = sol_y_func(vt=vt_sim[i],st=st_sim[i],pit1=pi_sim[i-1],yt1=y_sim[i-1],st1=st_sim[i-1],phi=pars[2])\n",
    "        y_sim[i] += y_val_i\n",
    "        pi_val_i = sol_pi_func(vt=vt_sim[i],st=st_sim[i],yt=y_sim[i],pit1=pi_sim[i-1],yt1=y_sim[i-1],st1=st_sim[i-1],phi=pars[2])\n",
    "        pi_sim[i] += pi_val_i\n",
    "\n",
    "    return y_sim, pi_sim\n",
    "\n",
    "# Defining function that returns the variance, correlation, and autocorrelation of y and pi \n",
    "def batman(num, pars): # ar_corr_acorr\n",
    "    \"\"\"\n",
    "    Estimates variance of y, variance of pi, correlation between y and pi\n",
    "    autocorrelation of y and autocorrelation of pi\n",
    "    Arg: \n",
    "        num: Number of values in each y and pi array\n",
    "        pars: Dictionary of parameter values\n",
    "    Returns: \n",
    "        Variance of y, var_y\n",
    "        Variance of pi, var_pi\n",
    "        Correlation between y and pi, corr_ypi\n",
    "        Autocorrelaiton of y, acorr_y\n",
    "        Autocorrelation of pi, acorr_pi\n",
    "    \"\"\"\n",
    "    y_sim, pi_sim = superman(num, pars)\n",
    "    \n",
    "    var_y = np.var(y_sim)\n",
    "    var_pi = np.var(pi_sim)\n",
    "    corr_ypi = np.corrcoef(y_sim,pi_sim)[0,1]\n",
    "    acorr_y = np.corrcoef(y_sim[:-1],y_sim[1:])[0,1]\n",
    "    acorr_pi = np.corrcoef(pi_sim[:-1],pi_sim[1:])[0,1]\n",
    "    \n",
    "    return var_y, var_pi, corr_ypi, acorr_y, acorr_pi\n"
   ]
  },
  {
   "cell_type": "code",
   "execution_count": 321,
   "metadata": {},
   "outputs": [
    {
     "name": "stdout",
     "output_type": "stream",
     "text": [
      "Optimization terminated successfully.\n",
      "\n",
      "The optimal values of the parameters is:\n",
      "sigma_x = 3.124\n",
      "sigma_c = 0.219\n",
      "phi     = 0.951\n",
      " \n",
      "\n",
      "The moments of the model and the US economy are: \n",
      "             The model  US economy \n",
      "var(y):         1.57       1.64\n",
      "var(pi):        0.06       0.21\n",
      "corr(y,pi):     0.33       0.31\n",
      "corr(y,y_1):    0.79       0.84\n",
      "corr(pi,pi_1):  0.41       0.48\n",
      "\n"
     ]
    }
   ],
   "source": [
    "# Define function which finds the parameters of sigma_x, sigma_c and phi that minimize the difference \n",
    "# between moments of the model with the moments of the US economy\n",
    "def wolverine(num):\n",
    "    \"\"\"\n",
    "    Function finds values of sigma_x, sigma_c and phi which minimize the diffence between the \n",
    "    moments of the model and the moments of the US economy\n",
    "    Args: \n",
    "        num: Number of simulations \n",
    "    Returns: \n",
    "        Results from optimization process\n",
    "    \"\"\"\n",
    "       \n",
    "    def _flash(num,pars): \n",
    "        seed = 11\n",
    "        np.random.seed(seed)\n",
    "        \n",
    "        var_y, var_pi, corr_ypi, acorr_y, acorr_pi = batman(num, pars)\n",
    "\n",
    "        test = np.zeros(5)\n",
    "        \n",
    "        test[0] += (var_y-1.64)**2\n",
    "        test[1] += (var_pi-0.21)**2\n",
    "        test[2] += (corr_ypi-0.31)**2\n",
    "        test[3] += (acorr_y-0.84)**2\n",
    "        test[4] += (acorr_pi-0.48)**2\n",
    "        \n",
    "        return  np.sum(test)\n",
    "    \n",
    "    flash= lambda x: _flash(num,x)\n",
    "    \n",
    "    x0 = [par['sigma_x'], par['sigma_c'],phi_val]\n",
    "    bounds = ((0.0001,10000000), (0.0001,10000000), (0,1))\n",
    "    \n",
    "    result = optimize.minimize(flash,x0,\n",
    "                           method='SLSQP',\n",
    "                           bounds=bounds    \n",
    "                           )\n",
    "    \n",
    "    return result\n",
    "\n",
    "result = wolverine(num)\n",
    "var_y, var_pi, corr_ypi, acorr_y, acorr_pi = batman(num, result.x)\n",
    "print(f'{result.message}\\n')\n",
    "\n",
    "text = f'The optimal values of the parameters is:\\n'\n",
    "text += f'sigma_x = {result.x[0]:.3f}\\n'\n",
    "text += f'sigma_c = {result.x[1]:.3f}\\n'\n",
    "text += f'phi     = {result.x[2]:.3f}\\n \\n'\n",
    "print(text)\n",
    "\n",
    "text = f'The moments of the model and the US economy are: \\n'\n",
    "text += f'             The model  US economy \\n'\n",
    "text += f'var(y):         {var_y:.2f}       {1.64}\\n'\n",
    "text += f'var(pi):        {var_pi:.2f}       {0.21}\\n'\n",
    "text += f'corr(y,pi):     {corr_ypi:.2f}       {0.31}\\n'\n",
    "text += f'corr(y,y_1):    {acorr_y:.2f}       {0.84}\\n'\n",
    "text += f'corr(pi,pi_1):  {acorr_pi:.2f}       {0.48}\\n'\n",
    "\n",
    "print(text)"
   ]
  }
 ],
 "metadata": {
  "kernelspec": {
   "display_name": "Python 3",
   "language": "python",
   "name": "python3"
  },
  "language_info": {
   "codemirror_mode": {
    "name": "ipython",
    "version": 3
   },
   "file_extension": ".py",
   "mimetype": "text/x-python",
   "name": "python",
   "nbconvert_exporter": "python",
   "pygments_lexer": "ipython3",
   "version": "3.7.3"
  }
 },
 "nbformat": 4,
 "nbformat_minor": 2
}
