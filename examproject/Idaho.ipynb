{
 "cells": [
  {
   "cell_type": "markdown",
   "metadata": {},
   "source": [
    "# Problem 2: The AS-AD Model"
   ]
  },
  {
   "cell_type": "markdown",
   "metadata": {},
   "source": [
    "Consider the following **AS-AD model**. The **goods market equilibrium** is given by\n",
    "\n",
    "$$ y_{t} = -\\alpha r_{t} + v_{t} $$\n",
    "\n",
    "where $y_{t}$ is the **output gap**, $r_{t}$ is the **ex ante real interest** and $v_{t}$ is a **demand disturbance**. "
   ]
  },
  {
   "cell_type": "markdown",
   "metadata": {},
   "source": [
    "The central bank's **Taylor rule** is\n",
    "\n",
    "$$ i_{t} = \\pi_{t+1}^{e} + h \\pi_{t} + b y_{t}$$\n",
    "\n",
    "where $i_{t}$ is the **nominal interest rate**, $\\pi_{t}$ is the **inflation gap**, and $\\pi_{t+1}^{e}$ is the **expected inflation gap**. "
   ]
  },
  {
   "cell_type": "markdown",
   "metadata": {},
   "source": [
    "The **exante real interest rate** is given by \n",
    "\n",
    "$$ r_{t} = i_{t} - \\pi_{t+1}^{e} $$"
   ]
  },
  {
   "cell_type": "markdown",
   "metadata": {},
   "source": [
    "Together, the above implies that the **AD-curve** is\n",
    "\n",
    "$$ \\pi_{t} = \\frac{1}{h\\alpha}\\left[v_{t} - (1+b\\alpha)y_{t}\\right]$$"
   ]
  },
  {
   "cell_type": "markdown",
   "metadata": {},
   "source": [
    "Further, assume that the **short-run supply curve (SRAS)** is given by\n",
    "\n",
    "$$ \\pi_{t} = \\pi_{t}^{e} + \\gamma y_{t} + s_{t}$$\n",
    "\n",
    "where $s_t$ is a **supply disturbance**."
   ]
  },
  {
   "cell_type": "markdown",
   "metadata": {},
   "source": [
    "**Inflation expectations are adaptive** and given by\n",
    "\n",
    "$$ \\pi_{t}^{e} = \\phi\\pi_{t-1}^{e} + (1-\\phi)\\pi_{t-1}$$"
   ]
  },
  {
   "cell_type": "markdown",
   "metadata": {},
   "source": [
    "Together, this implies that the **SRAS-curve** can also be written as\n",
    "\n",
    "$$ \\pi_{t} = \\pi_{t-1} + \\gamma y_{t} - \\phi\\gamma y_{t-1} + s_{t} - \\phi s_{t-1} $$"
   ]
  },
  {
   "cell_type": "markdown",
   "metadata": {},
   "source": [
    "The **parameters** of the model are:"
   ]
  },
  {
   "cell_type": "code",
   "execution_count": 1,
   "metadata": {},
   "outputs": [],
   "source": [
    "par = {}\n",
    "\n",
    "par['alpha'] = 5.76\n",
    "par['h'] = 0.5\n",
    "par['b'] = 0.5\n",
    "par['phi'] = 0\n",
    "par['gamma'] = 0.075"
   ]
  },
  {
   "cell_type": "code",
   "execution_count": 82,
   "metadata": {},
   "outputs": [],
   "source": [
    "import numpy as np\n",
    "from scipy import linalg\n",
    "from scipy import optimize\n",
    "import sympy as sm\n",
    "import ipywidgets as widgets\n",
    "\n",
    "%matplotlib inline\n",
    "import matplotlib.pyplot as plt\n",
    "from matplotlib import cm\n",
    "from mpl_toolkits.mplot3d import Axes3D"
   ]
  },
  {
   "cell_type": "markdown",
   "metadata": {},
   "source": [
    "## Question 1\n",
    "Use the ``sympy`` module to solve for the equilibrium values of output, $y_t$, and inflation, $\\pi_t$, (where AD = SRAS) given the parameters ($\\alpha$, $h$, $b$, $\\alpha$, $\\gamma$) and $y_{t-1}$ , $\\pi_{t-1}$, $v_t$, $s_t$, and $s_{t-1}$."
   ]
  },
  {
   "cell_type": "code",
   "execution_count": 3,
   "metadata": {},
   "outputs": [],
   "source": [
    "# Defining the AD and the SRAS functions\n",
    "\n",
    "# i. Defining symbols\n",
    "sm.init_printing(use_unicode=True)\n",
    "pit = sm.symbols('pi_t')\n",
    "pit1 = sm.symbols('pi_t-1')\n",
    "alpha = sm.symbols('alpha')\n",
    "gamma = sm.symbols('gamma')\n",
    "phi = sm.symbols('phi')\n",
    "h = sm.symbols('h')\n",
    "b = sm.symbols('b')\n",
    "vt = sm.symbols('v_t')\n",
    "yt = sm.symbols('y_t')\n",
    "yt1 = sm.symbols('y_t-1')\n",
    "st = sm.symbols('s_t')\n",
    "st1 = sm.symbols('s_t-1')\n",
    "\n",
    "\n",
    "# ii. AD-curve \n",
    "AD = sm.Eq(1/(h*alpha)*(vt-(1+b*alpha)*yt), pit)\n",
    "\n",
    "# iii. SRAS-curve \n",
    "SRAS = sm.Eq(pit1 + gamma*yt - phi*gamma*yt1 + st - phi*st1, pit)\n",
    "\n"
   ]
  },
  {
   "cell_type": "code",
   "execution_count": 4,
   "metadata": {},
   "outputs": [
    {
     "name": "stdout",
     "output_type": "stream",
     "text": [
      "The equilibrium value of y is:\n"
     ]
    },
    {
     "data": {
      "image/png": "[encoded data removed]",
      "text/latex": [
       "$$\\left [ \\frac{\\alpha \\gamma h \\phi y_{t-1} + \\alpha h \\phi s_{t-1} - \\alpha h \\pi_{t-1} - \\alpha h s_{t} + v_{t}}{\\alpha b + \\alpha \\gamma h + 1}\\right ]$$"
      ],
      "text/plain": [
       "⎡α⋅γ⋅h⋅φ⋅yₜ₋₁ + α⋅h⋅φ⋅sₜ₋₁ - α⋅h⋅πₜ₋₁ - α⋅h⋅sₜ + vₜ⎤\n",
       "⎢──────────────────────────────────────────────────⎥\n",
       "⎣                 α⋅b + α⋅γ⋅h + 1                  ⎦"
      ]
     },
     "execution_count": 4,
     "metadata": {},
     "output_type": "execute_result"
    }
   ],
   "source": [
    "# Solving for y\n",
    "\n",
    "# i. Setting AD equal to SRAS \n",
    "AD_SRAS = sm.Eq(1/(h*alpha)*(vt-(1+b*alpha)*yt), pit1 + gamma*yt - phi*gamma*yt1 + st - phi*st1)\n",
    "\n",
    "# ii. Solving for y \n",
    "yt_star = sm.solve(AD_SRAS, yt)\n",
    "\n",
    "# iii. Printing y*\n",
    "print(f'The equilibrium value of y is:')\n",
    "yt_star"
   ]
  },
  {
   "cell_type": "code",
   "execution_count": 5,
   "metadata": {},
   "outputs": [
    {
     "name": "stdout",
     "output_type": "stream",
     "text": [
      "The equilibrium value of pi is:\n"
     ]
    },
    {
     "data": {
      "image/png": "[encoded data removed]",
      "text/latex": [
       "$$\\frac{v_{t} - \\frac{\\left(\\alpha b + 1\\right) \\left(\\alpha \\gamma h \\phi y_{t-1} + \\alpha h \\phi s_{t-1} - \\alpha h \\pi_{t-1} - \\alpha h s_{t} + v_{t}\\right)}{\\alpha b + \\alpha \\gamma h + 1}}{\\alpha h}$$"
      ],
      "text/plain": [
       "     (α⋅b + 1)⋅(α⋅γ⋅h⋅φ⋅yₜ₋₁ + α⋅h⋅φ⋅sₜ₋₁ - α⋅h⋅πₜ₋₁ - α⋅h⋅sₜ + vₜ)\n",
       "vₜ - ──────────────────────────────────────────────────────────────\n",
       "                            α⋅b + α⋅γ⋅h + 1                        \n",
       "───────────────────────────────────────────────────────────────────\n",
       "                                α⋅h                                "
      ]
     },
     "execution_count": 5,
     "metadata": {},
     "output_type": "execute_result"
    }
   ],
   "source": [
    "# Solving for pi \n",
    "\n",
    "# i. Inserting y* in the AD function\n",
    "pit_star = 1/(h*alpha)*(vt-(1+b*alpha)*yt_star[0])\n",
    "\n",
    "# ii. Printing pi*\n",
    "print(f'The equilibrium value of pi is:')\n",
    "pit_star"
   ]
  },
  {
   "cell_type": "markdown",
   "metadata": {},
   "source": [
    "## Question 2\n",
    "Find and illustrate the equilibrium when $y_{t-1} = \\pi_{t-1} = v_t = s_t = s_{t-1} = 0$. Illustrate how the equilibrium changes when instead $v_t = 0.1$."
   ]
  },
  {
   "cell_type": "code",
   "execution_count": 6,
   "metadata": {},
   "outputs": [
    {
     "name": "stdout",
     "output_type": "stream",
     "text": [
      "The equilibrium value of y, given variable values and parameters is: 0.0\n",
      "The equilibrium value of pi, given variable values and parameters is: 0.0\n"
     ]
    }
   ],
   "source": [
    "# Defining variable values \n",
    "yt1_int = 0 \n",
    "pit1_int = 0 \n",
    "vt_int = 0 \n",
    "st_int = 0 \n",
    "st1_int = 0 \n",
    "\n",
    "vt_one = 0.1\n",
    "\n",
    "\n",
    "## Solving numerically for y \n",
    "\n",
    "# a. Defining a lambda function of yt_eq \n",
    "_sol_y_func = sm.lambdify((h,b,alpha,gamma,phi,vt,st,pit1,yt1,st1),yt_star[0])\n",
    "\n",
    "# b. Defining a function which solve for y, given values and parameters \n",
    "def sol_y_func(vt,st,pit1,yt1,st1,h=par['h'],alpha=par['alpha'],b=par['b'],gamma=par['gamma'],phi=par['phi']):\n",
    "    return _sol_y_func(h,b,alpha,gamma,phi,vt,st,pit1,yt1,st1)\n",
    "\n",
    "# c. Solving for y and printing the solution \n",
    "y_star = sol_y_func(vt=vt_int,st=st_int,pit1=pit1_int,yt1=yt1_int,st1=st1_int)\n",
    "print(f'The equilibrium value of y, given variable values and parameters is: {y_star}')\n",
    "\n",
    "\n",
    "\n",
    "##  Solving for pi \n",
    "\n",
    "# a. Defining a lambda function of yt_eq \n",
    "_sol_pi_func = sm.lambdify((h,b,alpha,gamma,phi,yt,vt,st,pit1,yt1,st1),pit_star)\n",
    "\n",
    "# b. Defining a function which solve for pi, given values and parameters\n",
    "def sol_pi_func(vt,st,yt,pit1,yt1,st1,h=par['h'],alpha=par['alpha'],b=par['b'],gamma=par['gamma'],phi=par['phi']):\n",
    "    return _sol_pi_func(h,b,alpha,gamma,phi,yt,vt,st,pit1,yt1,st1)\n",
    "\n",
    "# c. Solving for pi, using the value of y_star, and printing the solution \n",
    "pi_star = sol_pi_func(vt=vt_int,st=st_int,yt=y_star,pit1=pit1_int,yt1=yt1_int,st1=st1_int)\n",
    "print(f'The equilibrium value of pi, given variable values and parameters is: {pi_star}')\n",
    "\n"
   ]
  },
  {
   "cell_type": "code",
   "execution_count": 7,
   "metadata": {},
   "outputs": [],
   "source": [
    "# Illustration \n",
    "\n",
    "# Define AD and SRAS curves as functions\n",
    "def AD_curve(h,b,alpha,vt,yt): \n",
    "    return 1/(h*alpha)*(vt-(1+b*alpha)*yt)\n",
    "                        \n",
    "                        \n",
    "def SRAS_curve(gamma,phi,pit1,yt,yt1,st,st1): \n",
    "    return pit1+gamma*yt-phi*gamma*yt1+st-phi*st1"
   ]
  },
  {
   "cell_type": "code",
   "execution_count": 70,
   "metadata": {},
   "outputs": [
    {
     "data": {
      "application/vnd.jupyter.widget-view+json": {
       "model_id": "d48977cb8da4434da98e137c569b0fc8",
       "version_major": 2,
       "version_minor": 0
      },
      "text/plain": [
       "interactive(children=(FloatSlider(value=0.0, continuous_update=False, description='Value of $v_t$', max=0.1, s…"
      ]
     },
     "metadata": {},
     "output_type": "display_data"
    }
   ],
   "source": [
    "# Constructing graph\n",
    "\n",
    "def harry(vt_val): \n",
    "    # a. Finding equilibrium given vt\n",
    "    y_opt = sol_y_func(vt=vt_val,st=st_int,pit1=pit1_int,yt1=yt1_int,st1=st1_int)\n",
    "    pi_opt = sol_pi_func(vt=vt_val,st=st_int,yt=y_star,pit1=pit1_int,yt1=yt1_int,st1=st1_int)\n",
    "    \n",
    "    # b. Constructing curves \n",
    "    y = np.linspace(-0.1,0.1,100)\n",
    "    AD = AD_curve(h=par['h'],b=par['b'],alpha=par['alpha'],vt=vt_val,yt=y)\n",
    "    SRAS = SRAS_curve(gamma=par['gamma'],phi=par['phi'],pit1=pit1_int,yt1=yt1_int,st=st_int,st1=st1_int,yt=y)\n",
    "\n",
    "    # c. Generating graph\n",
    "    # i.  Font sizes\n",
    "    title_font = {'size':'15'}\n",
    "    label_font = {'size':'12'}\n",
    "    # ii. Graph\n",
    "    plt.figure(figsize=(10,6))\n",
    "    plt.plot(y,AD,label='AD')\n",
    "    plt.plot(y,SRAS,label='SRAS')\n",
    "    plt.grid(True)\n",
    "\n",
    "    plt.title('AD and SRAS', **title_font)\n",
    "    plt.xlabel('$y_t$', **label_font)\n",
    "    plt.ylabel('$\\pi_t$', **label_font)\n",
    "\n",
    "    # c. Add lines which show optimal values of y and pi \n",
    "    plt.axvline(y_opt, linestyle='dashed', color=\"pink\", label='$y^*$')\n",
    "    plt.axhline(pi_opt, linestyle='dashed', color=\"blue\", label='$\\pi^*$')\n",
    "    \n",
    "    plt.legend()\n",
    "\n",
    "\n",
    "# Interactive graph\n",
    "def ron(): \n",
    "    widgets.interact(harry, \n",
    "                     vt_val=widgets.FloatSlider(\n",
    "                         value=0, \n",
    "                         description='Value of $v_t$', \n",
    "                         min=0,\n",
    "                         max=0.1, \n",
    "                         step=0.01, \n",
    "                         disabled=False, \n",
    "                         continuous_update=False));\n",
    "\n",
    "ron()\n",
    "\n",
    "def hermione(): \n",
    "    widgets.interact(harry, \n",
    "                    vt_val=widgets.Dropdown(\n",
    "                    description='Value of $v_t$', \n",
    "                    options=[0,0.1], \n",
    "                    value=0),);\n",
    "    \n",
    "#hermione();\n",
    "    "
   ]
  },
  {
   "cell_type": "markdown",
   "metadata": {},
   "source": [
    "# NOTE: CHECK RON FUNKTIONEN - SLIDEREN VIRKER IKKE\n",
    "\n",
    "Bare hvis vi vil bruge slideren. Alternativt kunne vi lave en Checkbox"
   ]
  },
  {
   "cell_type": "markdown",
   "metadata": {},
   "source": [
    "**Persistent disturbances:** Now, additionaly, assume that both the demand and the supply disturbances are AR(1) processes\n",
    "\n",
    "$$ v_{t} = \\delta v_{t-1} + x_{t} $$\n",
    "$$ s_{t} = \\omega s_{t-1} + c_{t} $$\n",
    "\n",
    "where $x_{t}$ is a **demand shock**, and $c_t$ is a **supply shock**. The **autoregressive parameters** are:"
   ]
  },
  {
   "cell_type": "code",
   "execution_count": 9,
   "metadata": {},
   "outputs": [],
   "source": [
    "par['delta'] = 0.80\n",
    "par['omega'] = 0.15"
   ]
  },
  {
   "cell_type": "markdown",
   "metadata": {},
   "source": [
    "## Question 3:\n",
    "Starting from $y_{-1} = \\pi_{-1} = s_{-1} = 0$, how does the economy evolve for $x_0 = 0.1$, $x_t = 0, \\forall t > 0$ and $c_t = 0, \\forall t \\geq 0$?"
   ]
  },
  {
   "cell_type": "code",
   "execution_count": 10,
   "metadata": {},
   "outputs": [],
   "source": [
    "# Constructing AR(1) processes \n",
    "\n",
    "# Defining intial values \n",
    "y1 = 0\n",
    "pi_init = 0\n",
    "s_init = 0\n",
    "\n",
    "v_init = 0\n",
    "x0 = 0.1\n",
    "xt = 0 \n",
    "ct = 0 \n",
    "\n",
    "# Number of variable values \n",
    "num = 1000\n",
    "\n",
    "# Creating list, contraining x number values of vt\n",
    "vt = []\n",
    "vt_num = par['delta'] * v_init + x0\n",
    "vt.append(vt_num)\n",
    "def v_func(number=num):\n",
    "    \"\"\"\n",
    "    Function which creates list of vt values\n",
    "    Args: \n",
    "        number = Number of values in list\n",
    "    \"\"\"\n",
    "    for i in range(0,number): \n",
    "        vt_i = par['delta']*vt[i] + xt\n",
    "        vt.append(vt_i)\n",
    "        \n",
    "    return vt\n",
    "\n",
    "vt = v_func();\n",
    "        \n",
    "# Creating list, contraining x number values of st\n",
    "st = []\n",
    "st_num = par['omega']* s_init + ct\n",
    "st.append(st_num)\n",
    "def s_func(number=num): \n",
    "    \"\"\"\n",
    "    Function which creates list of st values\n",
    "    Args: \n",
    "        number = Number of values in list\n",
    "    \"\"\"\n",
    "    for i in range(0,number):\n",
    "        st_i = par['omega']*st[i] + ct\n",
    "        st.append(st_i)\n",
    "        \n",
    "    return st\n",
    "        \n",
    "st = s_func();"
   ]
  },
  {
   "cell_type": "code",
   "execution_count": null,
   "metadata": {},
   "outputs": [],
   "source": []
  },
  {
   "cell_type": "code",
   "execution_count": 11,
   "metadata": {},
   "outputs": [],
   "source": [
    "# Constructing list of y* and pi*\n",
    "\n",
    "\n",
    "y_stars = [0]\n",
    "pi_stars = [0]\n",
    "AD = []\n",
    "SRAS = []\n",
    "\n",
    "def y_solve(number=num): \n",
    "    for i in range(1,num):\n",
    "        # y \n",
    "        y_star_i = sol_y_func(vt=vt[i],st=st[i],pit1=pi_stars[i-1],yt1=y_stars[i-1],st1=st[i-1])\n",
    "        y_stars.append(y_star_i)\n",
    "        # Pi\n",
    "        pi_star_i = sol_pi_func(vt=vt[i],st=st[i],yt=y_stars[i],pit1=pi_stars[i-1],yt1=y_stars[i-1],st1=st[i-1])\n",
    "        pi_stars.append(pi_star_i)\n",
    "\n",
    "y_solve();\n"
   ]
  },
  {
   "cell_type": "code",
   "execution_count": 76,
   "metadata": {},
   "outputs": [
    {
     "data": {
      "image/png": "[encoded data removed]",
      "text/plain": [
       "<Figure size 720x360 with 2 Axes>"
      ]
     },
     "metadata": {
      "needs_background": "light"
     },
     "output_type": "display_data"
    }
   ],
   "source": [
    "# Illustrating the evolution of the economy \n",
    "\n",
    "x = np.linspace(0,1,1000)\n",
    "y_value = y_stars\n",
    "pi_value = pi_stars \n",
    "\n",
    "# Constructing graph\n",
    "f, (ax1, ax2) = plt.subplots(1, 2, sharey=True, figsize=(10,5))\n",
    "ax1.plot(x,pi_value, label='$\\pi$')\n",
    "ax1.set_title('Values of $\\pi$')\n",
    "# ax1.ylabel('$\\pi_t$')\n",
    "ax1.grid(True)\n",
    "ax1.legend()\n",
    "ax2.plot(x,y_value, label=\"$y$\")\n",
    "ax2.set_title('Values of y')\n",
    "# ax2.ylabel('$y_t$')\n",
    "ax2.grid(True)\n",
    "ax2.legend()\n",
    "\n",
    "plt.show();\n"
   ]
  },
  {
   "cell_type": "code",
   "execution_count": 88,
   "metadata": {},
   "outputs": [
    {
     "data": {
      "image/png": "[encoded data removed]",
      "text/plain": [
       "<Figure size 432x288 with 1 Axes>"
      ]
     },
     "metadata": {
      "needs_background": "light"
     },
     "output_type": "display_data"
    },
    {
     "data": {
      "text/plain": [
       "\"\\nfig = plt.figure()\\nax = fig.add_subplot(1,1,1,projection='3d')\\nax.plot(x,y,z)\\n\\n\""
      ]
     },
     "execution_count": 88,
     "metadata": {},
     "output_type": "execute_result"
    }
   ],
   "source": [
    "# Illustrating the evolution of the economy \n",
    "x = y_stars\n",
    "y = pi_stars \n",
    "z = np.linspace(0,1000,1000)\n",
    "\n",
    "\n",
    "plt.plot(x,y)\n",
    "plt.scatter(x,y)\n",
    "plt.grid(True)\n",
    "\n",
    "plt.title(\"Evolution of the Economy with AR(1) processes\")\n",
    "plt.xlabel('$y_t$')\n",
    "plt.ylabel('$\\pi_t$')\n",
    "plt.text(0.01,0.0045,'Each dot is a separare period')\n",
    "    \n",
    "plt.show();\n",
    "\n",
    "\n",
    "\n",
    "\n",
    "\"\"\"\n",
    "fig = plt.figure()\n",
    "ax = fig.add_subplot(1,1,1,projection='3d')\n",
    "ax.plot(x,y,z)\n",
    "\n",
    "\"\"\"\n",
    "\n",
    "\n"
   ]
  },
  {
   "cell_type": "code",
   "execution_count": 72,
   "metadata": {},
   "outputs": [
    {
     "data": {
      "application/vnd.jupyter.widget-view+json": {
       "model_id": "29eeea20d010411dba18364acee76171",
       "version_major": 2,
       "version_minor": 0
      },
      "text/plain": [
       "interactive(children=(Dropdown(description='Period after initial shock', options=(1, 5, 10, 50, 100, 500, 1000…"
      ]
     },
     "metadata": {},
     "output_type": "display_data"
    }
   ],
   "source": [
    "# Illustrating moves in AD and SRAS curves \n",
    "\n",
    "# a. Shocks and Convergence in AD and SRAS curves \n",
    "def AD_shock(yt,period, h=par['h'],b=par['b'],alpha=par['alpha'],vt=vt): \n",
    "    \"\"\"Function which generates AD curves following a shock\n",
    "    Args: \n",
    "        h: Parameter \n",
    "        b: Parameter \n",
    "        alpha: Parameter \n",
    "        vt: Vector of shocks\n",
    "        yt: Vector of y values\n",
    "        period: Number of periods after initial shock\n",
    "    \"\"\"\n",
    "    if period == 0: \n",
    "        return 1/(h*alpha)*(0-(1+b*alpha)*yt)\n",
    "    else:\n",
    "        return 1/(h*alpha)*(vt[period-1]-(1+b*alpha)*yt)\n",
    "    \n",
    "def SRAS_shock(yt,period,gamma=par['gamma'],phi=par['phi'],st=st): \n",
    "    \"\"\"Function which generates SRAS curves following a shock\n",
    "    Args: \n",
    "        gamma: Parameter\n",
    "        phi: Parameter\n",
    "        pi: Vector of pi values\n",
    "        yt: Vector of y values\n",
    "        st: Vector of shocks\n",
    "        period: Number of periods after initial shock \n",
    "        \"\"\"\n",
    "    if period == 0: \n",
    "        return pi_init + gamma*yt - phi*y1 + st[period] - phi*s_init\n",
    "    else:\n",
    "        y_values = [0]\n",
    "        pi_values = [0]\n",
    "        for i in range(1,num): \n",
    "            y_val_i = sol_y_func(vt=vt[i],st=st[i],pit1=pi_stars[i-1],yt1=y_stars[i-1],st1=st[i-1])\n",
    "            y_values.append(y_val_i)\n",
    "            pi_val_i = sol_pi_func(vt=vt[i],st=st[i],yt=y_stars[i],pit1=pi_stars[i-1],yt1=y_stars[i-1],st1=st[i-1])\n",
    "            pi_values.append(pi_val_i)\n",
    "        return pi_values[period-1] + gamma*yt - phi*gamma*y_values[period-1] + st[period] - phi*st[period-1] \n",
    "        \n",
    "\n",
    "# b. Constructing graph\n",
    "\n",
    "def sherlock(period): \n",
    "    \"\"\"Constructs figure of convergence in the economy following a shock\n",
    "    Args: \n",
    "        period: Number of periods after inital shock\n",
    "    Note: \n",
    "        The graph is meant to be called through the watson function, which turn the graph interactive.\n",
    "        Thus, the function should not be called on its own.\n",
    "    \"\"\"\n",
    "    # i. Constructing curves \n",
    "    y = np.linspace(-0.05,0.05,100)\n",
    "    AD_zero = AD_shock(y,0,vt=vt)\n",
    "    AD_i = AD_shock(y,period,vt=vt)\n",
    "    # AD_v = AD_shock(y,5,vt=vt)\n",
    "    #AD_x = AD_shock(y,10,vt=vt)\n",
    "    #AD_c = AD_shock(y,100,vt=vt)\n",
    "    #AD_m = AD_shock(y,1000,vt=vt)\n",
    "    \n",
    "    SRAS_zero = SRAS_shock(y,0,st=st)\n",
    "    SRAS_i = SRAS_shock(y,period,st=st)\n",
    "    #SRAS_v = SRAS_shock(y,5,st=st)\n",
    "    #SRAS_x = SRAS_shock(y,10,st=st)\n",
    "    #SRAS_c = SRAS_shock(y,100,st=st)\n",
    "    \n",
    "    # ii. Graphs\n",
    "    # (a) Font sizes\n",
    "    title_font = {'size':'20'}\n",
    "    label_font = {'size':'15'}\n",
    "    # (b) AD curves\n",
    "    plt.figure(figsize=(12,6))\n",
    "    plt.plot(y,AD_zero,label=('AD'),linewidth=3,color='blue')\n",
    "    plt.plot(y,AD_i,label='$AD new$',color='lightblue')\n",
    "    #plt.plot(y,AD_v,label='$AD_5$',color='navy')\n",
    "    #plt.plot(y,AD_x,label='$AD_{10}$',color='indigo')\n",
    "    #plt.plot(y,AD_c,label='$AD_{100}$',color='aqua')\n",
    "    \n",
    "    # (c) SRAS curves\n",
    "    plt.plot(y,SRAS_zero,label='SRAS',linewidth=3,color='orange')\n",
    "    plt.plot(y,SRAS_i,label='$SRAS new$',color='red')\n",
    "    #plt.plot(y,SRAS_v,label='$SRAS_5$',color='red')\n",
    "    #plt.plot(y,SRAS_x,label='$SRAS_{10}$',color='orchid')\n",
    "    #plt.plot(y,SRAS_c,label='$SRAS_{100}$',color='maroon')\n",
    "    \n",
    "    # (d) Graph properties \n",
    "    plt.grid(True)\n",
    "    plt.title('AD and SRAS', **title_font)\n",
    "    plt.xlabel('$y_t$', **label_font)\n",
    "    plt.ylabel('$\\pi_t$', **label_font)\n",
    "\n",
    "    # d. Add lines which show optimal values of y and pi \n",
    "    plt.axvline(y_star, linestyle='dashed', label='$y^*$')\n",
    "    plt.axhline(pi_star, linestyle='dashed', label='$\\pi^*$')\n",
    "    \n",
    "    plt.legend()\n",
    "\n",
    "\n",
    "# Turn graph interactive \n",
    "def watson(): \n",
    "    widgets.interact(sherlock, \n",
    "                    period=widgets.Dropdown(\n",
    "                    description='Period after initial shock', \n",
    "                    options=[1,5,10,50,100,500,1000], \n",
    "                    value=1),\n",
    "                    );\n",
    "    \n",
    "watson();\n",
    "\n"
   ]
  },
  {
   "cell_type": "markdown",
   "metadata": {},
   "source": [
    "**Stochastic shocks:** Now, additionally, assume that $x_t$ and $c_t$ are stochastic and normally distributed\n",
    "\n",
    "$$ x_{t}\\sim\\mathcal{N}(0,\\sigma_{x}^{2}) $$\n",
    "$$ c_{t}\\sim\\mathcal{N}(0,\\sigma_{c}^{2}) $$\n",
    "\n",
    "The **standard deviations of the shocks** are:"
   ]
  },
  {
   "cell_type": "code",
   "execution_count": 15,
   "metadata": {},
   "outputs": [],
   "source": [
    "par['sigma_x'] = 3.492\n",
    "par['sigma_c'] = 0.2"
   ]
  },
  {
   "cell_type": "markdown",
   "metadata": {},
   "source": [
    "## Question 4\n",
    "Simulate the AS-AD model for 1,000 periods. Calculate the following five statistics:\n",
    "\n",
    "1. Variance of $y_t$, $var(y_t)$\n",
    "2. Variance of $\\pi_t$, $var(\\pi_t)$\n",
    "3. Correlation between $y_t$ and $\\pi_t$, $corr(y_t,\\pi_t)$\n",
    "4. Auto-correlation between $y_t$ and $y_{t-1}$, $corr(y_t,y_{t-1})$\n",
    "5. Auto-correlation between $\\pi_t$ and $\\pi_{t-1}$, $corr(\\pi_t,\\pi_{t-1})$"
   ]
  },
  {
   "cell_type": "code",
   "execution_count": 16,
   "metadata": {},
   "outputs": [],
   "source": [
    "# Constructing x and c\n",
    "seed = 11\n",
    "np.random.seed(seed)\n",
    "x = np.random.normal(0,par['sigma_x'],1000)\n",
    "x[0] = 0\n",
    "c = np.random.normal(0,par['sigma_c'],1000)\n",
    "c[0] = 0 "
   ]
  },
  {
   "cell_type": "code",
   "execution_count": 17,
   "metadata": {},
   "outputs": [],
   "source": [
    "# New vt and st vector \n",
    "\n",
    "# a. Number of variable values \n",
    "num = 1000\n",
    "\n",
    "# b. Creating list, contraining x number values of vt\n",
    "vt_new = [0]\n",
    "def v_func(number=num):\n",
    "    \"\"\"\n",
    "    Function which creates list of vt values\n",
    "    Args: \n",
    "        number = Number of values in list\n",
    "    \"\"\"\n",
    "    for i in range(1,number): \n",
    "        vt_i = par['delta']*vt_new[i-1] + x[i]\n",
    "        vt_new.append(vt_i)\n",
    "        \n",
    "    return vt_new\n",
    "\n",
    "vt_new = v_func();\n",
    "        \n",
    "# c. Creating list, contraining x number values of st\n",
    "def s_func(number=num): \n",
    "    \"\"\"\n",
    "    Function which creates list of st values\n",
    "    Args: \n",
    "        number = Number of values in list\n",
    "    \"\"\"\n",
    "    st_new = [0]\n",
    "    for i in range(1,number):\n",
    "        st_i = par['omega']*st_new[i-1] + c[i]\n",
    "        st_new.append(st_i)\n",
    "        \n",
    "    return st_new\n",
    "        \n",
    "st_new = s_func();"
   ]
  },
  {
   "cell_type": "code",
   "execution_count": 67,
   "metadata": {},
   "outputs": [
    {
     "data": {
      "application/vnd.jupyter.widget-view+json": {
       "model_id": "eb7727372b4646ccadc264cbc41f0ebd",
       "version_major": 2,
       "version_minor": 0
      },
      "text/plain": [
       "interactive(children=(Dropdown(description='Period after initial shock', options=(1, 5, 10, 50, 100, 200, 600,…"
      ]
     },
     "metadata": {},
     "output_type": "display_data"
    }
   ],
   "source": [
    "# Illustrating AD and SRAS curves with new shocks \n",
    "# b. Constructing graph\n",
    "\n",
    "def mycraft(period): \n",
    "    \"\"\"Constructs figure of convergence in the economy following a shock\n",
    "    Args: \n",
    "        period: Number of periods after inital shock\n",
    "    Note: \n",
    "        The graph is meant to be called through the irene function, which turn the graph interactive.\n",
    "        Thus, the function should not be called on its own.\n",
    "    \"\"\"\n",
    "    # i. Constructing curves \n",
    "    y = np.linspace(-1,1,100)\n",
    "    AD_zero = AD_shock(y,0,vt=vt_new)\n",
    "    AD_i = AD_shock(y,period,vt=vt_new)\n",
    "    # AD_v = AD_shock(y,5,vt=vt)\n",
    "    #AD_x = AD_shock(y,10,vt=vt)\n",
    "    #AD_c = AD_shock(y,100,vt=vt)\n",
    "    #AD_m = AD_shock(y,1000,vt=vt)\n",
    "    \n",
    "    SRAS_zero = SRAS_shock(y,0,st=st_new)\n",
    "    SRAS_i = SRAS_shock(y,period,st=st_new)\n",
    "    #SRAS_v = SRAS_shock(y,5,st=st)\n",
    "    #SRAS_x = SRAS_shock(y,10,st=st)\n",
    "    #SRAS_c = SRAS_shock(y,100,st=st)\n",
    "    \n",
    "    # ii. Graphs\n",
    "    # (a) Font sizes\n",
    "    title_font = {'size':'20'}\n",
    "    label_font = {'size':'15'}\n",
    "    # (b) AD curves\n",
    "    plt.figure(figsize=(12,6))\n",
    "    plt.plot(y,AD_zero,label=('AD'),linewidth=3,color='blue')\n",
    "    plt.plot(y,AD_i,label='$AD new$',color='lightblue')\n",
    "    #plt.plot(y,AD_v,label='$AD_5$',color='navy')\n",
    "    #plt.plot(y,AD_x,label='$AD_{10}$',color='indigo')\n",
    "    #plt.plot(y,AD_c,label='$AD_{100}$',color='aqua')\n",
    "    \n",
    "    # (c) SRAS curves\n",
    "    plt.plot(y,SRAS_zero,label='SRAS',linewidth=3,color='orange')\n",
    "    plt.plot(y,SRAS_i,label='$SRAS new $',color='red')\n",
    "    #plt.plot(y,SRAS_v,label='$SRAS_5$',color='red')\n",
    "    #plt.plot(y,SRAS_x,label='$SRAS_{10}$',color='orchid')\n",
    "    #plt.plot(y,SRAS_c,label='$SRAS_{100}$',color='maroon')\n",
    "    \n",
    "    # (d) Graph properties \n",
    "    plt.grid(True)\n",
    "    plt.title('AD and SRAS', **title_font)\n",
    "    plt.xlabel('$y_t$', **label_font)\n",
    "    plt.ylabel('$\\pi_t$', **label_font)\n",
    "\n",
    "    # d. Add lines which show optimal values of y and pi \n",
    "    plt.axvline(y_star, linestyle='dashed', label='$y^*$')\n",
    "    plt.axhline(pi_star, linestyle='dashed', label='$\\pi^*$')\n",
    "    \n",
    "    plt.legend()\n",
    "    \n",
    "\n",
    "\n",
    "# Turn graph interactive \n",
    "def irene(): \n",
    "    widgets.interact(mycraft, \n",
    "                    period=widgets.Dropdown(\n",
    "                    description='Period after initial shock', \n",
    "                    options=[1,5,10,50,100,200,600,800], \n",
    "                    value=1),\n",
    "                    );\n",
    "    \n",
    "irene();"
   ]
  },
  {
   "cell_type": "markdown",
   "metadata": {},
   "source": [
    "# Tilføj Equilibrium Path"
   ]
  },
  {
   "cell_type": "code",
   "execution_count": 19,
   "metadata": {},
   "outputs": [],
   "source": [
    "# Simulating the Economy \n",
    "\n",
    "# Adding equilibrum values as initial values \n",
    "y_sim = [0]\n",
    "pi_sim = [0]\n",
    "\n",
    "for i in range(1,num): \n",
    "    y_val_i = sol_y_func(vt=vt_new[i],st=st_new[i],pit1=pi_sim[i-1],yt1=y_sim[i-1],st1=st_new[i-1])\n",
    "    y_sim.append(y_val_i)\n",
    "    pi_val_i = sol_pi_func(vt=vt_new[i],st=st_new[i],yt=y_sim[i],pit1=pi_sim[i-1],yt1=y_sim[i-1],st1=st_new[i-1])\n",
    "    pi_sim.append(pi_val_i)"
   ]
  },
  {
   "cell_type": "code",
   "execution_count": 20,
   "metadata": {},
   "outputs": [
    {
     "name": "stdout",
     "output_type": "stream",
     "text": [
      "The variance of $y_t$ is: 1.8036\n",
      "The variance of $\\pi_t$ is: 1.2007\n",
      "The correlation between $y_t$ and $\\pi_t$ is: -0.0826\n",
      "The autocorrelation between of $y_t$ and $y_t-1$ is: 0.7575\n",
      "The autocorrelation between of $\\pi_t$ and $\\pi_t-1$ is: 0.9797\n"
     ]
    }
   ],
   "source": [
    "# Calculate variances of y_sim and pi_sim\n",
    "y_var = np.var(y_sim)\n",
    "pi_var = np.var(pi_sim)\n",
    "\n",
    "# Calculate correlation between y_sim and pi_sim\n",
    "y_pi_matrix = np.corrcoef(y_sim,pi_sim)\n",
    "y_pi_corr = y_pi_matrix[0,1]\n",
    "\n",
    "# Calculate autocorrelations\n",
    "y_matrix = np.corrcoef(y_sim[:-1],y_sim[1:])\n",
    "y_corr = y_matrix[0,1]\n",
    "pi_matrix = np.corrcoef(pi_sim[:-1],pi_sim[1:])\n",
    "pi_corr = pi_matrix[0,1]\n",
    "\n",
    "print(f'The variance of $y_t$ is: {y_var:.4f}')\n",
    "print(f'The variance of $\\pi_t$ is: {pi_var:.4f}')\n",
    "print(f'The correlation between $y_t$ and $\\pi_t$ is: {y_pi_corr:.4f}')\n",
    "print(f'The autocorrelation between of $y_t$ and $y_t-1$ is: {y_corr:.4f}')\n",
    "print(f'The autocorrelation between of $\\pi_t$ and $\\pi_t-1$ is: {pi_corr:.4f}')"
   ]
  },
  {
   "cell_type": "markdown",
   "metadata": {},
   "source": [
    "# Fix Latex tekst!"
   ]
  },
  {
   "cell_type": "markdown",
   "metadata": {},
   "source": [
    "## Question 5\n",
    "Plot how the correlation between $y_t$ and $\\pi_t$ changes with $\\phi$. Use a numerical optimizer or root finder to choose $\\phi\\in(0,1)$ such that the simulated correlation between $y_t$ and $\\pi_t$ comes close to 0.31. "
   ]
  },
  {
   "cell_type": "code",
   "execution_count": 52,
   "metadata": {},
   "outputs": [
    {
     "data": {
      "image/png": "[encoded data removed]",
      "text/plain": [
       "<Figure size 720x432 with 1 Axes>"
      ]
     },
     "metadata": {
      "needs_background": "light"
     },
     "output_type": "display_data"
    }
   ],
   "source": [
    "# Defining the correlation as a function \n",
    "\n",
    "\n",
    "y1 = 0\n",
    "pi_init = 0\n",
    "s_init = 0\n",
    "\n",
    "v_init = 0\n",
    "x0 = 0.1\n",
    "xt = 0 \n",
    "ct = 0 \n",
    "\n",
    "def superman(s): \n",
    "    y_phi = [0]\n",
    "    pi_phi = [0]\n",
    "    for i in range(1,num): \n",
    "        y_sim_new = sol_y_func(vt=vt_new[i],st=st_new[i],pit1=pi_phi[i-1],yt1=y_phi[i-1],st1=st_new[i-1],phi=s)\n",
    "        y_phi.append(y_sim_new)\n",
    "        pi_sim_new = sol_pi_func(vt=vt_new[i],st=st_new[i],yt=y_phi[i],pit1=pi_phi[i-1],yt1=y_phi[i-1],st1=st_new[i-1],phi=s)\n",
    "        pi_phi.append(pi_sim_new)\n",
    "    return np.corrcoef(y_phi,pi_phi)[0,1]\n",
    "\n",
    "# Finding the value of phi which give the correlation 0.31\n",
    "x0 = 0 \n",
    "def batman(x):\n",
    "    return (superman(x)-0.31)**2\n",
    "\n",
    "obj_func = lambda x: superman(x)-0.31\n",
    "\n",
    "result = optimize.minimize(batman,x0)\n",
    "phi_val = result.x\n",
    "\n",
    "# Plot \n",
    "x = np.linspace(0,1,100)\n",
    "y = np.empty(100)\n",
    "for i,X in enumerate(x):\n",
    "    y[i] = superman(X)\n",
    "    \n",
    "# i.  Font sizes\n",
    "title_font = {'size':'15'}\n",
    "label_font = {'size':'12'}\n",
    "# ii. Figure\n",
    "plt.figure(figsize=(10,6))\n",
    "plt.plot(x,y)\n",
    "plt.plot(phi_val,0.31, marker='o')\n",
    "plt.axvline(phi_val, linestyle='dashed', color=\"orange\")\n",
    "plt.axhline(0.31, linestyle='dashed', color=\"orange\")\n",
    "plt.title('Correlation between $y_t$ and $\\pi_t$', **title_font)\n",
    "plt.xlabel('$\\phi$', **label_font)\n",
    "plt.ylabel('Correlation', **label_font)\n",
    "plt.grid(True)\n",
    "\n"
   ]
  },
  {
   "cell_type": "code",
   "execution_count": 41,
   "metadata": {},
   "outputs": [],
   "source": [
    "x0 = 0 \n",
    "def batman(x):\n",
    "    return (superman(x)-0.31)**2\n",
    "\n",
    "obj_func = lambda x: superman(x)-0.31\n",
    "\n",
    "result = optimize.minimize(batman,x0)\n",
    "phi_val = result.x"
   ]
  },
  {
   "cell_type": "markdown",
   "metadata": {},
   "source": [
    "## Quesiton 6\n",
    "Use a numerical optimizer to choose $\\sigma_x>0$, $\\sigma_c>0$ and $\\phi\\in(0,1)$ to make the simulated statistics as close as possible to US business cycle data where:\n",
    "\n",
    "1. $var(y_t) = 1.64$\n",
    "2. $var(\\pi_t) = 0.21$\n",
    "3. $corr(y_t,\\pi_t) = 0.31$\n",
    "4. $corr(y_t,y_{t-1}) = 0.84$\n",
    "5. $corr(\\pi_t,\\pi_{t-1}) = 0.48$"
   ]
  },
  {
   "cell_type": "code",
   "execution_count": 28,
   "metadata": {},
   "outputs": [],
   "source": [
    "def spiderman(s): \n",
    "    y_phi = [0]\n",
    "    pi_phi = [0]\n",
    "    for i in range(1,num): \n",
    "        y_sim_new = sol_y_func(vt=vt_new[i],st=st_new[i],pit1=pi_phi[i-1],yt1=y_phi[i-1],st1=st_new[i-1],phi=s)\n",
    "        y_phi.append(y_sim_new)\n",
    "        pi_sim_new = sol_pi_func(vt=vt_new[i],st=st_new[i],yt=y_phi[i],pit1=pi_phi[i-1],yt1=y_phi[i-1],st1=st_new[i-1],phi=s)\n",
    "        pi_phi.append(pi_sim_new)\n",
    "    y_variance = np.var(y_phi) - y_var_val\n",
    "    pi_variance = np.var(pi_phi) - pi_var_val\n",
    "    y_pi_correlation = np.corrcoef(y_phi,pi_phi)[0,1] - y_pi_corr_val\n",
    "    y_correlation = np.corrcoef(y_sim[:-1],y_sim[1:])[0,1] - y_corr_val\n",
    "    pi_correlation = np.corrcoef(pi_phi[:-1],pi_phi[1:])[0,1] - pi_corr\n",
    "    return y_variance, pi_variance, y_pi_correlation, y_correlation, pi_correlation"
   ]
  },
  {
   "cell_type": "code",
   "execution_count": 37,
   "metadata": {},
   "outputs": [],
   "source": [
    "y_var_val = 1.64 \n",
    "pi_var_val = 0.21\n",
    "y_pi_corr_val = 0.31\n",
    "y_corr_val = 0.84\n",
    "pi_corr_val = 0.48\n",
    "\n",
    "x0 = np.zeros(5)\n",
    "\n",
    "def flash(x):\n",
    "    y_var_min = (spiderman(x)[0] - y_var_val)**2\n",
    "    pi_var_min = (spiderman(x)[1] - pi_var_val)**2\n",
    "    y_pi_corr_min = (spiderman(x)[2] - y_pi_corr_val)**2\n",
    "    y_corr_min = (spiderman(x)[3] - y_corr_val)**2\n",
    "    pi_corr_min = (spiderman(x)[4] - pi_corr_val)**2\n",
    "    return np.sum(np.array([y_var_min, pi_var_min, y_pi_corr_min, y_corr_min, pi_corr_min]))\n",
    "   \n",
    "\n",
    "result = optimize.minimize(flash,x0)\n",
    "result.x\n"
   ]
  },
  {
   "cell_type": "code",
   "execution_count": null,
   "metadata": {},
   "outputs": [],
   "source": []
  },
  {
   "cell_type": "code",
   "execution_count": null,
   "metadata": {},
   "outputs": [],
   "source": []
  }
 ],
 "metadata": {
  "kernelspec": {
   "display_name": "Python 3",
   "language": "python",
   "name": "python3"
  },
  "language_info": {
   "codemirror_mode": {
    "name": "ipython",
    "version": 3
   },
   "file_extension": ".py",
   "mimetype": "text/x-python",
   "name": "python",
   "nbconvert_exporter": "python",
   "pygments_lexer": "ipython3",
   "version": "3.7.1"
  }
 },
 "nbformat": 4,
 "nbformat_minor": 2
}
