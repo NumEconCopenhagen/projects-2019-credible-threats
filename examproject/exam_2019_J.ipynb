{
 "cells": [
  {
   "cell_type": "code",
   "execution_count": 206,
   "metadata": {},
   "outputs": [],
   "source": [
    "import numpy as np\n",
    "import matplotlib.pyplot as plt\n",
    "from scipy import optimize\n",
    "import ipywidgets as widgets"
   ]
  },
  {
   "cell_type": "markdown",
   "metadata": {},
   "source": [
    "# 1. Human capital accumulation"
   ]
  },
  {
   "cell_type": "markdown",
   "metadata": {},
   "source": [
    "Consider a worker living in **two periods**, $t \\in \\{1,2\\}$. \n",
    "\n",
    "In each period she decides whether to **work ($l_t = 1$) or not ($l_t = 0$)**. \n",
    "\n",
    "She can *not* borrow or save and thus **consumes all of her income** in each period. "
   ]
  },
  {
   "cell_type": "markdown",
   "metadata": {},
   "source": [
    "If she **works** her **consumption** becomes:\n",
    "\n",
    "$$c_t = w h_t l_t\\,\\,\\text{if}\\,\\,l_t=1$$\n",
    "\n",
    "where $w$ is **the wage rate** and $h_t$ is her **human capital**. \n",
    "\n",
    "If she does **not work** her consumption becomes:\n",
    "\n",
    "$$c_t = b\\,\\,\\text{if}\\,\\,l_t=0$$\n",
    "\n",
    "where $b$ is the **unemployment benefits**."
   ]
  },
  {
   "cell_type": "markdown",
   "metadata": {},
   "source": [
    "Her **utility of consumption** is: \n",
    "\n",
    "$$ \\frac{c_t^{1-\\rho}}{1-\\rho} $$\n",
    "\n",
    "Her **disutility of working** is:\n",
    "\n",
    "$$ \\gamma l_t $$"
   ]
  },
  {
   "cell_type": "markdown",
   "metadata": {},
   "source": [
    "From period 1 to period 2, she **accumulates human capital** according to:\n",
    "\n",
    "$$ h_2 = h_1 + l_1 + \n",
    "\\begin{cases}\n",
    "0 & \\text{with prob. }0.5 \\\\\n",
    "\\Delta & \\text{with prob. }0.5 \n",
    "\\end{cases} \\\\\n",
    "$$\n",
    "\n",
    "where $\\Delta$ is a **stochastic experience gain**."
   ]
  },
  {
   "cell_type": "markdown",
   "metadata": {},
   "source": [
    "In the **second period** the worker thus solves:\n",
    "\n",
    "$$\n",
    "\\begin{eqnarray*}\n",
    "v_{2}(h_{2}) & = &\\max_{l_{2}} \\frac{c_2^{1-\\rho}}{1-\\rho} - \\gamma l_2\n",
    "\\\\ & \\text{s.t.} & \\\\\n",
    "c_{2}& = & w h_2 l_2 \\\\\n",
    "l_{2}& \\in &\\{0,1\\}\n",
    "\\end{eqnarray*}\n",
    "$$"
   ]
  },
  {
   "cell_type": "markdown",
   "metadata": {},
   "source": [
    "In the **first period** the worker thus solves:\n",
    "\n",
    "$$\n",
    "\\begin{eqnarray*}\n",
    "v_{1}(h_{1}) &=& \\max_{l_{1}} \\frac{c_1^{1-\\rho}}{1-\\rho} - \\gamma l_1 + \\beta\\mathbb{E}_{1}\\left[v_2(h_2)\\right]\n",
    "\\\\ & \\text{s.t.} & \\\\\n",
    "c_1 &=& w h_1 l_1 \\\\\n",
    "h_2 &=& h_1 + l_1 + \\begin{cases}\n",
    "0 & \\text{with prob. }0.5\\\\\n",
    "\\Delta & \\text{with prob. }0.5 \n",
    "\\end{cases}\\\\\n",
    "l_{1} &\\in& \\{0,1\\}\\\\\n",
    "\\end{eqnarray*}\n",
    "$$\n",
    "\n",
    "where $\\beta$ is the **discount factor** and $\\mathbb{E}_{1}\\left[v_2(h_2)\\right]$ is the **expected value of living in period two**."
   ]
  },
  {
   "cell_type": "markdown",
   "metadata": {},
   "source": [
    "The **parameters** of the model are:"
   ]
  },
  {
   "cell_type": "code",
   "execution_count": 133,
   "metadata": {},
   "outputs": [],
   "source": [
    "rho = 2\n",
    "beta = 0.96\n",
    "gamma = 0.1\n",
    "w = 2\n",
    "b = 1\n",
    "Delta = 0.1"
   ]
  },
  {
   "cell_type": "markdown",
   "metadata": {},
   "source": [
    "The **relevant levels of human capital** are:"
   ]
  },
  {
   "cell_type": "code",
   "execution_count": 151,
   "metadata": {},
   "outputs": [],
   "source": [
    "h_vec = np.linspace(0.1,1.5,100)"
   ]
  },
  {
   "cell_type": "markdown",
   "metadata": {},
   "source": [
    "**Question 1:** Solve the model in period 2 and illustrate the solution (including labor supply as a function of human capital). "
   ]
  },
  {
   "cell_type": "code",
   "execution_count": 203,
   "metadata": {},
   "outputs": [
    {
     "name": "stdout",
     "output_type": "stream",
     "text": [
      "0.5555560164505426\n"
     ]
    }
   ],
   "source": [
    "def utility(c,rho):\n",
    "    return c**(1-rho)/(1-rho)\n",
    "\n",
    "def v2(h2,l2,rho,gamma,w,b):\n",
    "    if l2 == 0:\n",
    "        return utility(b,rho)\n",
    "    if l2 == 1:\n",
    "        return utility(w*h2,rho)-gamma*l2\n",
    "\n",
    "# Cutoff value of h2 when to work \n",
    "obj = lambda h: (v2(h,1,rho,gamma,w,b)-v2(h,0,rho,gamma,w,b))**2\n",
    "x0 = 0\n",
    "res_temp = optimize.minimize_scalar(obj,x0,method='bounded',bounds=[0,10])\n",
    "\n",
    "h2_cutoff = res_temp.x\n",
    "print(h2_cutoff)\n",
    "\n",
    "\n",
    "def sol2(h_vec,rho,gamma,beta,w,b):\n",
    "    u2_nowork = np.zeros(len(h_vec)) + v2(h_vec,0,rho,gamma,w,b)\n",
    "    #print(u2_nowork)\n",
    "\n",
    "    u2_work = v2(h_vec,1,rho,gamma,w,b)\n",
    "    #print(u2_work)\n",
    "\n",
    "\n",
    "    def opt2(u2_nowork,u2_work):\n",
    "        u2_opt = np.maximum(u2_work,u2_nowork)\n",
    "\n",
    "        l2_opt = []\n",
    "        for i in range(len(h_vec)):\n",
    "            if u2_work[i]>=u2_nowork[i]:\n",
    "                l2_opt.append(1)\n",
    "            else:\n",
    "                l2_opt.append(0)\n",
    "        return u2_opt, l2_opt\n",
    "\n",
    "    u2_opt, l2_opt = opt2(u2_nowork,u2_work)\n",
    "\n",
    "    #print(u2_opt, l2_opt)\n",
    "    return u2_nowork, u2_work, u2_opt, l2_opt"
   ]
  },
  {
   "cell_type": "code",
   "execution_count": 204,
   "metadata": {},
   "outputs": [
    {
     "data": {
      "image/png": "[encoded data removed]",
      "text/plain": [
       "<Figure size 432x720 with 2 Axes>"
      ]
     },
     "metadata": {
      "needs_background": "light"
     },
     "output_type": "display_data"
    }
   ],
   "source": [
    "u2_nowork, u2_work, u2_opt, l2_opt = sol2(h_vec,rho,gamma,beta,w,b)\n",
    "\n",
    "fig, (ax1, ax2) = plt.subplots(nrows=2, ncols=1, sharex=True, figsize=(6,10))\n",
    "\n",
    "# Sub_fig 1\n",
    "ax1.plot(h_vec,u2_nowork, label='Utility if $l_2=0$')\n",
    "ax1.plot(h_vec,u2_work, label='Utility if $l_2=1$')\n",
    "#ax1.plot(h_vec,u2_opt, label='Optimal utility')\n",
    "\n",
    "ax1.grid()\n",
    "ax1.legend(loc='lower right')\n",
    "ax1.set_xlabel('$h_2$')\n",
    "ax1.set_ylabel('Utility')\n",
    "ax1.set_title('Utility in $2^{nd}$ period');\n",
    "\n",
    "ax2.plot(h_vec,l2_opt)\n",
    "ax2.grid()\n",
    "ax2.set_xlabel('$h_2$')\n",
    "ax2.set_ylabel('Labor supply')\n",
    "ax2.set_title('Labor supply $2^{nd}$ period');"
   ]
  },
  {
   "cell_type": "markdown",
   "metadata": {},
   "source": [
    "**Question 2:** Solve the model in period 1 and illustrate the solution (including labor supply as a function of human capital)."
   ]
  },
  {
   "cell_type": "code",
   "execution_count": 201,
   "metadata": {},
   "outputs": [],
   "source": [
    "h1_vec = h_vec.copy()\n",
    "\n",
    "def sol1(h1_vec,rho,gamma,beta,w,b):\n",
    "    def h2_exp(h1,l1):\n",
    "        return h1 + l1 + 0.25\n",
    "\n",
    "\n",
    "    def v2_exp(h2_exp,rho,gamma,w,b):\n",
    "        v2 = []\n",
    "        for i in range(len(h2_exp)):\n",
    "            if h2_exp[i]>=h2_cutoff:\n",
    "                v2.append(utility(w*h2_exp[i],rho)-gamma)\n",
    "            if h2_exp[i]<h2_cutoff:\n",
    "                v2.append(utility(b,rho))\n",
    "\n",
    "        return v2\n",
    "\n",
    "    #print(v2_exp(h2_exp(h1_vec,1),rho,gamma))\n",
    "\n",
    "    def v1(h1,l1,rho,gamma,beta,w,b):\n",
    "        if l1 == 0:\n",
    "            return utility(b,rho) + beta*np.array(v2_exp(h2_exp(h1,l1),rho,gamma,w,b))\n",
    "        if l1 == 1:\n",
    "            return utility(w*h1,rho) - gamma + beta*np.array(v2_exp(h2_exp(h1,l1),rho,gamma,w,b))\n",
    "\n",
    "\n",
    "    u1_nowork = v1(h1_vec,0,rho,gamma,beta,w,b)\n",
    "    u1_work = v1(h1_vec,1,rho,gamma,beta,w,b)\n",
    "\n",
    "    #print(u1_work,u1_nowork)\n",
    "\n",
    "    def opt1(u1_nowork,u1_work):\n",
    "        u1_opt = np.maximum(u1_work,u1_nowork)\n",
    "\n",
    "        l1_opt = []\n",
    "        for i in range(len(h_vec)):\n",
    "            if u1_work[i]>=u1_nowork[i]:\n",
    "                l1_opt.append(1)\n",
    "            else:\n",
    "                l1_opt.append(0)\n",
    "        return u1_opt, l1_opt\n",
    "\n",
    "    u1_opt, l1_opt = opt1(u1_nowork,u1_work)\n",
    "    return u1_nowork, u1_work, u1_opt, l1_opt\n",
    "\n",
    "#print(u1_opt, l1_opt)   \n",
    "\n",
    "#######################\n",
    "#######################\n",
    "\n",
    "def sol1_2(h1_vec,rho,gamma,beta,w,b):\n",
    "    u2_nowork_nowork = np.zeros(len(h_vec)) + v2(h2_exp(h1_vec,0),0,rho,gamma,w,b)\n",
    "    #print(u2_nowork_nowork)\n",
    "    u2_nowork_work = v2(h2_exp(h1_vec,0),1,rho,gamma,w,b)\n",
    "    #print(u2_nowork_work)\n",
    "\n",
    "    u2_opt_nowork1, l2_opt_nowork1 = opt2(u2_nowork_nowork,u2_nowork_work)\n",
    "\n",
    "    #print(u2_opt_nowork1, l2_opt_nowork1)\n",
    "\n",
    "\n",
    "    u2_work_nowork = np.zeros(len(h_vec)) + v2(h2_exp(h1_vec,1),0,rho,gamma,w,b)\n",
    "    #print(u2_work_nowork)\n",
    "    u2_work_work = v2(h2_exp(h1_vec,1),1,rho,gamma,w,b)\n",
    "    #print(u2_work_work)\n",
    "\n",
    "    u2_opt_work1, l2_opt_work1 = opt2(u2_work_nowork,u2_work_work)\n",
    "    #print(u2_opt_work1, l2_opt_work1)\n",
    "    return u2_opt_nowork1, l2_opt_nowork1, u2_opt_work1, l2_opt_work1\n"
   ]
  },
  {
   "cell_type": "code",
   "execution_count": 202,
   "metadata": {},
   "outputs": [
    {
     "data": {
      "image/png": "[encoded data removed]",
      "text/plain": [
       "<Figure size 1008x720 with 4 Axes>"
      ]
     },
     "metadata": {
      "needs_background": "light"
     },
     "output_type": "display_data"
    }
   ],
   "source": [
    "u1_nowork, u1_work, u1_opt, l1_opt = sol1(h1_vec,rho,gamma,beta,w,b)\n",
    "u2_opt_nowork1, l2_opt_nowork1, u2_opt_work1, l2_opt_work1 = sol1_2(h1_vec,rho,gamma,beta,w,b)\n",
    "\n",
    "\n",
    "fig, ((ax1, ax3), (ax2, ax4)) = plt.subplots(nrows=2, ncols=2, sharex=True, figsize=(14,10))\n",
    "\n",
    "# Sub_fig 1\n",
    "ax1.plot(h_vec,u1_nowork, label='Utility if $l_1=0$')\n",
    "ax1.plot(h_vec,u1_work, label='Utility if $l_1=1$')\n",
    "ax1.grid()\n",
    "ax1.legend(loc='lower right')\n",
    "ax1.set_xlabel('$h_1$')\n",
    "ax1.set_ylabel('Utility')\n",
    "ax1.set_title('Utility in $1^{st}$ period');\n",
    "\n",
    "# Sub_fig2\n",
    "ax2.plot(h_vec,l1_opt)\n",
    "ax2.grid()\n",
    "ax2.set_xlabel('$h_1$')\n",
    "ax2.set_ylabel('Labor supply')\n",
    "ax2.set_title('Labor supply $1^{st}$ period');\n",
    "\n",
    "# Sub_fig3\n",
    "ax3.plot(h_vec,u2_opt_nowork1, label='Utility if $l_1=0$')\n",
    "ax3.plot(h_vec,u2_opt_work1, label='Utility if $l_1=1$')\n",
    "ax3.grid()\n",
    "ax3.legend(loc='lower right')\n",
    "ax3.set_xlabel('$h_1$')\n",
    "ax3.set_ylabel('Utility')\n",
    "ax3.set_title('Expected utility in $2^{nd}$ period');\n",
    "\n",
    "# Sub_fig4\n",
    "ax4.plot(h_vec,l2_opt_nowork1, label='Labor supply if $l_1=0$')\n",
    "ax4.plot(h_vec,l2_opt_work1, label='Labor supply if $l_1=1$')\n",
    "ax4.grid()\n",
    "ax4.legend(loc='lower right')\n",
    "ax4.set_xlabel('$h_1$')\n",
    "ax4.set_ylabel('Labor supply')\n",
    "ax4.set_title('Expected labor supply in $2^{nd} period$');"
   ]
  },
  {
   "cell_type": "markdown",
   "metadata": {},
   "source": [
    "**Question 3:** Will the worker never work if her potential wage income is lower than the unemployment benefits she can get? Explain and illustrate why or why not."
   ]
  },
  {
   "cell_type": "code",
   "execution_count": 209,
   "metadata": {},
   "outputs": [
    {
     "data": {
      "application/vnd.jupyter.widget-view+json": {
       "model_id": "d08dbb1a777f4245ae816715bd5c5531",
       "version_major": 2,
       "version_minor": 0
      },
      "text/plain": [
       "interactive(children=(IntSlider(value=0, description='Wage', max=5, step=0), IntSlider(value=3, description='B…"
      ]
     },
     "metadata": {},
     "output_type": "display_data"
    }
   ],
   "source": [
    "rho = 2\n",
    "beta = 0.96\n",
    "gamma = 0.1\n",
    "Delta = 0.1\n",
    "h1_vec = h_vec.copy()\n",
    "\n",
    "\n",
    "def fig(w,b):\n",
    "    u1_nowork, u1_work, u1_opt, l1_opt = sol1(h1_vec,rho,gamma,beta,w,b)\n",
    "    u2_opt_nowork1, l2_opt_nowork1, u2_opt_work1, l2_opt_work1 = sol1_2(h1_vec,rho,gamma,beta,w,b)\n",
    "\n",
    "\n",
    "    fig, (ax1, ax2, ax3) = plt.subplots(nrows=1, ncols=3, figsize=(16,6))\n",
    "\n",
    "    # Sub_fig 1\n",
    "    ax1.plot(h_vec,u1_nowork, label='Utility if $l_1=0$')\n",
    "    ax1.plot(h_vec,u1_work, label='Utility if $l_1=1$')\n",
    "    ax1.grid()\n",
    "    ax1.legend(loc='lower right')\n",
    "    ax1.set_xlabel('$h_1$')\n",
    "    ax1.set_ylabel('Utility')\n",
    "    ax1.set_title('Utility in $1^{st}$ period');\n",
    "\n",
    "    # Sub_fig2\n",
    "    ax2.plot(h_vec,l1_opt)\n",
    "    ax2.grid()\n",
    "    ax2.set_xlabel('$h_1$')\n",
    "    ax2.set_ylabel('Labor supply')\n",
    "    ax2.set_title('Labor supply $1^{st}$ period');\n",
    "\n",
    "    # Sub_fig3\n",
    "    ax3.plot(h_vec,l2_opt_nowork1, label='Labor supply if $l_1=0$')\n",
    "    ax3.plot(h_vec,l2_opt_work1, label='Labor supply if $l_1=1$')\n",
    "    ax3.grid()\n",
    "    ax3.legend(loc='lower right')\n",
    "    ax3.set_xlabel('$h_1$')\n",
    "    ax3.set_ylabel('Labor supply')\n",
    "    ax3.set_title('Expected labor supply in $2^{nd} period$');\n",
    "\n",
    "\n",
    "widgets.interact(fig,\n",
    "    b = widgets.IntSlider(\n",
    "                    value=1,\n",
    "                    description=\"Benefits\", \n",
    "                    min=0,\n",
    "                    max=5, \n",
    "                    step=0.5,\n",
    "                    ),\n",
    "    w = widgets.IntSlider(\n",
    "                    valuse=2,\n",
    "                    description=\"Wage\", \n",
    "                    min=0,\n",
    "                    max=5, \n",
    "                    step=0.5,\n",
    "                    )\n",
    "); \n",
    "\n"
   ]
  },
  {
   "cell_type": "markdown",
   "metadata": {},
   "source": [
    "# 2. AS-AD model"
   ]
  },
  {
   "cell_type": "markdown",
   "metadata": {},
   "source": [
    "Consider the following **AS-AD model**. The **goods market equilibrium** is given by\n",
    "\n",
    "$$ y_{t} = -\\alpha r_{t} + v_{t} $$\n",
    "\n",
    "where $y_{t}$ is the **output gap**, $r_{t}$ is the **ex ante real interest** and $v_{t}$ is a **demand disturbance**. "
   ]
  },
  {
   "cell_type": "markdown",
   "metadata": {},
   "source": [
    "The central bank's **Taylor rule** is\n",
    "\n",
    "$$ i_{t} = \\pi_{t+1}^{e} + h \\pi_{t} + b y_{t}$$\n",
    "\n",
    "where $i_{t}$ is the **nominal interest rate**, $\\pi_{t}$ is the **inflation gap**, and $\\pi_{t+1}^{e}$ is the **expected inflation gap**. "
   ]
  },
  {
   "cell_type": "markdown",
   "metadata": {},
   "source": [
    "The **ex ante real interest rate** is given by \n",
    "\n",
    "$$ r_{t} = i_{t} - \\pi_{t+1}^{e} $$"
   ]
  },
  {
   "cell_type": "markdown",
   "metadata": {},
   "source": [
    "Together, the above implies that the **AD-curve** is\n",
    "\n",
    "$$ \\pi_{t} = \\frac{1}{h\\alpha}\\left[v_{t} - (1+b\\alpha)y_{t}\\right]$$"
   ]
  },
  {
   "cell_type": "markdown",
   "metadata": {},
   "source": [
    "Further, assume that the **short-run supply curve (SRAS)** is given by\n",
    "\n",
    "$$ \\pi_{t} = \\pi_{t}^{e} + \\gamma y_{t} + s_{t}$$\n",
    "\n",
    "where $s_t$ is a **supply disturbance**."
   ]
  },
  {
   "cell_type": "markdown",
   "metadata": {},
   "source": [
    "**Inflation expectations are adaptive** and given by\n",
    "\n",
    "$$ \\pi_{t}^{e} = \\phi\\pi_{t-1}^{e} + (1-\\phi)\\pi_{t-1}$$"
   ]
  },
  {
   "cell_type": "markdown",
   "metadata": {},
   "source": [
    "Together, this implies that the **SRAS-curve** can also be written as\n",
    "\n",
    "$$ \\pi_{t} = \\pi_{t-1} + \\gamma y_{t} - \\phi\\gamma y_{t-1} + s_{t} - \\phi s_{t-1} $$"
   ]
  },
  {
   "cell_type": "markdown",
   "metadata": {},
   "source": [
    "The **parameters** of the model are:"
   ]
  },
  {
   "cell_type": "code",
   "execution_count": 4,
   "metadata": {},
   "outputs": [],
   "source": [
    "par = {}\n",
    "\n",
    "par['alpha'] = 5.76\n",
    "par['h'] = 0.5\n",
    "par['b'] = 0.5\n",
    "par['phi'] = 0\n",
    "par['gamma'] = 0.075"
   ]
  },
  {
   "cell_type": "markdown",
   "metadata": {},
   "source": [
    "**Question 1:** Use the ``sympy`` module to solve for the equilibrium values of output, $y_t$, and inflation, $\\pi_t$, (where AD = SRAS) given the parameters ($\\alpha$, $h$, $b$, $\\alpha$, $\\gamma$) and $y_{t-1}$ , $\\pi_{t-1}$, $v_t$, $s_t$, and $s_{t-1}$.\n",
    "\n",
    "**Question 2:** Find and illustrate the equilibrium when $y_{t-1} = \\pi_{t-1} = v_t = s_t = s_{t-1} = 0$. Illustrate how the equilibrium changes when instead $v_t = 0.1$."
   ]
  },
  {
   "cell_type": "markdown",
   "metadata": {},
   "source": [
    "**Persistent disturbances:** Now, additionaly, assume that both the demand and the supply disturbances are AR(1) processes\n",
    "\n",
    "$$ v_{t} = \\delta v_{t-1} + x_{t} $$\n",
    "$$ s_{t} = \\omega s_{t-1} + c_{t} $$\n",
    "\n",
    "where $x_{t}$ is a **demand shock**, and $c_t$ is a **supply shock**. The **autoregressive parameters** are:"
   ]
  },
  {
   "cell_type": "code",
   "execution_count": 5,
   "metadata": {},
   "outputs": [],
   "source": [
    "par['delta'] = 0.80\n",
    "par['omega'] = 0.15"
   ]
  },
  {
   "cell_type": "markdown",
   "metadata": {},
   "source": [
    "**Question 3:** Starting from $y_{-1} = \\pi_{-1} = s_{-1} = 0$, how does the economy evolve for $x_0 = 0.1$, $x_t = 0, \\forall t > 0$ and $c_t = 0, \\forall t \\geq 0$?"
   ]
  },
  {
   "cell_type": "markdown",
   "metadata": {},
   "source": [
    "**Stochastic shocks:** Now, additionally, assume that $x_t$ and $c_t$ are stochastic and normally distributed\n",
    "\n",
    "$$ x_{t}\\sim\\mathcal{N}(0,\\sigma_{x}^{2}) $$\n",
    "$$ c_{t}\\sim\\mathcal{N}(0,\\sigma_{c}^{2}) $$\n",
    "\n",
    "The **standard deviations of the shocks** are:"
   ]
  },
  {
   "cell_type": "code",
   "execution_count": 6,
   "metadata": {},
   "outputs": [],
   "source": [
    "par['sigma_x'] = 3.492\n",
    "par['sigma_c'] = 0.2"
   ]
  },
  {
   "cell_type": "markdown",
   "metadata": {},
   "source": [
    "**Question 4:** Simulate the AS-AD model for 1,000 periods. Calculate the following five statistics:\n",
    "\n",
    "1. Variance of $y_t$, $var(y_t)$\n",
    "2. Variance of $\\pi_t$, $var(\\pi_t)$\n",
    "3. Correlation between $y_t$ and $\\pi_t$, $corr(y_t,\\pi_t)$\n",
    "4. Auto-correlation between $y_t$ and $y_{t-1}$, $corr(y_t,y_{t-1})$\n",
    "5. Auto-correlation between $\\pi_t$ and $\\pi_{t-1}$, $corr(\\pi_t,\\pi_{t-1})$"
   ]
  },
  {
   "cell_type": "markdown",
   "metadata": {},
   "source": [
    "**Question 5:** Plot how the correlation between $y_t$ and $\\pi_t$ changes with $\\phi$. Use a numerical optimizer or root finder to choose $\\phi\\in(0,1)$ such that the simulated correlation between $y_t$ and $\\pi_t$ comes close to 0.31. "
   ]
  },
  {
   "cell_type": "markdown",
   "metadata": {},
   "source": [
    "**Quesiton 6:** Use a numerical optimizer to choose $\\sigma_x>0$, $\\sigma_c>0$ and $\\phi\\in(0,1)$ to make the simulated statistics as close as possible to US business cycle data where:\n",
    "\n",
    "1. $var(y_t) = 1.64$\n",
    "2. $var(\\pi_t) = 0.21$\n",
    "3. $corr(y_t,\\pi_t) = 0.31$\n",
    "4. $corr(y_t,y_{t-1}) = 0.84$\n",
    "5. $corr(\\pi_t,\\pi_{t-1}) = 0.48$"
   ]
  },
  {
   "cell_type": "markdown",
   "metadata": {},
   "source": [
    "# 3. Exchange economy"
   ]
  },
  {
   "cell_type": "markdown",
   "metadata": {},
   "source": [
    "Consider an **exchange economy** with\n",
    "\n",
    "1. 3 goods, $(x_1,x_2,x_3)$\n",
    "2. $N$ consumers indexed by \\\\( j \\in \\{1,2,\\dots,N\\} \\\\)\n",
    "3. Preferences are Cobb-Douglas with log-normally distributed coefficients\n",
    "\n",
    "    $$ \\begin{eqnarray*}\n",
    "    u^{j}(x_{1},x_{2},x_{3}) &=& \n",
    "    \\left(x_{1}^{\\beta_{1}^{j}}x_{2}^{\\beta_{2}^{j}}x_{3}^{\\beta_{3}^{j}}\\right)^{\\gamma}\\\\\n",
    "     &  & \\,\\,\\,\\beta_{i}^{j}=\\frac{\\alpha_{i}^{j}}{\\alpha_{1}^{j}+\\alpha_{2}^{j}+\\alpha_{3}^{j}} \\\\\n",
    "     &  & \\,\\,\\,\\boldsymbol{\\alpha}^{j}=(\\alpha_{1}^{j},\\alpha_{2}^{j},\\alpha_{3}^{j}) \\\\ \n",
    "     &  & \\,\\,\\,\\log(\\boldsymbol{\\alpha}^j) \\sim \\mathcal{N}(\\mu,\\Sigma) \\\\\n",
    "    \\end{eqnarray*} $$\n",
    "\n",
    "4. Endowments are exponentially distributed,\n",
    "\n",
    "$$\n",
    "\\begin{eqnarray*}\n",
    "\\boldsymbol{e}^{j} &=& (e_{1}^{j},e_{2}^{j},e_{3}^{j}) \\\\\n",
    " &  & e_i^j \\sim f, f(z;\\zeta) =  1/\\zeta \\exp(-z/\\zeta)\n",
    "\\end{eqnarray*}\n",
    "$$"
   ]
  },
  {
   "cell_type": "markdown",
   "metadata": {},
   "source": [
    "Let $p_3 = 1$ be the **numeraire**. The implied **demand functions** are:\n",
    "\n",
    "$$\n",
    "\\begin{eqnarray*}\n",
    "x_{i}^{\\star j}(p_{1},p_{2},\\boldsymbol{e}^{j})&=&\\beta^{j}_i\\frac{I^j}{p_{i}} \\\\\n",
    "\\end{eqnarray*}\n",
    "$$\n",
    "\n",
    "where consumer $j$'s income is\n",
    "\n",
    "$$I^j = p_1 e_1^j + p_2 e_2^j +p_3 e_3^j$$"
   ]
  },
  {
   "cell_type": "markdown",
   "metadata": {},
   "source": [
    "The **parameters** and **random preferences and endowments** are given by:"
   ]
  },
  {
   "cell_type": "code",
   "execution_count": 7,
   "metadata": {},
   "outputs": [],
   "source": [
    "# a. parameters\n",
    "N = 50000\n",
    "mu = np.array([3,2,1])\n",
    "Sigma = np.array([[0.25, 0, 0], [0, 0.25, 0], [0, 0, 0.25]])\n",
    "gamma = 0.8\n",
    "zeta = 1\n",
    "\n",
    "# b. random draws\n",
    "seed = 1986\n",
    "np.random.seed(seed)\n",
    "\n",
    "# preferences\n",
    "alphas = np.exp(np.random.multivariate_normal(mu, Sigma, size=N))\n",
    "betas = alphas/np.reshape(np.sum(alphas,axis=1),(N,1))\n",
    "\n",
    "# endowments\n",
    "e1 = np.random.exponential(zeta,size=N)\n",
    "e2 = np.random.exponential(zeta,size=N)\n",
    "e3 = np.random.exponential(zeta,size=N)"
   ]
  },
  {
   "cell_type": "markdown",
   "metadata": {},
   "source": [
    "**Question 1:** Plot the histograms of the budget shares for each good across agents.\n",
    "\n",
    "Consider the **excess demand functions:**\n",
    "\n",
    "$$ z_i(p_1,p_2) = \\sum_{j=1}^N x_{i}^{\\star j}(p_{1},p_{2},\\boldsymbol{e}^{j}) - e_i^j$$\n",
    "\n",
    "**Question 2:** Plot the excess demand functions."
   ]
  },
  {
   "cell_type": "markdown",
   "metadata": {},
   "source": [
    "**Quesiton 3:** Find the Walras-equilibrium prices, $(p_1,p_2)$, where both excess demands are (approximately) zero, e.g. by using the following tâtonnement process:\n",
    "\n",
    "1. Guess on $p_1 > 0$, $p_2 > 0$ and choose tolerance $\\epsilon > 0$ and adjustment aggressivity parameter, $\\kappa > 0$.\n",
    "2. Calculate $z_1(p_1,p_2)$ and $z_2(p_1,p_2)$.\n",
    "3. If $|z_1| < \\epsilon$ and $|z_2| < \\epsilon$ then stop.\n",
    "4. Else set $p_1 = p_1 + \\kappa \\frac{z_1}{N}$ and $p_2 = p_2 + \\kappa \\frac{z_2}{N}$ and return to step 2."
   ]
  },
  {
   "cell_type": "markdown",
   "metadata": {},
   "source": [
    "**Question 4:** Plot the distribution of utility in the Walras-equilibrium and calculate its mean and variance."
   ]
  },
  {
   "cell_type": "markdown",
   "metadata": {},
   "source": [
    "**Question 5:** Find the Walras-equilibrium prices if instead all endowments were distributed equally. Discuss the implied changes in the distribution of utility. Does the value of $\\gamma$ play a role for your conclusions?"
   ]
  }
 ],
 "metadata": {
  "kernelspec": {
   "display_name": "Python 3",
   "language": "python",
   "name": "python3"
  },
  "language_info": {
   "codemirror_mode": {
    "name": "ipython",
    "version": 3
   },
   "file_extension": ".py",
   "mimetype": "text/x-python",
   "name": "python",
   "nbconvert_exporter": "python",
   "pygments_lexer": "ipython3",
   "version": "3.7.3"
  },
  "toc-autonumbering": false
 },
 "nbformat": 4,
 "nbformat_minor": 2
}
