{
 "cells": [
  {
   "cell_type": "markdown",
   "metadata": {},
   "source": [
    "# Problem 2: The AS-AD Model"
   ]
  },
  {
   "cell_type": "markdown",
   "metadata": {},
   "source": [
    "Consider the following **AS-AD model**. The **goods market equilibrium** is given by\n",
    "\n",
    "$$ y_{t} = -\\alpha r_{t} + v_{t} $$\n",
    "\n",
    "where $y_{t}$ is the **output gap**, $r_{t}$ is the **ex ante real interest** and $v_{t}$ is a **demand disturbance**. "
   ]
  },
  {
   "cell_type": "markdown",
   "metadata": {},
   "source": [
    "The central bank's **Taylor rule** is\n",
    "\n",
    "$$ i_{t} = \\pi_{t+1}^{e} + h \\pi_{t} + b y_{t}$$\n",
    "\n",
    "where $i_{t}$ is the **nominal interest rate**, $\\pi_{t}$ is the **inflation gap**, and $\\pi_{t+1}^{e}$ is the **expected inflation gap**. "
   ]
  },
  {
   "cell_type": "markdown",
   "metadata": {},
   "source": [
    "The **exante real interest rate** is given by \n",
    "\n",
    "$$ r_{t} = i_{t} - \\pi_{t+1}^{e} $$"
   ]
  },
  {
   "cell_type": "markdown",
   "metadata": {},
   "source": [
    "Together, the above implies that the **AD-curve** is\n",
    "\n",
    "$$ \\pi_{t} = \\frac{1}{h\\alpha}\\left[v_{t} - (1+b\\alpha)y_{t}\\right]$$"
   ]
  },
  {
   "cell_type": "markdown",
   "metadata": {},
   "source": [
    "Further, assume that the **short-run supply curve (SRAS)** is given by\n",
    "\n",
    "$$ \\pi_{t} = \\pi_{t}^{e} + \\gamma y_{t} + s_{t}$$\n",
    "\n",
    "where $s_t$ is a **supply disturbance**."
   ]
  },
  {
   "cell_type": "markdown",
   "metadata": {},
   "source": [
    "**Inflation expectations are adaptive** and given by\n",
    "\n",
    "$$ \\pi_{t}^{e} = \\phi\\pi_{t-1}^{e} + (1-\\phi)\\pi_{t-1}$$"
   ]
  },
  {
   "cell_type": "markdown",
   "metadata": {},
   "source": [
    "Together, this implies that the **SRAS-curve** can also be written as\n",
    "\n",
    "$$ \\pi_{t} = \\pi_{t-1} + \\gamma y_{t} - \\phi\\gamma y_{t-1} + s_{t} - \\phi s_{t-1} $$"
   ]
  },
  {
   "cell_type": "markdown",
   "metadata": {},
   "source": [
    "The **parameters** of the model are:"
   ]
  },
  {
   "cell_type": "code",
   "execution_count": 7,
   "metadata": {},
   "outputs": [],
   "source": [
    "par = {}\n",
    "\n",
    "par['alpha'] = 5.76\n",
    "par['h'] = 0.5\n",
    "par['b'] = 0.5\n",
    "par['phi'] = 0\n",
    "par['gamma'] = 0.075\n",
    "par['delta'] = 0.80\n",
    "par['omega'] = 0.15\n",
    "par['sigma_x'] = 3.492\n",
    "par['sigma_c'] = 0.2"
   ]
  },
  {
   "cell_type": "code",
   "execution_count": 2,
   "metadata": {},
   "outputs": [],
   "source": [
    "import numpy as np\n",
    "from scipy import linalg\n",
    "from scipy import optimize\n",
    "import sympy as sm\n",
    "import matplotlib.pyplot as plt\n",
    "import ipywidgets as widgets"
   ]
  },
  {
   "cell_type": "markdown",
   "metadata": {},
   "source": [
    "## Question 1\n",
    "Use the ``sympy`` module to solve for the equilibrium values of output, $y_t$, and inflation, $\\pi_t$, (where AD = SRAS) given the parameters ($\\alpha$, $h$, $b$, $\\alpha$, $\\gamma$) and $y_{t-1}$ , $\\pi_{t-1}$, $v_t$, $s_t$, and $s_{t-1}$."
   ]
  },
  {
   "cell_type": "code",
   "execution_count": 3,
   "metadata": {},
   "outputs": [],
   "source": [
    "# Defining the AD and the SRAS functions\n",
    "\n",
    "# i. Defining symbols\n",
    "sm.init_printing(use_unicode=True)\n",
    "pit = sm.symbols('pi_t')\n",
    "pit1 = sm.symbols('pi_t-1')\n",
    "alpha = sm.symbols('alpha')\n",
    "gamma = sm.symbols('gamma')\n",
    "phi = sm.symbols('phi')\n",
    "h = sm.symbols('h')\n",
    "b = sm.symbols('b')\n",
    "vt = sm.symbols('v_t')\n",
    "yt = sm.symbols('y_t')\n",
    "yt1 = sm.symbols('y_t-1')\n",
    "st = sm.symbols('s_t')\n",
    "st1 = sm.symbols('s_t-1')\n",
    "\n",
    "\n",
    "# ii. AD-curve \n",
    "AD = sm.Eq(1/(h*alpha)*(vt-(1+b*alpha)*yt), pit)\n",
    "\n",
    "# iii. SRAS-curve \n",
    "SRAS = sm.Eq(pit1 + gamma*yt - phi*gamma*yt1 + st - phi*st1, pit)\n",
    "\n"
   ]
  },
  {
   "cell_type": "code",
   "execution_count": 4,
   "metadata": {},
   "outputs": [
    {
     "name": "stdout",
     "output_type": "stream",
     "text": [
      "The equilibrium value of y is:\n"
     ]
    },
    {
     "data": {
      "image/png": "[encoded data removed]",
      "text/latex": [
       "$\\displaystyle \\left[ \\frac{\\alpha \\gamma h \\phi y_{t-1} + \\alpha h \\phi s_{t-1} - \\alpha h \\pi_{t-1} - \\alpha h s_{t} + v_{t}}{\\alpha b + \\alpha \\gamma h + 1}\\right]$"
      ],
      "text/plain": [
       "⎡α⋅γ⋅h⋅φ⋅yₜ₋₁ + α⋅h⋅φ⋅sₜ₋₁ - α⋅h⋅πₜ₋₁ - α⋅h⋅sₜ + vₜ⎤\n",
       "⎢──────────────────────────────────────────────────⎥\n",
       "⎣                 α⋅b + α⋅γ⋅h + 1                  ⎦"
      ]
     },
     "execution_count": 4,
     "metadata": {},
     "output_type": "execute_result"
    }
   ],
   "source": [
    "# Solving for y\n",
    "\n",
    "# i. Setting AD equal to SRAS \n",
    "AD_SRAS = sm.Eq(1/(h*alpha)*(vt-(1+b*alpha)*yt), pit1 + gamma*yt - phi*gamma*yt1 + st - phi*st1)\n",
    "\n",
    "# ii. Solving for y \n",
    "yt_star = sm.solve(AD_SRAS, yt)\n",
    "\n",
    "# iii. Printing y*\n",
    "print(f'The equilibrium value of y is:')\n",
    "yt_star"
   ]
  },
  {
   "cell_type": "code",
   "execution_count": 5,
   "metadata": {},
   "outputs": [
    {
     "name": "stdout",
     "output_type": "stream",
     "text": [
      "The equilibrium value of pi is:\n"
     ]
    },
    {
     "data": {
      "image/png": "[encoded data removed]",
      "text/latex": [
       "$\\displaystyle \\frac{v_{t} - \\frac{\\left(\\alpha b + 1\\right) \\left(\\alpha \\gamma h \\phi y_{t-1} + \\alpha h \\phi s_{t-1} - \\alpha h \\pi_{t-1} - \\alpha h s_{t} + v_{t}\\right)}{\\alpha b + \\alpha \\gamma h + 1}}{\\alpha h}$"
      ],
      "text/plain": [
       "     (α⋅b + 1)⋅(α⋅γ⋅h⋅φ⋅yₜ₋₁ + α⋅h⋅φ⋅sₜ₋₁ - α⋅h⋅πₜ₋₁ - α⋅h⋅sₜ + vₜ)\n",
       "vₜ - ──────────────────────────────────────────────────────────────\n",
       "                            α⋅b + α⋅γ⋅h + 1                        \n",
       "───────────────────────────────────────────────────────────────────\n",
       "                                α⋅h                                "
      ]
     },
     "execution_count": 5,
     "metadata": {},
     "output_type": "execute_result"
    }
   ],
   "source": [
    "# Solving for pi \n",
    "\n",
    "# i. Inserting y* in the AD function\n",
    "pit_star = 1/(h*alpha)*(vt-(1+b*alpha)*yt_star[0])\n",
    "\n",
    "# ii. Printing pi*\n",
    "print(f'The equilibrium value of pi is:')\n",
    "pit_star"
   ]
  },
  {
   "cell_type": "markdown",
   "metadata": {},
   "source": [
    "## Question 2\n",
    "Find and illustrate the equilibrium when $y_{t-1} = \\pi_{t-1} = v_t = s_t = s_{t-1} = 0$. Illustrate how the equilibrium changes when instead $v_t = 0.1$."
   ]
  },
  {
   "cell_type": "code",
   "execution_count": 6,
   "metadata": {},
   "outputs": [
    {
     "name": "stdout",
     "output_type": "stream",
     "text": [
      "The equilibrium value of y, given variable values and parameters is: 0.0\n",
      "The equilibrium value of pi, given variable values and parameters is: 0.0\n"
     ]
    }
   ],
   "source": [
    "# Defining variable values \n",
    "yt1_int = 0 \n",
    "pit1_int = 0 \n",
    "vt_int = 0 \n",
    "st_int = 0 \n",
    "st1_int = 0 \n",
    "\n",
    "vt_one = 0.1\n",
    "\n",
    "\n",
    "## Solving numerically for y \n",
    "\n",
    "# a. Defining a lambda function of yt_eq \n",
    "_sol_y_func = sm.lambdify((h,b,alpha,gamma,phi,vt,st,pit1,yt1,st1),yt_star[0])\n",
    "\n",
    "# b. Defining a function which solve for y, given values and parameters \n",
    "def sol_y_func(vt,st,pit1,yt1,st1,h=par['h'],alpha=par['alpha'],b=par['b'],gamma=par['gamma'],phi=par['phi']):\n",
    "    return _sol_y_func(h,b,alpha,gamma,phi,vt,st,pit1,yt1,st1)\n",
    "\n",
    "# c. Solving for y and printing the solution \n",
    "y_star = sol_y_func(vt=vt_int,st=st_int,pit1=pit1_int,yt1=yt1_int,st1=st1_int)\n",
    "print(f'The equilibrium value of y, given variable values and parameters is: {y_star}')\n",
    "\n",
    "\n",
    "\n",
    "##  Solving for pi \n",
    "\n",
    "# a. Defining a lambda function of yt_eq \n",
    "_sol_pi_func = sm.lambdify((h,b,alpha,gamma,phi,yt,vt,st,pit1,yt1,st1),pit_star)\n",
    "\n",
    "# b. Defining a function which solve for pi, given values and parameters\n",
    "def sol_pi_func(vt,st,yt,pit1,yt1,st1,h=par['h'],alpha=par['alpha'],b=par['b'],gamma=par['gamma'],phi=par['phi']):\n",
    "    return _sol_pi_func(h,b,alpha,gamma,phi,yt,vt,st,pit1,yt1,st1)\n",
    "\n",
    "# c. Solving for pi, using the value of y_star, and printing the solution \n",
    "pi_star = sol_pi_func(vt=vt_int,st=st_int,yt=y_star,pit1=pit1_int,yt1=yt1_int,st1=st1_int)\n",
    "print(f'The equilibrium value of pi, given variable values and parameters is: {pi_star}')\n",
    "\n"
   ]
  },
  {
   "cell_type": "code",
   "execution_count": null,
   "metadata": {},
   "outputs": [],
   "source": []
  },
  {
   "cell_type": "code",
   "execution_count": 352,
   "metadata": {},
   "outputs": [
    {
     "data": {
      "text/plain": [
       "[<matplotlib.lines.Line2D at 0x259a2fc1f60>]"
      ]
     },
     "execution_count": 352,
     "metadata": {},
     "output_type": "execute_result"
    },
    {
     "data": {
      "image/png": "[encoded data removed]",
      "text/plain": [
       "<Figure size 432x288 with 1 Axes>"
      ]
     },
     "metadata": {
      "needs_background": "light"
     },
     "output_type": "display_data"
    }
   ],
   "source": [
    "def find_y_pi(phi,sigma_x,sigma_c):\n",
    "    num = 1000\n",
    "    # Generate shock-process\n",
    "    np.random.seed(seed)\n",
    "\n",
    "    v = v_series(num,par,sigma_x)\n",
    "    s = s_series(num,par,sigma_c)\n",
    "    \n",
    "    #v[0] = 0\n",
    "    #s[0] = 0\n",
    "    \n",
    "    #v = np.random.normal(0,sigma_c,num)\n",
    "    #s = np.random.normal(0,sigma_c,num)\n",
    "    \n",
    "    # Generate y and pi process\n",
    "    y = np.zeros(num)\n",
    "    pi = np.zeros(num)\n",
    "    for i in range(1,num):\n",
    "        #y[i] = (par['alpha']*par['gamma']*par['h']*phi*y[i-1]+par['alpha']*par['h']*phi*s[i-1]-par['alpha']*par['h']*pi[i-1]-par['alpha']*par['h']*s[i]+v[i])/(par['alpha']*par['b']+par['alpha']*par['gamma']*par['h']+1)\n",
    "        #pi[i] = (v[i]-((par['alpha']*par['b']+1)*y[i]))/(par['alpha']*par['h'])\n",
    "        y[i] = sol_y_func(v[i],s[i],pi[i-1],y[i-1],s[i-1],phi=phi)\n",
    "        pi[i] = sol_pi_func(v[i],s[i],y[i],pi[i-1],y[i-1],s[i-1],phi=phi)\n",
    "        \n",
    "    # Calculate statistics\n",
    "    y_var = (np.var(y)-1.64)**2\n",
    "    pi_var = (np.var(pi)-0.21)**2\n",
    "    ypi_corr = (np.corrcoef(y,pi)[0,1]-0.31)**2\n",
    "    y_autocorr = (np.corrcoef(y[:-1],y[1:])[0,1]-0.84)**2\n",
    "    pi_autocorr = (np.corrcoef(pi[:-1],pi[1:])[0,1]-0.48)**2\n",
    "    \n",
    "    stats = [y_var,pi_var,ypi_corr,y_autocorr,pi_autocorr]\n",
    "    \n",
    "    return stats\n",
    "\n",
    "def obj_fun(inputs):\n",
    "    x,y,z = inputs\n",
    "    stats = find_y_pi(x,y,z)\n",
    "    sq_sum_stats = sum(stats)\n",
    "    return sq_sum_stats\n",
    "\n",
    "x0 = [par['phi'],par['sigma_x'],par['sigma_c']]\n",
    "bnds = [(0,1),(0,np.inf),(0,np.inf)]\n",
    "\n",
    "\"\"\"result = optimize.minimize(obj_fun,x0,bounds=bnds,method='SLSQP')\n",
    "result\n",
    "\"\"\"\n",
    "#find_y_pi(0.9606,3.1916,0.2183)\n",
    "\n",
    "x = np.linspace(0,1,100)\n",
    "y = np.empty(100)\n",
    "\n",
    "for j,i in enumerate(x):\n",
    "    y[j] = find_y_pi(i,par['sigma_x'],par['sigma_c'])[2]\n",
    "    \n",
    "plt.plot(x,y)\n",
    "#result"
   ]
  },
  {
   "cell_type": "code",
   "execution_count": 346,
   "metadata": {},
   "outputs": [
    {
     "data": {
      "text/plain": [
       "array([1.        , 3.10633836, 0.21246156])"
      ]
     },
     "execution_count": 346,
     "metadata": {},
     "output_type": "execute_result"
    }
   ],
   "source": [
    "seed = 11\n",
    "np.random.seed(seed)\n",
    "\n",
    "num = 1000\n",
    "\n",
    "def x_shock(num,par,sigma_x):\n",
    "    x = np.random.normal(0,sigma_x,num)\n",
    "    return x\n",
    "    \n",
    "def c_shock(num,par,sigma_c):\n",
    "    c = np.random.normal(0,sigma_c,num)\n",
    "    return c\n",
    "\n",
    "def v_series(num,par,sigma_x):\n",
    "    v = np.zeros(num)\n",
    "    x = x_shock(num,par,sigma_x)\n",
    "    for i in range(1,num):\n",
    "        v[i] = par['delta']*v[i-1]+x[i]\n",
    "    return v\n",
    "\n",
    "def s_series(num,par,sigma_c):\n",
    "    s = np.zeros(num)\n",
    "    c = c_shock(num,par,sigma_c)\n",
    "    for i in range(1,num):\n",
    "        s[i] = par['omega']*s[i-1]+c[i]\n",
    "    return s\n",
    "\n",
    "def var_set(num,par,phi_val,sigma_x,sigma_c):\n",
    "    np.random.seed(seed)\n",
    "    \n",
    "    v = v_series(num,par,sigma_x)\n",
    "    s = s_series(num,par,sigma_c)\n",
    "    \n",
    "    y = np.zeros(num)\n",
    "    pi = np.zeros(num)\n",
    "    \n",
    "    for i in range(1,num):\n",
    "        y[i] = sol_y_func(v[i],s[i],pi[i-1],y[i-1],s[i-1],phi=phi_val)\n",
    "        pi[i] = sol_pi_func(v[i],s[i],y[i],pi[i-1],y[i-1],s[i-1],phi=phi_val)\n",
    "    \n",
    "    y_var = np.var(y)\n",
    "    pi_var = np.var(pi)\n",
    "    ypi_corr = np.corrcoef(y,pi)[0,1]\n",
    "    y_autocorr = np.corrcoef(y[:-1],y[1:])[0,1]\n",
    "    pi_autocorr = np.corrcoef(pi[:-1],pi[1:])[0,1]\n",
    "    \n",
    "    return y_var, pi_var, ypi_corr, y_autocorr, pi_autocorr\n",
    "\n",
    "def min_dist(phi,sigma_x,sigma_c,*args):\n",
    "    y_var_g = 1.64\n",
    "    pi_var_g = 0.21\n",
    "    ypi_corr_g = 0.31\n",
    "    y_autocorr_g = 0.84\n",
    "    pi_autocorr_g = 0.48\n",
    "    \n",
    "    #print(*args)\n",
    "    var_set_vals = var_set(args[0],args[1],phi,sigma_x,sigma_c)\n",
    "    \n",
    "    y_var_sq = abs(var_set_vals[0]-y_var_g)\n",
    "    pi_var_sq = abs(var_set_vals[1]-pi_var_g)\n",
    "    ypi_corr_sq = abs(var_set_vals[2]-ypi_corr_g)\n",
    "    y_autocorr_sq = abs(var_set_vals[3]-y_autocorr_g)\n",
    "    pi_autocorr_sq = abs(var_set_vals[4]-pi_autocorr_g)\n",
    "    \n",
    "    return np.sum(np.array([y_var_sq,pi_var_sq,ypi_corr_sq,y_autocorr_sq,pi_autocorr_sq]))\n",
    "\n",
    "def min_corr(num,par,phi):\n",
    "    return (var_set(num,par,phi,par['sigma_x'],par['sigma_c'])[2]-0.31)**2\n",
    "\n",
    "def obj_fun(inputs,*args):\n",
    "    x,y,z = inputs\n",
    "    return min_dist(x,y,z,*args)\n",
    "\n",
    "x0 = [par['phi'],par['sigma_x'],par['sigma_c']]\n",
    "\n",
    "bnds = [(0,1),(0,np.inf),(0,np.inf)]\n",
    "\n",
    "result = optimize.minimize(obj_fun,x0,args=(num,par),method='SLSQP',bounds=bnds)\n",
    "result\n",
    "\n",
    "result.x\n",
    "\n",
    "#var_set(num,par,phi_res,x_res,c_res)\n",
    "#print(curr_opt, opt_par) \n",
    "\n",
    "\n",
    "# Result w/ original parameters\n",
    "#var_set(num,par,result.x[0],result.x[1],result.x[2])"
   ]
  },
  {
   "cell_type": "code",
   "execution_count": 190,
   "metadata": {},
   "outputs": [],
   "source": [
    "def collect(x):\n",
    "    \n",
    "    global fun\n",
    "    global phi_vals\n",
    "    global sigma_x_vals\n",
    "    global evals\n",
    "    \n",
    "    if evals == 0:\n",
    "        fun = []\n",
    "        fun.append(obj_fun(x0))\n",
    "        phi_vals = []\n",
    "        phi_vals.append(x0[0])\n",
    "        sigma_x_vals = []\n",
    "        sigma_x_vals.append(x0[1])\n",
    "        \n",
    "    if evals != 0:\n",
    "        fun.append(obj_fun(x))\n",
    "        phi_vals.append(x[0])\n",
    "        sigma_x_vals.append(x[1])\n",
    "    \n",
    "    evals += 1\n",
    "\n",
    "np.random.seed(seed)\n",
    "\n",
    "\n",
    "s = s_series(num,par,par['sigma_c'])\n",
    "    \n",
    "def test_5(num,par,phi_val,sigma_x,s):\n",
    "    \n",
    "    v = v_series(num,par,sigma_x)\n",
    "    \n",
    "    y = np.zeros(num)\n",
    "    pi = np.zeros(num)\n",
    "    \n",
    "    for i in range(1,num):\n",
    "        y[i] = sol_y_func(v[i],s[i],pi[i-1],y[i-1],s[i-1],phi=phi_val)\n",
    "        pi[i] = sol_pi_func(v[i],s[i],y[i],pi[i-1],y[i-1],s[i-1],phi=phi_val)\n",
    "        \n",
    "    v1 = np.corrcoef(y,pi)[0,1]\n",
    "    #v2 = np.corrcoef(y[:-1],y[1:])[0,1]\n",
    "    \n",
    "    return v1\n",
    "\n",
    "def obj_fun(x):\n",
    "    phi= x[0]\n",
    "    sigma_x = x[1]\n",
    "    vals = test_5(num,par,phi,sigma_x,s)\n",
    "    v1 = (vals-0.31)**2\n",
    "    #v2 = (vals[1]-0.84)**2\n",
    "    v2 = 0\n",
    "    \n",
    "    return np.sum(np.array([v1]))\n",
    "\n",
    "x0 = [.1,.1]\n",
    "evals = 0\n",
    "\n",
    "result = optimize.minimize(obj_fun,x0,method='Nelder-Mead',options={'maxiter':3000})"
   ]
  }
 ],
 "metadata": {
  "kernelspec": {
   "display_name": "Python 3",
   "language": "python",
   "name": "python3"
  },
  "language_info": {
   "codemirror_mode": {
    "name": "ipython",
    "version": 3
   },
   "file_extension": ".py",
   "mimetype": "text/x-python",
   "name": "python",
   "nbconvert_exporter": "python",
   "pygments_lexer": "ipython3",
   "version": "3.7.3"
  }
 },
 "nbformat": 4,
 "nbformat_minor": 2
}
