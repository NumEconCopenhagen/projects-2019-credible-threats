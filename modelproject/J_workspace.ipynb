{
 "cells": [
  {
   "cell_type": "code",
   "execution_count": 9,
   "metadata": {},
   "outputs": [],
   "source": [
    "# Importing packages\n",
    "import matplotlib.pyplot as plt\n",
    "import pandas as pd\n",
    "import ipywidgets as widgets\n",
    "import numpy as np\n",
    "import itertools\n",
    "from ipywidgets import Layout\n",
    "import seaborn as sns\n",
    "import math\n",
    "\n",
    "import time\n",
    "from scipy import linalg\n",
    "import scipy.optimize as optimize\n",
    "import sympy as sm\n",
    "\n",
    "from tkinter import *\n",
    "import tkinter as tk\n",
    "\n",
    "from data_gen import gen_df \n"
   ]
  },
  {
   "cell_type": "markdown",
   "metadata": {},
   "source": [
    "In this project, we want to try to estimate the ratings of movies. That is, we well calculate the utility of a movie, given genres, duration, awards and so forth, and we will try to calculate the IMDB ratings for each movie, based on this utility. Finally, we will then minimize the distance between our estimated ratings and the actual ratings. \n",
    "\n",
    "Our utility function is given by: \n",
    "$$ U_i = \\sum_{k=1}^{23}(\\alpha_k G_{ik}) + \\sum_{k=1920}^{2010} (\\beta_k D_{ik}) + \\gamma N_i + \\delta W_i + \\rho_1 L_i + \\rho_2 L_i^2 $$. \n",
    "\n",
    "Based on this utility function, we will estimate the ratings of each movies,\n",
    "$$ R_i^{model} = \\frac{\\exp(\\omega x_i)}{1 + \\exp(\\omega x_i)} $$ \n",
    "\n",
    "where, \n",
    "$$ x_i = \\big[G_1, G_2, ..., G_n, D_{1920}, D_{1930}, ..., D_{2010}, N_i, W_i, L_i, L_i^2 \\big] $$\n",
    "$$ \\omega = \\big[\\alpha_1, \\alpha_2, ..., \\alpha_{23}, \\beta_{1920}, \\beta_{1930}, ..., \\beta_{2010}, \\gamma, \\delta, \\rho_1, \\rho_2  \\big] $$\n",
    "\n",
    "We then use optimize methods to solve the following: \n",
    "\n",
    "$$ \\min_{\\omega} \\Big\\{ \\sum_{i=1}^{n} \\left( R_i^{model} - R_i^{data} \\right)^2 \\Big\\} $$\n"
   ]
  },
  {
   "cell_type": "markdown",
   "metadata": {},
   "source": [
    "### The following code will optimize for each decade and plot all estimates\n",
    "\n"
   ]
  },
  {
   "cell_type": "code",
   "execution_count": 10,
   "metadata": {},
   "outputs": [],
   "source": [
    "decade_list = [1920, 1930, 1940, 1950, 1960, 1970, 1980, 1990, 2000, 2010]\n",
    "\n",
    "vars = ['Action','Adventure','Animation','Biography','Comedy','Crime','Documentary',\n",
    "        'Drama','Family','Fantasy','FilmNoir','History','Horror','Music','Musical',\n",
    "        'Mystery','Romance','SciFi','Short','Sport','Thriller','War','Western',\n",
    "        'nrOfNominations','nrOfWins','duration']\n"
   ]
  },
  {
   "cell_type": "code",
   "execution_count": 11,
   "metadata": {},
   "outputs": [],
   "source": [
    "def df_dec(decade):\n",
    "    global df\n",
    "    global decade_list\n",
    "\n",
    "    filename = 'imdb.csv'\n",
    "\n",
    "    df = gen_df(filename)\n",
    "\n",
    "    df = df.loc[(df['ratingCount']>=5000)]\n",
    "    df.drop(columns=['Adult','GameShow','News','RealityTV','TalkShow'], inplace=True)\n",
    "\n",
    "    df = df.loc[df['decade'] == f'{decade}s']\n",
    "    \n",
    "    df_X = df.copy()\n",
    "    df_Y = pd.DataFrame(df['imdbRating'].copy())\n",
    "    df_Y.rename(columns = {'imdbRating':'rat_data'}, inplace=True)\n",
    "\n",
    "    drops = ['index', 'tid', 'title', 'imdbRating', 'ratingCount', 'year', \n",
    "             'nrOfGenre', 'nrOfPhotos', 'nrOfNewsArticles',  'nrOfUserReviews']\n",
    "\n",
    "    for i in drops:\n",
    "        df_X.drop(columns=[i], inplace=True)\n",
    "\n",
    "    # Rearrange columns\n",
    "    df_X = df_X.reindex(['Action','Adventure','Animation','Biography','Comedy','Crime','Documentary',\n",
    "                              'Drama','Family','Fantasy','FilmNoir','History','Horror','Music','Musical',\n",
    "                              'Mystery','Romance','SciFi','Short','Sport','Thriller','War','Western',\n",
    "                              'nrOfNominations','nrOfWins','duration'], axis=1)\n",
    "    \n",
    "    return df_X, df_Y\n"
   ]
  },
  {
   "cell_type": "code",
   "execution_count": 12,
   "metadata": {},
   "outputs": [
    {
     "name": "stdout",
     "output_type": "stream",
     "text": [
      "Optimization terminated successfully.\n",
      "         Current function value: 5.649208\n",
      "         Iterations: 10176\n",
      "         Function evaluations: 12236\n",
      "Optimization terminated successfully.\n",
      "         Current function value: 20.618022\n",
      "         Iterations: 7768\n",
      "         Function evaluations: 9337\n",
      "Optimization terminated successfully.\n",
      "         Current function value: 23.340167\n",
      "         Iterations: 7874\n",
      "         Function evaluations: 9474\n",
      "Optimization terminated successfully.\n",
      "         Current function value: 81.101081\n",
      "         Iterations: 11566\n",
      "         Function evaluations: 13883\n",
      "Optimization terminated successfully.\n",
      "         Current function value: 114.676976\n",
      "         Iterations: 7507\n",
      "         Function evaluations: 9034\n",
      "Optimization terminated successfully.\n",
      "         Current function value: 165.183683\n",
      "         Iterations: 6818\n",
      "         Function evaluations: 8234\n",
      "Optimization terminated successfully.\n",
      "         Current function value: 401.211190\n",
      "         Iterations: 7408\n",
      "         Function evaluations: 8973\n",
      "Optimization terminated successfully.\n",
      "         Current function value: 698.471642\n",
      "         Iterations: 11452\n",
      "         Function evaluations: 13733\n",
      "Optimization terminated successfully.\n",
      "         Current function value: 1164.868912\n",
      "         Iterations: 7780\n",
      "         Function evaluations: 9371\n",
      "Optimization terminated successfully.\n",
      "         Current function value: 412.781524\n",
      "         Iterations: 9187\n",
      "         Function evaluations: 11048\n",
      "123.40092 seconds\n"
     ]
    }
   ],
   "source": [
    "def optimizer_dec():\n",
    "    global fs\n",
    "    global evals\n",
    "    global x0\n",
    "    global df\n",
    "    \n",
    "    def sqr_diff_sum(df_X,pars):\n",
    "        util = df_X@pars\n",
    "        df_Y['rat_model'] = 10*np.exp(util)/(1+np.exp(util))\n",
    "        df_Y['sqr_diff'] = (df_Y['rat_model']-df_Y['rat_data'])**2\n",
    "        return df_Y['sqr_diff'].sum()\n",
    "\n",
    "    # Scipy minimize\n",
    "    def zeros(n): \n",
    "        list = [0] * n\n",
    "        return list \n",
    "\n",
    "            \n",
    "    decade_list = [1920, 1930, 1940, 1950, 1960, 1970, 1980, 1990, 2000, 2010]\n",
    "    \n",
    "    result = []\n",
    "    \n",
    "    for decade in decade_list:      \n",
    "        df_X, df_Y = df_dec(decade)\n",
    "        x0 = zeros(len(vars))\n",
    "        evals = 0   \n",
    "    \n",
    "        obj_fun = lambda x: sqr_diff_sum(df_X,x)\n",
    "        \n",
    "        result_i = optimize.minimize(obj_fun,x0,\n",
    "                               method='Nelder-Mead',\n",
    "                               options={\"disp\":True, \"maxiter\":50000}, # display the results\n",
    "                               );\n",
    "        \n",
    "        result.append(list(result_i.x))\n",
    "                      \n",
    "    return result\n",
    "\n",
    "t0 = time.time()\n",
    "result_dec = optimizer_dec()\n",
    "t1 = time.time()    \n",
    "print(f'{t1-t0:.8} seconds')\n",
    "\n",
    "\n",
    "\n",
    "\n",
    "#optimizer_dec()\n",
    "# BFGS\n",
    "#print(result.x)"
   ]
  },
  {
   "cell_type": "code",
   "execution_count": 16,
   "metadata": {},
   "outputs": [
    {
     "data": {
      "application/vnd.jupyter.widget-view+json": {
       "model_id": "47053a81cf7b453897868fee9f524bca",
       "version_major": 2,
       "version_minor": 0
      },
      "text/plain": [
       "interactive(children=(Dropdown(description='Input', options=('Action', 'Adventure', 'Animation', 'Biography', …"
      ]
     },
     "metadata": {},
     "output_type": "display_data"
    },
    {
     "name": "stdout",
     "output_type": "stream",
     "text": [
      "['Action', 'Adventure', 'Animation', 'Biography', 'Comedy', 'Crime', 'Documentary', 'Drama', 'Family', 'Fantasy', 'FilmNoir', 'History', 'Horror', 'Music', 'Musical', 'Mystery', 'Romance', 'SciFi', 'Short', 'Sport', 'Thriller', 'War', 'Western', 'nrOfNominations', 'nrOfWins', 'duration']\n"
     ]
    }
   ],
   "source": [
    "result_dec_mod = []\n",
    "for j,var in enumerate(vars):\n",
    "    temp = []\n",
    "    for i,dec in enumerate(decade_list):\n",
    "        temp.append(result_dec[i][j])\n",
    "    \n",
    "    result_dec_mod.append(temp)    \n",
    "\n",
    "\n",
    "    \n",
    "def fig(var):\n",
    "    # Plotting the number of movies per year\n",
    "    fig = plt.figure(figsize=(12,6))\n",
    "    ax1 = fig.add_subplot(1,2,1)\n",
    "    ax2 = fig.add_subplot(1,2,2)\n",
    "    \n",
    "    ax1.bar(decade_list, result_dec_mod[vars.index(var)],width=6)\n",
    "\n",
    "    ax1.set_ylabel('TBA')\n",
    "    ax1.set_title(f'Nelder-Mead')\n",
    "    #ax1.set_ylim([0,y_max])\n",
    "    ax1.set_xticks(decade_list)\n",
    "    ax1.axhline(y=0,color='black',linewidth=1)\n",
    "    \n",
    "widgets.interact(fig,\n",
    "    var = widgets.Dropdown(description='Input', value='Action', options=vars, \n",
    "                ),\n",
    ");    \n"
   ]
  },
  {
   "cell_type": "code",
   "execution_count": 8,
   "metadata": {},
   "outputs": [
    {
     "name": "stdout",
     "output_type": "stream",
     "text": [
      "25\n"
     ]
    }
   ],
   "source": [
    "print(vars.index('duration'))"
   ]
  },
  {
   "cell_type": "code",
   "execution_count": null,
   "metadata": {},
   "outputs": [],
   "source": []
  }
 ],
 "metadata": {
  "kernelspec": {
   "display_name": "Python 3",
   "language": "python",
   "name": "python3"
  },
  "language_info": {
   "codemirror_mode": {
    "name": "ipython",
    "version": 3
   },
   "file_extension": ".py",
   "mimetype": "text/x-python",
   "name": "python",
   "nbconvert_exporter": "python",
   "pygments_lexer": "ipython3",
   "version": "3.7.1"
  }
 },
 "nbformat": 4,
 "nbformat_minor": 2
}
