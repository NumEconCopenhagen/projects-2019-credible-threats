{
 "cells": [
  {
   "cell_type": "code",
   "execution_count": 3,
   "metadata": {},
   "outputs": [],
   "source": [
    "# Importing packages\n",
    "import matplotlib.pyplot as plt\n",
    "import pandas as pd\n",
    "import ipywidgets as widgets\n",
    "import numpy as np\n",
    "from ipywidgets import Layout\n",
    "import seaborn as sns\n",
    "import math\n",
    "\n",
    "import time\n",
    "from scipy import linalg\n",
    "from scipy import optimize\n",
    "import sympy as sm\n",
    "\n",
    "from tkinter import *\n",
    "import tkinter as tk"
   ]
  },
  {
   "cell_type": "code",
   "execution_count": 4,
   "metadata": {},
   "outputs": [],
   "source": [
    "## Importing and cleaning the data \n",
    "\n",
    "filename = 'imdb.csv'\n",
    "\n",
    "## Defining the function to import and clean the data\n",
    "def gen_df(filename):\n",
    "    \"\"\" Returns a pandas dataframe containing information about movies from the IMDB database \n",
    "\n",
    "    Args:\n",
    "    filename (csv-file): The csv-file have to be the file imdb.csv\n",
    "\n",
    "    Returns:\n",
    "    A pandas dataframe\n",
    "\n",
    "    Notice:\n",
    "    The function will not work if other files than imdb.csv are used as input \"\"\"\n",
    "        \n",
    "    # Get .csv.file\n",
    "    data = pd.read_csv(filename, sep=';', encoding='latin-1', escapechar='\\\\')\n",
    "\n",
    "    # Read file into pandas dataframe\n",
    "    df = pd.DataFrame(data)\n",
    "\n",
    "    # Drop unwanted columns\n",
    "    for i in range(44,48):\n",
    "        df.drop(columns=[f'Unnamed: {i}'], inplace=True)\n",
    "    df.drop(columns=['fn','wordsInTitle','url'], inplace=True)\n",
    "\n",
    "    # Keep only observations of 'movie'-type\n",
    "    I = df['type'] == 'video.movie'\n",
    "    df = df.loc[I]\n",
    "    df.drop(columns=['type'], inplace=True)\n",
    "\n",
    "    # Drop movies with missing observations\n",
    "    df.dropna(inplace=True)\n",
    "\n",
    "    # During the importing process, the first decimal has become 0 for all movies.\n",
    "    # Thus, we replace \"0\"'s with \"\"\n",
    "    df['imdbRating'] = df['imdbRating'].astype(str)\n",
    "    df['imdbRating'].replace(regex=True, inplace=True,to_replace='0',value='')\n",
    "    df['imdbRating'] = df['imdbRating'].astype(float)\n",
    "\n",
    "    # Transform duration from seconds to hours\n",
    "    df['duration'] = df['duration']/60**2\n",
    "\n",
    "    # Drop years before 1920 and the year 2014 because of few obervations\n",
    "    I = (df['year']>=1920) & (df['year']<=2013)\n",
    "    df = df.loc[I]\n",
    "\n",
    "    # Change the type of 'year' to integer\n",
    "    df['year'] = df['year'].astype(int)    \n",
    "    \n",
    "    # Sort observations and reset index\n",
    "    df.sort_values('year', inplace=True)\n",
    "    df.reset_index(inplace=True)\n",
    "\n",
    "    # Generating a variable that shows the decade (as a string)\n",
    "    year_list = [1920, 1930, 1940, 1950, 1960, 1970, 1980, 1990, 2000, 2010]\n",
    "\n",
    "    df['decade'] = ''\n",
    "    for i,start in enumerate(year_list):\n",
    "        end = start+10\n",
    "        df.loc[(df['year'] >= start) & (df['year'] < end), 'decade'] = f'{year_list[i]}s'\n",
    "\n",
    "    return df\n",
    "\n",
    "df = gen_df(filename)"
   ]
  },
  {
   "cell_type": "code",
   "execution_count": 35,
   "metadata": {},
   "outputs": [
    {
     "data": {
      "image/png": "[encoded data removed]",
      "text/latex": [
       "$$G_{ki} \\alpha_{k} n$$"
      ],
      "text/plain": [
       "Gₖᵢ⋅αₖ⋅n"
      ]
     },
     "execution_count": 35,
     "metadata": {},
     "output_type": "execute_result"
    }
   ],
   "source": [
    "## Pretty Printing our functions \n",
    "\n",
    "# Defining symbols \n",
    "sm.init_printing(use_unicode=True) # for pretty printing\n",
    "\n",
    "# Parameters\n",
    "alphak = sm.symbols(\"alpha_k\")\n",
    "betak = sm.symbols(\"beta_k\")\n",
    "delta = sm.symbols(\"delta\")\n",
    "gamma = sm.symbols(\"gamma\")\n",
    "rho1 = sm.symbols(\"rho_1\")\n",
    "rho2 = sm.symbols(\"rho_2\")\n",
    "omega = sm.symbols(\"omega\")\n",
    "\n",
    "#Variables\n",
    "Ui = sm.symbols(\"U_i\")\n",
    "Gki = sm.symbols(\"G_ki\")\n",
    "Dki = sm.symbols(\"D_ki\")\n",
    "Ni = sm.symbols(\"N_i\")\n",
    "Wi = sm.symbols(\"W_i\")\n",
    "Li = sm.symbols(\"L_i\")\n",
    "Li_sqr = sm.symbols(\"L_i^2\")\n",
    "Ri_model = sm.symbols(\"R_i^model\")\n",
    "Ri_data = sm.symbols(\"R_i^data\")\n",
    "x = sm.symbols(\"x\")\n",
    "\n",
    "k = sm.symbols(\"k\")\n",
    "n = sm.symbols(\"n\")\n",
    "\n",
    "\n",
    "# Functions\n",
    "sm.summation(alphak*Gki, (k, 1, n))\n",
    "\n",
    "\n",
    "\n",
    "# sm.init_printing(use_unicode=False)"
   ]
  },
  {
   "cell_type": "code",
   "execution_count": 43,
   "metadata": {},
   "outputs": [
    {
     "data": {
      "text/plain": [
       "'$\\\\alpha_i > \\\\beta_i$'"
      ]
     },
     "execution_count": 43,
     "metadata": {},
     "output_type": "execute_result"
    }
   ],
   "source": []
  },
  {
   "cell_type": "code",
   "execution_count": null,
   "metadata": {},
   "outputs": [],
   "source": []
  }
 ],
 "metadata": {
  "kernelspec": {
   "display_name": "Python 3",
   "language": "python",
   "name": "python3"
  },
  "language_info": {
   "codemirror_mode": {
    "name": "ipython",
    "version": 3
   },
   "file_extension": ".py",
   "mimetype": "text/x-python",
   "name": "python",
   "nbconvert_exporter": "python",
   "pygments_lexer": "ipython3",
   "version": "3.7.1"
  }
 },
 "nbformat": 4,
 "nbformat_minor": 2
}
