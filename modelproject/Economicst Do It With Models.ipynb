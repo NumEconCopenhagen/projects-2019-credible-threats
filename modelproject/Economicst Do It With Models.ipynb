{
 "cells": [
  {
   "cell_type": "code",
   "execution_count": 3,
   "metadata": {},
   "outputs": [],
   "source": [
    "# Importing packages\n",
    "import matplotlib.pyplot as plt\n",
    "import pandas as pd\n",
    "import ipywidgets as widgets\n",
    "import numpy as np\n",
    "from ipywidgets import Layout\n",
    "import seaborn as sns\n",
    "import math\n",
    "\n",
    "import time\n",
    "from scipy import linalg\n",
    "from scipy import optimize\n",
    "import sympy as sm\n",
    "\n",
    "from tkinter import *\n",
    "import tkinter as tk"
   ]
  },
  {
   "cell_type": "code",
   "execution_count": 4,
   "metadata": {},
   "outputs": [],
   "source": [
    "## Importing and cleaning the data \n",
    "\n",
    "filename = 'imdb.csv'\n",
    "\n",
    "## Defining the function to import and clean the data\n",
    "def gen_df(filename):\n",
    "    \"\"\" Returns a pandas dataframe containing information about movies from the IMDB database \n",
    "\n",
    "    Args:\n",
    "    filename (csv-file): The csv-file have to be the file imdb.csv\n",
    "\n",
    "    Returns:\n",
    "    A pandas dataframe\n",
    "\n",
    "    Notice:\n",
    "    The function will not work if other files than imdb.csv are used as input \"\"\"\n",
    "        \n",
    "    # Get .csv.file\n",
    "    data = pd.read_csv(filename, sep=';', encoding='latin-1', escapechar='\\\\')\n",
    "\n",
    "    # Read file into pandas dataframe\n",
    "    df = pd.DataFrame(data)\n",
    "\n",
    "    # Drop unwanted columns\n",
    "    for i in range(44,48):\n",
    "        df.drop(columns=[f'Unnamed: {i}'], inplace=True)\n",
    "    df.drop(columns=['fn','wordsInTitle','url'], inplace=True)\n",
    "\n",
    "    # Keep only observations of 'movie'-type\n",
    "    I = df['type'] == 'video.movie'\n",
    "    df = df.loc[I]\n",
    "    df.drop(columns=['type'], inplace=True)\n",
    "\n",
    "    # Drop movies with missing observations\n",
    "    df.dropna(inplace=True)\n",
    "\n",
    "    # During the importing process, the first decimal has become 0 for all movies.\n",
    "    # Thus, we replace \"0\"'s with \"\"\n",
    "    df['imdbRating'] = df['imdbRating'].astype(str)\n",
    "    df['imdbRating'].replace(regex=True, inplace=True,to_replace='0',value='')\n",
    "    df['imdbRating'] = df['imdbRating'].astype(float)\n",
    "\n",
    "    # Transform duration from seconds to hours\n",
    "    df['duration'] = df['duration']/60**2\n",
    "\n",
    "    # Drop years before 1920 and the year 2014 because of few obervations\n",
    "    I = (df['year']>=1920) & (df['year']<=2013)\n",
    "    df = df.loc[I]\n",
    "\n",
    "    # Change the type of 'year' to integer\n",
    "    df['year'] = df['year'].astype(int)    \n",
    "    \n",
    "    # Sort observations and reset index\n",
    "    df.sort_values('year', inplace=True)\n",
    "    df.reset_index(inplace=True)\n",
    "\n",
    "    # Generating a variable that shows the decade (as a string)\n",
    "    year_list = [1920, 1930, 1940, 1950, 1960, 1970, 1980, 1990, 2000, 2010]\n",
    "\n",
    "    df['decade'] = ''\n",
    "    for i,start in enumerate(year_list):\n",
    "        end = start+10\n",
    "        df.loc[(df['year'] >= start) & (df['year'] < end), 'decade'] = f'{year_list[i]}s'\n",
    "\n",
    "    return df\n",
    "\n",
    "df = gen_df(filename)"
   ]
  },
  {
   "cell_type": "markdown",
   "metadata": {},
   "source": [
    "In this project, we want to try to estimate the ratings of movies. That is, we well calculate the utility of a movie, given genres, duration, awards and so forth, and we will try to calculate the IMDB ratings for each movie, based on this utility. Finally, we will then minimize the distance between our estimated ratings and the actual ratings. \n",
    "\n",
    "Our utility function is given by: \n",
    "$$ U_i = \\sum_{k=1}^{23}(\\alpha_k G_{ik}) + \\sum_{k=1920}^{2010} \\beta_k D_{ik} + \\gamma N_i + \\delta W_i + \\rho_1 L_i + \\rho_2 L_i^2 $$. \n",
    "\n",
    "Based on this utility function, we will estimate the ratings of each movies,\n",
    "$$ R_i^{model} = \\frac{\\exp(\\omega x_i)}{1 + \\exp(\\omega x_i)} $$ \n",
    "\n",
    "where, \n",
    "$$ x = \\big[G_1, G_2, ..., G_n, D_{1920}, D_{1930}, ..., D_{2010}, N_i, W_i, L_i, L_i^2 \\big] $$\n",
    "$$ \\omega = \\big[\\alpha_1, \\alpha_2, ..., \\alpha_{23}, \\beta_{1920}, \\beta_{1930}, \\beta_{2010}, \\gamma, \\delta, \\rho_1, \\rho_2  \\big] $$\n",
    "\n",
    "We then use optimize methods to solve the following: \n",
    "\n",
    "$$ \\min_{\\omega} \\Big\\{ \\sum_{i=1}^{n} \\left( R_i^{model} - R_i^{data} \\right)^2 \\Big\\} $$\n"
   ]
  },
  {
   "cell_type": "code",
   "execution_count": 45,
   "metadata": {},
   "outputs": [
    {
     "data": {
      "image/png": "[encoded data removed]",
      "text/latex": [
       "$$G_{ki} \\alpha_{k} n = 0$$"
      ],
      "text/plain": [
       "Gₖᵢ⋅αₖ⋅n = 0"
      ]
     },
     "execution_count": 45,
     "metadata": {},
     "output_type": "execute_result"
    }
   ],
   "source": []
  },
  {
   "cell_type": "markdown",
   "metadata": {},
   "source": []
  },
  {
   "cell_type": "code",
   "execution_count": null,
   "metadata": {},
   "outputs": [],
   "source": []
  }
 ],
 "metadata": {
  "kernelspec": {
   "display_name": "Python 3",
   "language": "python",
   "name": "python3"
  },
  "language_info": {
   "codemirror_mode": {
    "name": "ipython",
    "version": 3
   },
   "file_extension": ".py",
   "mimetype": "text/x-python",
   "name": "python",
   "nbconvert_exporter": "python",
   "pygments_lexer": "ipython3",
   "version": "3.7.1"
  }
 },
 "nbformat": 4,
 "nbformat_minor": 2
}
