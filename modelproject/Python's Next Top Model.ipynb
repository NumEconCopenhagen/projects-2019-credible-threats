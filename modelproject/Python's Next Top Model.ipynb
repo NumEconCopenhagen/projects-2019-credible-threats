{
 "cells": [
  {
   "cell_type": "markdown",
   "metadata": {},
   "source": [
    "# Python's Next Top Model\n",
    "By The Good, The Bad and the Ugly aka. The Three Musketeers."
   ]
  },
  {
   "cell_type": "markdown",
   "metadata": {},
   "source": [
    "Welcome back to the wonderful Python universe of Credible Threats. We will continue the exploration of movies, and we're sure that our data project notebook will look at this notebook and think, *you complete me*. You might want to ask, *Magic mirror on the wall, who's the fairest one of all*, and the answer will be this notebook. This notebook will try to estimate the IMDb ratings of movies. And as a bonus, we even have a live-updating figure, which will leave you thinking, *it's alive, it's alive*. \n",
    "\n",
    "We will calculate the utility of each movie, given genres, awards, duration and so forth, and we will try to calculate the IMDb ratings for each movie, based on this utility. Finally, we will minimize the distance between our estimated ratings and the actual IMDb ratings. Now, we're sure you're thinking, *show me the money*, so this is it. \n",
    "\n",
    "Our utility function is given by: \n",
    "$$ U_i = \\sum_{k=1}^{23}(\\alpha_k G_{ik}) + \\sum_{k=1920}^{2010} (\\beta_k D_{ik}) + \\gamma N_i + \\delta W_i + \\rho L_i $$. \n",
    "\n",
    "$$\\text{Where, } G_{ik} \\text{ is genre } k \\text{, } D_{ik} \\text{ is decade } k \\text{, } N_i \\text{ is nominations, } W_i \\text{ is number of wins and } L_i \\text{ is duration. } $$ \n",
    "\n",
    "I think we can agree, it is *beauty kills the beast*. \n",
    "Now, based on this utility function, we will estimate the ratings of each movies,\n",
    "$$ R_i^{model} = \\frac{\\exp(\\omega x_i')}{1 + \\exp(\\omega x_i')} $$ \n",
    "\n",
    "where, \n",
    "$$ x_i = \\big[G_1, G_2, ..., G_{23}, D_{1920}, D_{1930}, ..., D_{2010}, N_i, W_i, L_i \\big] $$\n",
    "$$ \\omega = \\big[\\alpha_1, \\alpha_2, ..., \\alpha_{23}, \\beta_{1920}, \\beta_{1930}, \\beta_{2010}, \\gamma, \\delta, \\rho_1 \\big] $$\n",
    "\n",
    "*Yippie-ki-yay, motherfucker*, it's that nice? \n",
    "\n",
    "We then use optimize methods to solve the following: \n",
    "$$ \\min_{\\omega} \\Big\\{ \\sum_{i=1}^{n} \\left( R_i^{model} - R_i^{data} \\right)^2 \\Big\\} $$\n",
    "\n",
    "where, \n",
    "$$ R_i^{model}$$ are the ratings from the dataset. \n",
    "\n",
    "\n",
    "Throughout our notebook, you might *feel the need - the need for speed*. But, *patience you must have, my young Padawan*, because optimizing takes time. \n",
    "\n",
    "*Of all the python notebooks in all the towns in all the world, you walk into ours*. How lucky you are, you'll soon see why. \n",
    "\n",
    "So, *say hello to my little friend*, Python's next top model.  \n",
    "Let's *get busy coding, or get busy dying*. \n"
   ]
  },
  {
   "cell_type": "code",
   "execution_count": 3,
   "metadata": {},
   "outputs": [],
   "source": [
    "# Importing packages\n",
    "import matplotlib.pyplot as plt\n",
    "import pandas as pd\n",
    "import ipywidgets as widgets\n",
    "import numpy as np\n",
    "import itertools\n",
    "from ipywidgets import Layout\n",
    "import math\n",
    "\n",
    "import time\n",
    "from scipy import linalg\n",
    "import scipy.optimize as optimize\n",
    "import sympy as sm"
   ]
  },
  {
   "cell_type": "code",
   "execution_count": 5,
   "metadata": {},
   "outputs": [],
   "source": [
    "# List for later use \n",
    "variables = ['Action','Adventure','Animation','Biography','Comedy','Crime','Documentary',\n",
    "            'Drama','Family','Fantasy','FilmNoir','History','Horror','Music','Musical',\n",
    "            'Mystery','Romance','SciFi','Short','Sport','Thriller','War','Western',\n",
    "            'decade_1920','decade_1930','decade_1940','decade_1950','decade_1960',\n",
    "            'decade_1970','decade_1980','decade_1990','decade_2000','decade_2010',\n",
    "            'nrOfNominations','nrOfWins','duration']\n",
    "\n",
    "vars_dec = ['Action','Adventure','Animation','Biography','Comedy','Crime','Documentary',\n",
    "        'Drama','Family','Fantasy','FilmNoir','History','Horror','Music','Musical',\n",
    "        'Mystery','Romance','SciFi','Short','Sport','Thriller','War','Western',\n",
    "        'nrOfNominations','nrOfWins','duration']\n",
    "\n",
    "decade_list = [1920, 1930, 1940, 1950, 1960, 1970, 1980, 1990, 2000, 2010]\n",
    "\n",
    "\n",
    "# Function to calculate squared mean differences \n",
    "\n",
    "# OBS: Tilføj evt. andre datadrames and variables (kommentar til Jake)\n",
    "def sqr_diff_sum(df_X,pars):\n",
    "    \"\"\" Generates a float of the sum of squared differences between the ratings from the data and the model. \n",
    "\n",
    "    Args: \n",
    "        df_X (DataFrame): DataFrame containing the variable in x for all observations.\n",
    "        pars (List): List of parameters in omega\n",
    "\n",
    "    Returns: \n",
    "        A float.\n",
    "    \"\"\"\n",
    "    # Calculate the matrix product between omega and X\n",
    "    util = df_X@pars  \n",
    "    # Scale the product so is between 0 and 10. This is the R_model\n",
    "    df_Y['rat_model'] = 10*np.exp(util)/(1+np.exp(util)) \n",
    "    # Calculate the squared difference between R_data and R_model\n",
    "    df_Y['sqr_diff'] = (df_Y['rat_model']-df_Y['rat_data'])**2 \n",
    "\n",
    "    return df_Y['sqr_diff'].sum() # Returns the sum of the squared differences"
   ]
  },
  {
   "cell_type": "markdown",
   "metadata": {},
   "source": [
    "## Solving the model"
   ]
  },
  {
   "cell_type": "code",
   "execution_count": null,
   "metadata": {},
   "outputs": [],
   "source": [
    "## SEBS kode med live-figur"
   ]
  },
  {
   "cell_type": "code",
   "execution_count": null,
   "metadata": {},
   "outputs": [],
   "source": [
    "## Idas kode med parameter convergens"
   ]
  },
  {
   "cell_type": "code",
   "execution_count": null,
   "metadata": {},
   "outputs": [],
   "source": [
    "## OBS: Følgende skal lige tjekkes igennem når SEB har sat kode ind (kommentar til Jake)\n",
    "\n",
    "def optimizer(keep_top=None):\n",
    "    global fs\n",
    "    global evals\n",
    "    global x0\n",
    "    global df\n",
    "    \n",
    "    def sqr_diff_sum(df_X,pars):\n",
    "        util = df_X@pars\n",
    "        df_Y['rat_model'] = 10*np.exp(util)/(1+np.exp(util))\n",
    "        df_Y['sqr_diff'] = (df_Y['rat_model']-df_Y['rat_data'])**2\n",
    "        return df_Y['sqr_diff'].sum()\n",
    "\n",
    "    # Scipy minimize\n",
    "    def zeros(n): \n",
    "        list = [0] * n\n",
    "        return list \n",
    "\n",
    "    df_X, df_Y = df_s(keep_top)\n",
    "    x0 = zeros(len(variables))\n",
    "    evals = 0\n",
    "    \n",
    "    obj_fun = lambda x: sqr_diff_sum(df_X,x)\n",
    "        \n",
    "    result = optimize.minimize(obj_fun,x0,\n",
    "                               method=\"Nelder-Mead\",\n",
    "                               options={\"disp\":True, \"maxiter\":50000}, # display the results\n",
    "                               ) \n",
    "\n",
    "    \n",
    "    return result\n",
    "\n",
    "results = [result.x] # Empty list to store results ######## OBS! ##########\n",
    "\n",
    "# This loop solve the model for the top 500, 1000, and 2000 movies\n",
    "for i in [500, 1000, 2000]:\n",
    "    res_temp = optimizer(keep_top=i)\n",
    "    temp = res_temp.x\n",
    "    results.append(temp) # Store the results in the 'results-list'"
   ]
  },
  {
   "cell_type": "code",
   "execution_count": 6,
   "metadata": {},
   "outputs": [
    {
     "data": {
      "application/vnd.jupyter.widget-view+json": {
       "model_id": "770d18bc9cd74c81996852302e891c47",
       "version_major": 2,
       "version_minor": 0
      },
      "text/plain": [
       "interactive(children=(Dropdown(description='Nr. of movies', options=('All', 500, 1000, 2000), value='All'), Ou…"
      ]
     },
     "metadata": {},
     "output_type": "display_data"
    },
    {
     "data": {
      "image/png": "[encoded data removed]",
      "text/plain": [
       "<Figure size 864x432 with 1 Axes>"
      ]
     },
     "metadata": {
      "needs_background": "light"
     },
     "output_type": "display_data"
    }
   ],
   "source": [
    "## The code creates an interactive plot of the estimated parameters for all variables. \n",
    "## In the interactive part you can choose between estimates when the model is solved \n",
    "## for all movies or just top top 500, 1000, or 2000 rated movies. \n",
    "\n",
    "def fig_2(val):\n",
    "    \"\"\" Generates a figure which plots estimated parameters for all variables.\n",
    "\n",
    "    Args: \n",
    "        val (string or int): Should be one of the elements in the options-list\n",
    "\n",
    "    Returns: \n",
    "        One interactive plot.  \n",
    "\n",
    "    Notice: \n",
    "        The function is generated so that it can be called using widgets.interact. \n",
    "        Thus, it is not intended to be used on its own. \n",
    "    \"\"\"    \n",
    "    fig = plt.figure(figsize=(12,6))\n",
    "    ax1 = fig.add_subplot(1,1,1)\n",
    "    \n",
    "    # Plots the estimated parameters for the chosen sample of movies\n",
    "    ax1.bar(vars2, results[options.index(val)], label=f'Estimates with {options[options.index(val)]} movies')\n",
    "    \n",
    "    # Scatter plot with the estimated paramters for the entire sample \n",
    "    ax1.scatter(vars2, results[0], marker='D', s=15, zorder=2, label='Estimates with all movies')\n",
    "    \n",
    "    # Legends and labels \n",
    "    ax1.legend(loc=\"lower right\")\n",
    "    ax1.set_ylabel('Parameter estimates')\n",
    "    ax1.set_title(f'Parameter estimates for {options[options.index(val)]} movies')\n",
    "    ax1.set_ylim([-0.7,0.7])\n",
    "    ax1.axhline(y=0,color='black',linewidth=1)\n",
    "    for tick in ax1.get_xticklabels():\n",
    "        tick.set_rotation(90)\n",
    "        \n",
    "options = ['All', 500, 1000, 2000] # Option list\n",
    "\n",
    "# Making the figure interactive so the estimates are shown for the chosen sample size \n",
    "widgets.interact(fig_2,\n",
    "    val = widgets.Dropdown(description='Nr. of movies', value='All', options=options, \n",
    "                ),\n",
    ");   "
   ]
  },
  {
   "cell_type": "markdown",
   "metadata": {},
   "source": [
    "## Robustness checks"
   ]
  },
  {
   "cell_type": "code",
   "execution_count": null,
   "metadata": {},
   "outputs": [],
   "source": [
    "## SEBS kode med et eller andet om hvor god modellen"
   ]
  },
  {
   "cell_type": "code",
   "execution_count": 2,
   "metadata": {},
   "outputs": [
    {
     "ename": "NameError",
     "evalue": "name 'decade_list' is not defined",
     "output_type": "error",
     "traceback": [
      "\u001b[0;31m---------------------------------------------------------------------------\u001b[0m",
      "\u001b[0;31mNameError\u001b[0m                                 Traceback (most recent call last)",
      "\u001b[0;32m<ipython-input-2-fcad45bf0326>\u001b[0m in \u001b[0;36m<module>\u001b[0;34m\u001b[0m\n\u001b[1;32m     56\u001b[0m \u001b[0;34m\u001b[0m\u001b[0m\n\u001b[1;32m     57\u001b[0m \u001b[0;31m# Call the optimize_dec function\u001b[0m\u001b[0;34m\u001b[0m\u001b[0;34m\u001b[0m\u001b[0;34m\u001b[0m\u001b[0m\n\u001b[0;32m---> 58\u001b[0;31m \u001b[0mresult_dec\u001b[0m \u001b[0;34m=\u001b[0m \u001b[0moptimizer_dec\u001b[0m\u001b[0;34m(\u001b[0m\u001b[0;34m)\u001b[0m\u001b[0;34m\u001b[0m\u001b[0;34m\u001b[0m\u001b[0m\n\u001b[0m",
      "\u001b[0;32m<ipython-input-2-fcad45bf0326>\u001b[0m in \u001b[0;36moptimizer_dec\u001b[0;34m()\u001b[0m\n\u001b[1;32m     38\u001b[0m \u001b[0;34m\u001b[0m\u001b[0m\n\u001b[1;32m     39\u001b[0m     \u001b[0;31m# Make a loop so the model is estimated for all ten decade\u001b[0m\u001b[0;34m\u001b[0m\u001b[0;34m\u001b[0m\u001b[0;34m\u001b[0m\u001b[0m\n\u001b[0;32m---> 40\u001b[0;31m     \u001b[0;32mfor\u001b[0m \u001b[0mdecade\u001b[0m \u001b[0;32min\u001b[0m \u001b[0mdecade_list\u001b[0m\u001b[0;34m:\u001b[0m\u001b[0;34m\u001b[0m\u001b[0;34m\u001b[0m\u001b[0m\n\u001b[0m\u001b[1;32m     41\u001b[0m         \u001b[0mdf_X\u001b[0m\u001b[0;34m,\u001b[0m \u001b[0mdf_Y\u001b[0m \u001b[0;34m=\u001b[0m \u001b[0mdf_dec\u001b[0m\u001b[0;34m(\u001b[0m\u001b[0mdecade\u001b[0m\u001b[0;34m)\u001b[0m \u001b[0;31m# Call the function to generate the two dataframes\u001b[0m\u001b[0;34m\u001b[0m\u001b[0;34m\u001b[0m\u001b[0m\n\u001b[1;32m     42\u001b[0m         \u001b[0mx0\u001b[0m \u001b[0;34m=\u001b[0m \u001b[0mnp\u001b[0m\u001b[0;34m.\u001b[0m\u001b[0mzeros\u001b[0m\u001b[0;34m(\u001b[0m\u001b[0mlen\u001b[0m\u001b[0;34m(\u001b[0m\u001b[0mvars\u001b[0m\u001b[0;34m)\u001b[0m\u001b[0;34m)\u001b[0m \u001b[0;31m# Starting values\u001b[0m\u001b[0;34m\u001b[0m\u001b[0;34m\u001b[0m\u001b[0m\n",
      "\u001b[0;31mNameError\u001b[0m: name 'decade_list' is not defined"
     ]
    }
   ],
   "source": [
    "## The following code produces the parameter estimates where the sample is restricted to all the decades,\n",
    "## one at the time. The function return a list which contains a list of the estimates for every decade.\n",
    "\n",
    "## OBS: The code will take about 3-4 minutes to run due to the model is estimated 10 times!!\n",
    "\n",
    "def optimizer_dec():\n",
    "    \"\"\" Generates a list containing 10 list with estimates of the model for every decade. \n",
    "    \n",
    "    Args: \n",
    "        No arguments are needed.\n",
    "        \n",
    "    Returns: \n",
    "        A list.\n",
    "        \n",
    "    Notice: \n",
    "        It will raise an error if the function are given an argument!\n",
    "    \"\"\"\n",
    "    \n",
    "    # Defining a function to calculate the sum of squared differences \n",
    "    # between the ratings from the data and from the model. \n",
    "    def sqr_diff_sum(df_X,pars):\n",
    "        \"\"\" Generates a float of the sum of squared differences between the ratings from the data and the model. \n",
    "\n",
    "        Args: \n",
    "            df_X (DataFrame): DataFrame containing the variable in x for all observations.\n",
    "            pars (List): List of parameters in omega\n",
    "\n",
    "        Returns: \n",
    "            A float.\n",
    "        \"\"\"\n",
    "        \n",
    "        util = df_X@pars  # Calculate the matrix product between omega and X\n",
    "        df_Y['rat_model'] = 10*np.exp(util)/(1+np.exp(util)) # Scale the product so is between 0 and 10. This is the R_model\n",
    "        df_Y['sqr_diff'] = (df_Y['rat_model']-df_Y['rat_data'])**2 # Calculate the squared difference between R_data and R_model\n",
    "        return df_Y['sqr_diff'].sum() # Returns the sum of the squared differences\n",
    "                \n",
    "    result = [] # Emty list to store the estimated parameters\n",
    "    \n",
    "    # Make a loop so the model is estimated for all ten decade\n",
    "    for decade in decade_list:      \n",
    "        df_X, df_Y = df_dec(decade) # Call the function to generate the two dataframes\n",
    "        x0 = np.zeros(len(vars_dec)) # Starting values \n",
    "    \n",
    "        obj_fun = lambda x: sqr_diff_sum(df_X,x) # The objective function -> sum of squared differences\n",
    "        \n",
    "        # Use Scipy optimizer to solve the model\n",
    "        result_i = optimize.minimize(obj_fun,x0,\n",
    "                               method='Nelder-Mead',\n",
    "                               options={\"disp\":True, \"maxiter\":50000}, # display the results\n",
    "                               );\n",
    "        \n",
    "        # Add the result for each deacde to the result-list\n",
    "        result.append(list(result_i.x)) \n",
    "                      \n",
    "    return result # Returns the result-list\n",
    "\n",
    "# Call the optimize_dec function\n",
    "result_dec = optimizer_dec()"
   ]
  },
  {
   "cell_type": "code",
   "execution_count": null,
   "metadata": {},
   "outputs": [],
   "source": [
    "## The following code produces a figure with the estimated parameters for each deacde for a chosen variable \n",
    "\n",
    "\n",
    "result_dec_mod = [] # Empty list to storage \n",
    "\n",
    "# The loop changes the order of the result-list so the \n",
    "# estimates are ordered by the variables and subordered by decade \n",
    "# insted of being ordered by decade and subordered by variables \n",
    "for j,var in enumerate(vars):\n",
    "    temp = []\n",
    "    for i,dec in enumerate(decade_list):\n",
    "        temp.append(result_dec[i][j])\n",
    "    \n",
    "    result_dec_mod.append(temp)    \n",
    "    \n",
    "# Defining a figure to plot the estimates \n",
    "def fig(var):\n",
    "    \"\"\" Generates a figure which plots estimated parameters for each decade for one variable \n",
    "\n",
    "    Args: \n",
    "        var (string): Should be one of the variables in the X-vector\n",
    "\n",
    "    Returns: \n",
    "        One interactive plot.  \n",
    "\n",
    "    Notice: \n",
    "        The function is generated so that it can be called using widgets.interact. \n",
    "        Thus, it is not intended to be used on its own. \n",
    "        \"\"\"\n",
    "    fig = plt.figure(figsize=(8,6))\n",
    "    ax1 = fig.add_subplot(1,1,1)\n",
    "    \n",
    "    \n",
    "    ax1.bar(decade_list, result_dec_mod[vars.index(var)],width=6)\n",
    "    \n",
    "    # Setting labels, ticks etc. \n",
    "    ax1.set_ylabel('Parameter estimates')\n",
    "    ax1.set_title(f'Parameter estimates for {var} per decade')\n",
    "    ax1.set_xticks(decade_list)\n",
    "    ax1.axhline(y=0,color='black',linewidth=1)\n",
    "\n",
    "# Making the figure interactive so the estimates are shown for the chosen variable \n",
    "widgets.interact(fig,\n",
    "    var = widgets.Dropdown(description='Variable', value='Action', options=vars, \n",
    "                ),\n",
    ");    "
   ]
  },
  {
   "cell_type": "markdown",
   "metadata": {},
   "source": [
    "## Conclusion..."
   ]
  }
 ],
 "metadata": {
  "kernelspec": {
   "display_name": "Python 3",
   "language": "python",
   "name": "python3"
  },
  "language_info": {
   "codemirror_mode": {
    "name": "ipython",
    "version": 3
   },
   "file_extension": ".py",
   "mimetype": "text/x-python",
   "name": "python",
   "nbconvert_exporter": "python",
   "pygments_lexer": "ipython3",
   "version": "3.7.3"
  }
 },
 "nbformat": 4,
 "nbformat_minor": 2
}
