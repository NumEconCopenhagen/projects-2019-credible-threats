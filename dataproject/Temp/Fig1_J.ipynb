{
 "cells": [
  {
   "cell_type": "code",
   "execution_count": 2,
   "metadata": {},
   "outputs": [
    {
     "data": {
      "application/vnd.jupyter.widget-view+json": {
       "model_id": "8b543edb71b4497ca1934401963519a4",
       "version_major": 2,
       "version_minor": 0
      },
      "text/plain": [
       "interactive(children=(Checkbox(value=True, description='0'), Checkbox(value=True, description='1-10'), Checkbo…"
      ]
     },
     "metadata": {},
     "output_type": "display_data"
    }
   ],
   "source": [
    "import numpy as np\n",
    "import matplotlib.pyplot as plt\n",
    "import pandas as pd\n",
    "import ipywidgets as widgets\n",
    "import seaborn as sns\n",
    "from data_gen import gen_df\n",
    "\n",
    "## Defining a function which plots the distribution of the IMDB rating conditioned on award wins\n",
    "def fig1_J():\n",
    "    \"\"\" Generates a figure which plots the distribution of the IMDB rating conditioned on award wins\n",
    "    \n",
    "    Args: \n",
    "        No arguments are needed.\n",
    "        \n",
    "    Returns: \n",
    "        An interactive plots\n",
    "        \n",
    "    Notice: \n",
    "        It will raise an error if the function are given an argument!\n",
    "    \"\"\"   \n",
    "    \n",
    "    ## Importing data and making new dataframe\n",
    "    filename = 'imdb.csv'\n",
    "    df = gen_df(filename)\n",
    "    imdb = df.copy()\n",
    "    \n",
    "    ## Creating variable that groups number of wins and a list with the intervals\n",
    "    imdb['nrw'] = 0\n",
    "    imdb.loc[(imdb['nrOfWins'] > 0) & (imdb['nrOfWins'] < 10), ['nrw']] = 1\n",
    "    imdb.loc[(imdb['nrOfWins'] >= 10) & (imdb['nrOfWins'] < 20), ['nrw']] = 2\n",
    "    imdb.loc[(imdb['nrOfWins'] >= 20) & (imdb['nrOfWins'] < 30), ['nrw']] = 3\n",
    "    imdb.loc[(imdb['nrOfWins'] >= 30) & (imdb['nrOfWins'] < 40), ['nrw']] = 4\n",
    "    imdb.loc[(imdb['nrOfWins'] >= 40), ['nrw']] = 5\n",
    "    \n",
    "    nrwins = ['0', '1-10', '11-20', '21-30', '31-40', '+40']\n",
    "\n",
    "    \n",
    "    ## Defining a function to plot the distribution of the IMDB rating condition on award wins\n",
    "    def fig(win_0, win_110, win_1120, win_2130, win_3140, win_40):\n",
    "        \"\"\" Generates a figure which plots which plots the \n",
    "        distribution of the IMDB rating conditioned on award wins\n",
    "        \n",
    "        Args: \n",
    "            win_0: Specifies whether to plot the distribution of ratings for movies with 0 wins \n",
    "            win_110: Specifies whether to plot the distribution of ratings for movies with 1-10 wins \n",
    "            win_1120: Specifies whether to plot the distribution of ratings for movies with 11-20 wins \n",
    "            win_2130: Specifies whether to plot the distribution of ratings for movies with 21-30 wins \n",
    "            win_3140: Specifies whether to plot the distribution of ratings for movies with 31-40 wins \n",
    "            win_40: Specifies whether to plot the distribution of ratings for movies with +40 wins \n",
    "           \n",
    "        Returns: \n",
    "            An interactive plot.  \n",
    "\n",
    "        Notice: \n",
    "            The function is generated so that it can be called using widgets.interact. \n",
    "            Thus, it is not intended to be used on its own. \n",
    "            \"\"\"         \n",
    "        \n",
    "        # Make lists to plot the win categories and give them colors\n",
    "        wins = [win_0, win_110, win_1120, win_2130, win_3140, win_40]\n",
    "        color = ['red', 'orange', 'yellow', 'lime', 'blue', 'purple']\n",
    "        \n",
    "        # Loop over win category to plot the distribution of their ratings\n",
    "        for i,val in enumerate(nrwins):\n",
    "            nrwins_i = imdb.loc[(imdb['nrw'] == i)]\n",
    "            if wins[i] == True:  # Only plot distribution if box is 'checked'\n",
    "                sns.distplot(nrwins_i['imdbRating'], hist = False, kde = True,\n",
    "                         kde_kws = {'linewidth': 2}, label = val, color=color[i]\n",
    "                     )\n",
    "        \n",
    "        # Legends and labels        \n",
    "        plt.legend(loc='upper left')\n",
    "        plt.title('IMDB rating conditioned on numbers of award wins')\n",
    "        plt.xlabel('IMDB rating')\n",
    "        plt.ylabel('Density')\n",
    "    \n",
    "    # Making the figure interactive so it is optinally which wins categories to plot\n",
    "    widgets.interact(fig,\n",
    "        win_0=widgets.Checkbox(description=nrwins[0], value=True, disabled=False),\n",
    "        win_110=widgets.Checkbox(description=nrwins[1], value=True, disabled=False),\n",
    "        win_1120=widgets.Checkbox(description=nrwins[2], value=True, disabled=False),\n",
    "        win_2130=widgets.Checkbox(description=nrwins[3], value=True, disabled=False),\n",
    "        win_3140=widgets.Checkbox(description=nrwins[4], value=True, disabled=False),\n",
    "        win_40=widgets.Checkbox(description=nrwins[5], value=True, disabled=False),\n",
    "    );\n",
    "\n",
    "fig1_J()"
   ]
  }
 ],
 "metadata": {
  "kernelspec": {
   "display_name": "Python 3",
   "language": "python",
   "name": "python3"
  },
  "language_info": {
   "codemirror_mode": {
    "name": "ipython",
    "version": 3
   },
   "file_extension": ".py",
   "mimetype": "text/x-python",
   "name": "python",
   "nbconvert_exporter": "python",
   "pygments_lexer": "ipython3",
   "version": "3.7.3"
  }
 },
 "nbformat": 4,
 "nbformat_minor": 2
}
