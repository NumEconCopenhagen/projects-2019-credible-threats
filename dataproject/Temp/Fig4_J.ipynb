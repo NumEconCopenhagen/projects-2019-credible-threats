{
 "cells": [
  {
   "cell_type": "code",
   "execution_count": 2,
   "metadata": {},
   "outputs": [
    {
     "data": {
      "application/vnd.jupyter.widget-view+json": {
       "model_id": "c11a55a70e5641a5836d9cdac16acb54",
       "version_major": 2,
       "version_minor": 0
      },
      "text/plain": [
       "interactive(children=(Checkbox(value=True, description='Median'), Checkbox(value=True, description='P75'), Out…"
      ]
     },
     "metadata": {},
     "output_type": "display_data"
    }
   ],
   "source": [
    "import numpy as np\n",
    "import matplotlib.pyplot as plt\n",
    "import pandas as pd\n",
    "import ipywidgets as widgets\n",
    "import seaborn as sns\n",
    "import math\n",
    "from data_gen import gen_df\n",
    "\n",
    "def fig4_J():\n",
    "    ## Importing data and making new dataframe\n",
    "    filename = 'imdb.csv'\n",
    "    df = gen_df(filename)\n",
    "    imdb = df.copy()\n",
    "    \n",
    "    ## Making variable that shows total numbers of award win per decade\n",
    "    imdb['nrOfWins_tot'] = imdb.groupby('decade')['nrOfWins'].transform(lambda x : x.sum())\n",
    "    \n",
    "    ## Generating variable that take a movies share of total win in the decade\n",
    "    imdb['nrOfWins_share'] = imdb['nrOfWins']/imdb['nrOfWins_tot']*100\n",
    "    \n",
    "    ## Taking the mean/median/P75 on the win share in each decade\n",
    "    imdb['nrOfWins_share_avg'] = imdb.groupby('decade')['nrOfWins_share'].transform(lambda x: x.mean())\n",
    "    imdb['nrOfWins_share_med'] = imdb.groupby('decade')['nrOfWins_share'].transform(lambda x: x.median())\n",
    "    imdb['nrOfWins_share_p75'] = imdb.groupby('decade')['nrOfWins_share'].transform(lambda x: np.percentile(x,95))\n",
    "\n",
    "\n",
    "    ## Generate variable that counts number of observation/movies in each year\n",
    "    imdb['temp']=1\n",
    "    imdb['tot_film'] = imdb.groupby('decade')['temp'].transform(lambda x : x.sum())\n",
    "    del imdb['temp']\n",
    "\n",
    "    ## Creating a new dataframe that have one observation per decade\n",
    "    y = pd.DataFrame(imdb.groupby('decade')['nrOfWins_tot'].first())\n",
    "    y['nrOfWins_share_avg'] = imdb.groupby('decade')['nrOfWins_share_avg'].first()\n",
    "    y['nrOfWins_share_med'] = imdb.groupby('decade')['nrOfWins_share_med'].first()\n",
    "    y['nrOfWins_share_p75'] = imdb.groupby('decade')['nrOfWins_share_p75'].first()\n",
    "    y['tot_film'] = imdb.groupby('decade')['tot_film'].first()\n",
    "    y.reset_index(inplace=True)\n",
    "\n",
    "    ## Plotting the total numbers of wins and movies and the average share of wins per decade\n",
    "    def fig(temp1, temp2):\n",
    "        fig = plt.figure(figsize=(14,6))\n",
    "\n",
    "        # Figure 1\n",
    "        ax1 = fig.add_subplot(1,2,1)\n",
    "        ax1.plot(y['decade'], y['nrOfWins_share_avg'], color='blue', label='Average share of wins')\n",
    "        if temp1 == True:\n",
    "            ax1.plot(y['decade'], y['nrOfWins_share_med'], color='blue', label='Median share of wins', linestyle='dashed')\n",
    "        ax1.set_ylim([0,0.7])\n",
    "        if temp2 == True:\n",
    "            ax1.plot(y['decade'], y['nrOfWins_share_p75'], color='blue', label='P75 share of wins', linestyle='dotted')\n",
    "            ax1.set_ylim([0,4])\n",
    "        ax1.legend(loc='upper right');\n",
    "        ax1.set_ylabel('Share of total award wins in the decade, pct.')\n",
    "        ax1.set_title(f'Average numbers of award wins normalized by total award wins')        \n",
    "        \n",
    "        # Figure 2\n",
    "        ax2 = fig.add_subplot(1,2,2)\n",
    "        ax2.plot(y['decade'], y['tot_film'], color='blue', label='Number of movies')\n",
    "        ax2.plot(y['decade'], y['nrOfWins_tot'], color='black', label='Numbers of award wins')\n",
    "        ax2.legend(loc='upper left');\n",
    "        ax2.set_ylabel('Numbers of movies/award wins')\n",
    "        ax2.set_title(f'Numbers of movies and award wins by decade, 1920-2013')\n",
    "\n",
    "    \n",
    "        # Interactive part: Making checkbox stat-types\n",
    "    widgets.interact(fig,\n",
    "        temp1=widgets.Checkbox(description='Median', value=True, disabled=False),\n",
    "        temp2=widgets.Checkbox(description='P75', value=True, disabled=False),\n",
    "    );\n",
    "fig4_J()"
   ]
  },
  {
   "cell_type": "code",
   "execution_count": null,
   "metadata": {},
   "outputs": [],
   "source": []
  }
 ],
 "metadata": {
  "kernelspec": {
   "display_name": "Python 3",
   "language": "python",
   "name": "python3"
  },
  "language_info": {
   "codemirror_mode": {
    "name": "ipython",
    "version": 3
   },
   "file_extension": ".py",
   "mimetype": "text/x-python",
   "name": "python",
   "nbconvert_exporter": "python",
   "pygments_lexer": "ipython3",
   "version": "3.7.3"
  }
 },
 "nbformat": 4,
 "nbformat_minor": 2
}
